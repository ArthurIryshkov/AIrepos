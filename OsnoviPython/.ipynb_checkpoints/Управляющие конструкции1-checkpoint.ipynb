{
 "cells": [
  {
   "cell_type": "markdown",
   "id": "dc16c4ae",
   "metadata": {},
   "source": [
    "- Задание 1."
   ]
  },
  {
   "cell_type": "code",
   "execution_count": 1,
   "id": "3a9798da",
   "metadata": {},
   "outputs": [
    {
     "name": "stdout",
     "output_type": "stream",
     "text": [
      "o\n"
     ]
    }
   ],
   "source": [
    "word = 'nethology'\n",
    "if len(word)%2 == 1:\n",
    "    print(word[len(word)//2])\n",
    "else:\n",
    "    print(word[len(word)//2 - 1] + word[len(word)//2]) "
   ]
  },
  {
   "cell_type": "markdown",
   "id": "505a1d05",
   "metadata": {},
   "source": [
    "- Задание 2."
   ]
  },
  {
   "cell_type": "code",
   "execution_count": 2,
   "id": "ac91ecd2",
   "metadata": {
    "scrolled": false
   },
   "outputs": [
    {
     "name": "stdout",
     "output_type": "stream",
     "text": [
      "3\n",
      "4\n",
      "7\n",
      "99\n",
      "0\n",
      "113\n"
     ]
    }
   ],
   "source": [
    "summa = 0\n",
    "n = int(input())\n",
    "while n != 0:\n",
    "    summa += n\n",
    "    n = int(input())\n",
    "print(summa)\n",
    "\n"
   ]
  },
  {
   "cell_type": "code",
   "execution_count": 3,
   "id": "8110b8c0",
   "metadata": {},
   "outputs": [
    {
     "name": "stdout",
     "output_type": "stream",
     "text": [
      "3\n",
      "4\n",
      "7\n",
      "99\n",
      "0\n",
      "113\n"
     ]
    }
   ],
   "source": [
    "my_list = []\n",
    "x = int(input())\n",
    "while x != 0:\n",
    "    my_list.append(x)\n",
    "    x = int(input())\n",
    "print (sum(my_list))"
   ]
  },
  {
   "cell_type": "markdown",
   "id": "ae280c4a",
   "metadata": {},
   "source": [
    "- Задание 3."
   ]
  },
  {
   "cell_type": "code",
   "execution_count": 4,
   "id": "9e01316d",
   "metadata": {},
   "outputs": [
    {
     "name": "stdout",
     "output_type": "stream",
     "text": [
      "Идеальные пары:\n",
      "Alex и Emma\n",
      "Arthur и Kate\n",
      "John и Kira\n",
      "Peter и Liza\n",
      "Richard и Trisha\n"
     ]
    }
   ],
   "source": [
    "boys = ['Peter', 'Alex', 'John', 'Arthur', 'Richard']\n",
    "girls = ['Kate', 'Liza', 'Kira', 'Emma', 'Trisha']\n",
    "b = sorted(boys)\n",
    "g = sorted(girls)\n",
    "if len(b) == len(g):\n",
    "    i = 0\n",
    "    j = 0\n",
    "    print('Идеальные пары:')\n",
    "    for name in b:\n",
    "        print (b[i], 'и', g[j])\n",
    "        i+=1\n",
    "        j+=1\n",
    "else:\n",
    "    print('Внимание, кто-то может остаться без пары!')"
   ]
  },
  {
   "cell_type": "markdown",
   "id": "e6d597be",
   "metadata": {},
   "source": [
    "- Задание 4."
   ]
  },
  {
   "cell_type": "code",
   "execution_count": 5,
   "id": "412c24cf",
   "metadata": {},
   "outputs": [
    {
     "name": "stdout",
     "output_type": "stream",
     "text": [
      "Thailand  -  23.9 C\n",
      "Germany  -  13.8 C\n",
      "Russia  -  3.7 C\n",
      "Poland  -  12.0 C\n"
     ]
    }
   ],
   "source": [
    "ct = [\n",
    "    ['Thailand', [75.2, 77, 78.8, 73.4, 68, 75.2, 77]],\n",
    "    ['Germany', [57.2, 55.4, 59, 59, 53.6]],\n",
    "    ['Russia', [35.6, 37.4, 39.2, 41, 42.8, 39.2, 35.6]],\n",
    "    ['Poland', [50, 50, 53.6, 57.2, 55.4, 55.4]]\n",
    "] \n",
    "j = 0\n",
    "for i in ct:\n",
    "    F = sum(ct[j][1])/len(ct[j][1])\n",
    "    C = (F-32)*5/9\n",
    "    print(ct[j][0], ' - ', '{:.1f}'.format(C), 'C')\n",
    "    j += 1"
   ]
  },
  {
   "cell_type": "code",
   "execution_count": null,
   "id": "c337c72c",
   "metadata": {},
   "outputs": [],
   "source": []
  },
  {
   "cell_type": "markdown",
   "id": "baf5f9fa",
   "metadata": {},
   "source": [
    "- Задание 6."
   ]
  },
  {
   "cell_type": "code",
   "execution_count": 4,
   "id": "6232060f",
   "metadata": {},
   "outputs": [
    {
     "name": "stdout",
     "output_type": "stream",
     "text": [
      "4 8 0 3 4 2 0 3\n",
      "0 3 4 "
     ]
    }
   ],
   "source": [
    "a = input().split()\n",
    "b = []\n",
    "for i in a:\n",
    "    count = a.count(i)\n",
    "    if count > 1:\n",
    "        b.append(int(i))   \n",
    "c = sorted(list(set(b)))\n",
    "for i in c:\n",
    "    print (i, end=' ')"
   ]
  }
 ],
 "metadata": {
  "kernelspec": {
   "display_name": "Python 3",
   "language": "python",
   "name": "python3"
  },
  "language_info": {
   "codemirror_mode": {
    "name": "ipython",
    "version": 3
   },
   "file_extension": ".py",
   "mimetype": "text/x-python",
   "name": "python",
   "nbconvert_exporter": "python",
   "pygments_lexer": "ipython3",
   "version": "3.8.8"
  }
 },
 "nbformat": 4,
 "nbformat_minor": 5
}
