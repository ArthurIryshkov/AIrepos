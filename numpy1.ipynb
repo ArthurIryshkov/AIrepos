{
 "cells": [
  {
   "cell_type": "markdown",
   "id": "a2b666ef",
   "metadata": {},
   "source": [
    "### Задание 1."
   ]
  },
  {
   "cell_type": "code",
   "execution_count": 1,
   "id": "8e44322d",
   "metadata": {},
   "outputs": [],
   "source": [
    "import numpy as np"
   ]
  },
  {
   "cell_type": "code",
   "execution_count": 35,
   "id": "2de6a103",
   "metadata": {},
   "outputs": [],
   "source": [
    "N = 15"
   ]
  },
  {
   "cell_type": "code",
   "execution_count": 36,
   "id": "13fe0509",
   "metadata": {},
   "outputs": [],
   "source": [
    "M = np.arange(N, -1, -1)"
   ]
  },
  {
   "cell_type": "code",
   "execution_count": 37,
   "id": "b28b96cb",
   "metadata": {},
   "outputs": [
    {
     "data": {
      "text/plain": [
       "array([15, 14, 13, 12, 11, 10,  9,  8,  7,  6,  5,  4,  3,  2,  1,  0])"
      ]
     },
     "execution_count": 37,
     "metadata": {},
     "output_type": "execute_result"
    }
   ],
   "source": [
    "M"
   ]
  },
  {
   "cell_type": "markdown",
   "id": "d47f109f",
   "metadata": {},
   "source": [
    "### Задание 2. "
   ]
  },
  {
   "cell_type": "code",
   "execution_count": 31,
   "id": "e5cd9542",
   "metadata": {},
   "outputs": [],
   "source": [
    "M1 = M.reshape(4, 4)"
   ]
  },
  {
   "cell_type": "code",
   "execution_count": 38,
   "id": "d91b20af",
   "metadata": {},
   "outputs": [
    {
     "data": {
      "text/plain": [
       "array([[15, 14, 13, 12],\n",
       "       [11, 10,  9,  8],\n",
       "       [ 7,  6,  5,  4],\n",
       "       [ 3,  2,  1,  0]])"
      ]
     },
     "execution_count": 38,
     "metadata": {},
     "output_type": "execute_result"
    }
   ],
   "source": [
    "M1"
   ]
  },
  {
   "cell_type": "code",
   "execution_count": 39,
   "id": "90327558",
   "metadata": {},
   "outputs": [
    {
     "name": "stdout",
     "output_type": "stream",
     "text": [
      "30\n"
     ]
    }
   ],
   "source": [
    "print(sum(np.diagonal(M1)))"
   ]
  },
  {
   "cell_type": "markdown",
   "id": "1879d776",
   "metadata": {},
   "source": [
    "### Задание 3."
   ]
  },
  {
   "cell_type": "code",
   "execution_count": 42,
   "id": "a9ba0fcd",
   "metadata": {},
   "outputs": [],
   "source": [
    "k = np.array( [ [4, 2, 1], [1, 3, 0], [0, 5, 4] ] )"
   ]
  },
  {
   "cell_type": "code",
   "execution_count": 43,
   "id": "5b0158d6",
   "metadata": {},
   "outputs": [],
   "source": [
    "s = np.array( [4, 12, -3] )"
   ]
  },
  {
   "cell_type": "code",
   "execution_count": 44,
   "id": "00d45477",
   "metadata": {},
   "outputs": [],
   "source": [
    "from numpy import linalg"
   ]
  },
  {
   "cell_type": "code",
   "execution_count": 45,
   "id": "17e07d76",
   "metadata": {},
   "outputs": [
    {
     "data": {
      "text/plain": [
       "array([ 0.46666667,  3.84444444, -5.55555556])"
      ]
     },
     "execution_count": 45,
     "metadata": {},
     "output_type": "execute_result"
    }
   ],
   "source": [
    "linalg.solve(k, s)"
   ]
  },
  {
   "cell_type": "markdown",
   "id": "85bc8052",
   "metadata": {},
   "source": [
    "### Задание 4."
   ]
  },
  {
   "cell_type": "code",
   "execution_count": 46,
   "id": "cc2946d7",
   "metadata": {},
   "outputs": [],
   "source": [
    "users_stats = np.array(\n",
    "    [\n",
    "        [2, 1, 0, 0, 0, 0],\n",
    "        [1, 1, 2, 1, 0, 0],\n",
    "        [2, 0, 1, 0, 0, 0],\n",
    "        [1, 1, 2, 1, 0, 1],\n",
    "        [0, 0, 1, 2, 0, 0],\n",
    "        [0, 0, 0, 0, 0, 5],\n",
    "        [1, 0, 0, 0, 0, 0],\n",
    "        [0, 1, 1, 0, 0, 0],\n",
    "        [0, 0, 0, 1, 1, 3],\n",
    "        [1, 0, 0, 2, 1, 4]\n",
    "    ], \n",
    "    np.int32\n",
    ")"
   ]
  },
  {
   "cell_type": "code",
   "execution_count": 49,
   "id": "d53d5c3f",
   "metadata": {},
   "outputs": [],
   "source": [
    "next_user_stats = np.array([0, 1, 2, 0, 0, 0])"
   ]
  },
  {
   "cell_type": "code",
   "execution_count": 52,
   "id": "b7346e73",
   "metadata": {},
   "outputs": [],
   "source": [
    "a = next_user_stats \n",
    "b = users_stats"
   ]
  },
  {
   "cell_type": "code",
   "execution_count": 56,
   "id": "a227ff10",
   "metadata": {},
   "outputs": [],
   "source": [
    "aL = np.linalg.norm( a )"
   ]
  },
  {
   "cell_type": "code",
   "execution_count": 58,
   "id": "f6615d7f",
   "metadata": {},
   "outputs": [],
   "source": [
    "users = []"
   ]
  },
  {
   "cell_type": "code",
   "execution_count": 69,
   "id": "df2ace62",
   "metadata": {},
   "outputs": [
    {
     "name": "stdout",
     "output_type": "stream",
     "text": [
      "0.2\n",
      "0.8452\n",
      "0.4\n",
      "0.7906\n",
      "0.4\n",
      "0.0\n",
      "0.0\n",
      "0.9487\n",
      "0.0\n",
      "0.0\n",
      "Максимальное сходство: 0.9487\n"
     ]
    }
   ],
   "source": [
    "for i in b:\n",
    "    bL = np.linalg.norm( i )\n",
    "    users.append(np.dot( a, i ) / ( aL * bL ))\n",
    "    print(round(np.dot( a, i ) / ( aL * bL ), 4))\n",
    "print('Максимальное сходство:', round(max(users), 4))"
   ]
  },
  {
   "cell_type": "code",
   "execution_count": null,
   "id": "f5db150a",
   "metadata": {},
   "outputs": [],
   "source": []
  }
 ],
 "metadata": {
  "kernelspec": {
   "display_name": "Python 3",
   "language": "python",
   "name": "python3"
  },
  "language_info": {
   "codemirror_mode": {
    "name": "ipython",
    "version": 3
   },
   "file_extension": ".py",
   "mimetype": "text/x-python",
   "name": "python",
   "nbconvert_exporter": "python",
   "pygments_lexer": "ipython3",
   "version": "3.8.8"
  }
 },
 "nbformat": 4,
 "nbformat_minor": 5
}
