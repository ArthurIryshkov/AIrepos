{
 "cells": [
  {
   "cell_type": "markdown",
   "id": "6f100b7b",
   "metadata": {},
   "source": [
    "### Задание 1."
   ]
  },
  {
   "cell_type": "code",
   "execution_count": null,
   "id": "09bb359b",
   "metadata": {},
   "outputs": [],
   "source": [
    "documents = [\n",
    " {'type': 'passport', 'number': '2207 876234', 'name': 'Василий Гупкин'},\n",
    " {'type': 'invoice', 'number': '11-2', 'name': 'Геннадий Покемонов'},\n",
    " {'type': 'insurance', 'number': '10006', 'name': 'Аристарх Павлов'}\n",
    "]\n",
    "\n",
    "directories = {\n",
    " '1': ['2207 876234', '11-2'],\n",
    " '2': ['10006'],\n",
    " '3': []\n",
    "}  "
   ]
  },
  {
   "cell_type": "code",
   "execution_count": null,
   "id": "2deebf01",
   "metadata": {},
   "outputs": [],
   "source": [
    "def name_for_number(number):\n",
    "    man = 0\n",
    "    for el in documents:\n",
    "        if el['number'] == number:\n",
    "            man = el['name']    \n",
    "    if man != 0:\n",
    "        return man\n",
    "    else:\n",
    "        return 'Документ не найден в базе'\n",
    "        "
   ]
  },
  {
   "cell_type": "code",
   "execution_count": null,
   "id": "a6aba634",
   "metadata": {},
   "outputs": [],
   "source": [
    "def dir_for_number(directories, doc_input):\n",
    "    for k, v in directories.items():\n",
    "        if doc_input in v:\n",
    "            return k"
   ]
  },
  {
   "cell_type": "code",
   "execution_count": null,
   "id": "f2f2c03e",
   "metadata": {},
   "outputs": [],
   "source": [
    "def info():\n",
    "    i = 0\n",
    "    for el in documents:\n",
    "        print ('№:', el['number']+',', el['type']+',', 'владелец:', el['name']+',', 'полка хранения:', dir_for_number(directories, documents[i]['number'])) \n",
    "        i += 1    "
   ]
  },
  {
   "cell_type": "code",
   "execution_count": null,
   "id": "76b84875",
   "metadata": {},
   "outputs": [],
   "source": [
    "def dir_add(x):\n",
    "    \n",
    "    if x not in directories:\n",
    "        directories[x] = []\n",
    "        print('Полка добавлена. Текущий перечень полок:', ', '.join(list(directories.keys())) + '.')\n",
    "    else:\n",
    "        print('Такая полка уже существует. Текущий перечень полок: ', ', '.join(list(directories.keys())) + '.')"
   ]
  },
  {
   "cell_type": "code",
   "execution_count": null,
   "id": "d7a879a4",
   "metadata": {},
   "outputs": [],
   "source": [
    "def del_dir(x):\n",
    "    if x in directories and directories[x] == []:\n",
    "        del(directories[x])\n",
    "        print('Полка удалена. Текущий перечень полок:', ', '.join(list(directories.keys())) + '.')\n",
    "    elif x in directories:\n",
    "        print('На полке есть документы, удалите их перед удалением полки. Текущий перечень полок:', ', '.join(list(directories.keys())) + '.')\n",
    "    else:\n",
    "        print('Такой полки не существует. Текущий перечень полок: ', ', '.join(list(directories.keys())) + '.')"
   ]
  },
  {
   "cell_type": "code",
   "execution_count": null,
   "id": "8ae13120",
   "metadata": {},
   "outputs": [],
   "source": [
    "def main():\n",
    "    while True:\n",
    "        user_input = input('Введите команду:')\n",
    "        if user_input == 'p':\n",
    "            doc_input = str(input('Введите номер документа:'))\n",
    "            print(name_for_number(doc_input))\n",
    "        if user_input == 's':\n",
    "            doc_input = str(input('Введите номер документа:'))\n",
    "            if dir_for_number(directories, doc_input) is None:\n",
    "                print('Документ не найден в базе')\n",
    "            else:\n",
    "                print('Документ хранится на полке:', dir_for_number(directories, doc_input))\n",
    "        if user_input == 'i':\n",
    "            info()\n",
    "        if user_input == 'ads':\n",
    "            x = str(input('Введите номер полки:'))\n",
    "            dir_add(x)\n",
    "        if user_input == 'ds':\n",
    "            x = str(input('Введите номер полки:'))\n",
    "            del_dir(x)\n",
    "        elif user_input == 'q':\n",
    "            break"
   ]
  },
  {
   "cell_type": "code",
   "execution_count": null,
   "id": "430fe9ee",
   "metadata": {},
   "outputs": [],
   "source": [
    "main()"
   ]
  },
  {
   "cell_type": "code",
   "execution_count": null,
   "id": "b6fb24ad",
   "metadata": {},
   "outputs": [],
   "source": []
  }
 ],
 "metadata": {
  "kernelspec": {
   "display_name": "Python 3",
   "language": "python",
   "name": "python3"
  },
  "language_info": {
   "codemirror_mode": {
    "name": "ipython",
    "version": 3
   },
   "file_extension": ".py",
   "mimetype": "text/x-python",
   "name": "python",
   "nbconvert_exporter": "python",
   "pygments_lexer": "ipython3",
   "version": "3.8.8"
  }
 },
 "nbformat": 4,
 "nbformat_minor": 5
}
