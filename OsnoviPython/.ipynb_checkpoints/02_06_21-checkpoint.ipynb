{
 "cells": [
  {
   "cell_type": "markdown",
   "metadata": {},
   "source": [
    "### PEP\n",
    "\n",
    "PEP (python enhanced proposal — заявки на улучшение языка python)."
   ]
  },
  {
   "cell_type": "markdown",
   "metadata": {},
   "source": [
    "### PEP20 – Zen of Python\n",
    "\n",
    "Python придерживается философии, которую сформулировал Тим Петерс в 19 принципах. Её текст выдаётся интерпретатором Python по команде import this."
   ]
  },
  {
   "cell_type": "code",
   "execution_count": null,
   "metadata": {},
   "outputs": [],
   "source": [
    "import this"
   ]
  },
  {
   "cell_type": "markdown",
   "metadata": {},
   "source": [
    "### PEP8\n",
    "\n",
    "PEP8 – соглашение о том, как писать код для языка python.\n",
    "Ключевая идея такова: код читается намного больше раз, чем пишется. Собственно, рекомендации о стиле написания кода направлены на то, чтобы улучшить читаемость кода и сделать его согласованным между большим числом проектов. В идеале, весь код будет написан в едином стиле, и любой сможет легко его прочесть.\n",
    "\n",
    "https://pythonworld.ru/osnovy/pep-8-rukovodstvo-po-napisaniyu-koda-na-python.html\n",
    "\n",
    "http://pep8online.com/"
   ]
  },
  {
   "cell_type": "markdown",
   "metadata": {},
   "source": [
    "### Краткая запись односложных условий из if и else"
   ]
  },
  {
   "cell_type": "code",
   "execution_count": null,
   "metadata": {},
   "outputs": [],
   "source": [
    "num = 7\n",
    "\n",
    "if num % 2 == 0:\n",
    "    print('even')\n",
    "else:\n",
    "    print('odd')"
   ]
  },
  {
   "cell_type": "code",
   "execution_count": null,
   "metadata": {},
   "outputs": [],
   "source": [
    "print('even') if num % 2 == 0 else print('odd')"
   ]
  },
  {
   "cell_type": "code",
   "execution_count": null,
   "metadata": {},
   "outputs": [],
   "source": [
    "if num % 2 == 0: print('even')"
   ]
  },
  {
   "cell_type": "markdown",
   "metadata": {},
   "source": [
    "### Изменяемые и неизменяемые типы данных"
   ]
  },
  {
   "cell_type": "code",
   "execution_count": null,
   "metadata": {},
   "outputs": [],
   "source": [
    "boys = ['John', 'James', 'Robert']\n",
    "girls = ['Linda', 'Jane', 'Kate']\n",
    "my_string = 'Hello world'"
   ]
  },
  {
   "cell_type": "code",
   "execution_count": null,
   "metadata": {},
   "outputs": [],
   "source": [
    "# res = boys.sort()\n",
    "# print(res)\n",
    "boys.sort()\n",
    "print(boys)"
   ]
  },
  {
   "cell_type": "code",
   "execution_count": null,
   "metadata": {
    "scrolled": true
   },
   "outputs": [],
   "source": [
    "res = my_string.lower()\n",
    "print(res)\n",
    "\n",
    "print(my_string)"
   ]
  },
  {
   "cell_type": "code",
   "execution_count": null,
   "metadata": {},
   "outputs": [],
   "source": [
    "# res = sorted(girls)\n",
    "\n",
    "# print(res)"
   ]
  },
  {
   "cell_type": "markdown",
   "metadata": {},
   "source": [
    "### Визуализатор кода на python\n",
    "\n",
    "http://pythontutor.com/visualize.html#mode=edit\n",
    "\n",
    " Он может очень сильно помочь на начальном этапе изчения Python, когда вы пишите свои собственные программы, но ещё не понимаете как именно работает ваш код. Самые частые ошибки новичков – это непонимание границ выполнения ключевых этапов работы программы. Порой очень хороший код не будет работать из-за одной маленькой ошибки. "
   ]
  },
  {
   "cell_type": "markdown",
   "metadata": {},
   "source": [
    "### Напишем игру \"Угадай число\""
   ]
  },
  {
   "cell_type": "code",
   "execution_count": null,
   "metadata": {},
   "outputs": [],
   "source": [
    "import random \n",
    "\n",
    "number = random.randint(0, 100)\n",
    "\n",
    "print(number)\n",
    "\n",
    "max_tries = 5\n",
    "\n",
    "tries = 0\n",
    "k = 0\n",
    "while tries < max_tries:\n",
    "    guess = int(input('Угадайте число'))\n",
    "    tries += 1\n",
    "    \n",
    "    if guess < number:\n",
    "        print('Загаданное число больше')\n",
    "    elif guess > number:\n",
    "        print('Загаданное число меньше')\n",
    "    else:\n",
    "        print('Вы угадали!')\n",
    "        k = 1\n",
    "        break\n",
    "    \n",
    "\n",
    "        \n",
    "if tries >= max_tries and k = 0:\n",
    "    print('Вы проиграли')"
   ]
  },
  {
   "cell_type": "code",
   "execution_count": null,
   "metadata": {},
   "outputs": [],
   "source": [
    "import random \n",
    "\n",
    "number = random.randint(0, 100)\n",
    "\n",
    "print(number)\n",
    "\n",
    "max_tries = 5\n",
    "\n",
    "tries = 0\n",
    "\n",
    "while tries < max_tries:\n",
    "    guess = int(input('Угадайте число'))\n",
    "    tries += 1\n",
    "    if guess < number:\n",
    "        print('Загаданное число больше')\n",
    "    elif guess > number:\n",
    "        print('Загаданное число меньше')\n",
    "    else:\n",
    "        print('Вы угадали!')\n",
    "        break\n",
    "    \n",
    "\n",
    "        \n",
    "if guess != number:\n",
    "    print('Вы проиграли')"
   ]
  },
  {
   "cell_type": "markdown",
   "metadata": {},
   "source": [
    "### Практика. Посчитаем сумму элементов по главной диагонали в квадратной матрице"
   ]
  },
  {
   "cell_type": "code",
   "execution_count": null,
   "metadata": {},
   "outputs": [],
   "source": [
    "data = [\n",
    "    [13, 25, 23, 34],\n",
    "    [45, 32, 44, 47],\n",
    "    [12, 33, 23, 95],\n",
    "    [13, 53, 34, 35]\n",
    "]"
   ]
  },
  {
   "cell_type": "code",
   "execution_count": null,
   "metadata": {},
   "outputs": [],
   "source": [
    "# s = 0\n",
    "# for i in data:\n",
    "#     for j in data:\n",
    "#         if i == j:\n",
    "#             s = s + data[i][i]\n",
    "# print(s)"
   ]
  },
  {
   "cell_type": "code",
   "execution_count": null,
   "metadata": {},
   "outputs": [],
   "source": [
    "i = 0\n",
    "summ = 0\n",
    "for el in data:\n",
    "#     print(el)\n",
    "    summ += el[i]\n",
    "    i += 1\n",
    "    \n",
    "summ"
   ]
  },
  {
   "cell_type": "code",
   "execution_count": null,
   "metadata": {},
   "outputs": [],
   "source": [
    "sum_ = 0\n",
    "for i in range(len(data)):\n",
    "    print(i)\n",
    "    sum_ += data[i][i]\n",
    "print(sum_)"
   ]
  },
  {
   "cell_type": "code",
   "execution_count": null,
   "metadata": {},
   "outputs": [],
   "source": [
    "sum_ = 0\n",
    "i = 0\n",
    "while i < len(data):\n",
    "    sum_ = sum_ + data[i][i]\n",
    "    i += 1\n",
    "\n",
    "print(sum_)"
   ]
  },
  {
   "cell_type": "code",
   "execution_count": null,
   "metadata": {},
   "outputs": [],
   "source": [
    "diagonal = data[0][0] + data[1][1] + data[2][2] + data[3][3]\n",
    "print(diagonal)\n",
    "\n",
    "print(13 + 32 + 23 + 35)"
   ]
  },
  {
   "cell_type": "code",
   "execution_count": null,
   "metadata": {},
   "outputs": [],
   "source": [
    "data = [\n",
    "[13,25,23,34],\n",
    "[45,32,44,47],    \n",
    "[12,33,23,95],\n",
    "[13,53,34,35]\n",
    "]\n",
    "a = data[0]\n",
    "b = data[1]\n",
    "c = data[2]\n",
    "d = data[3]\n",
    "s = a[0] + b[1] + c[2] + d[3]\n",
    "print(s)"
   ]
  },
  {
   "cell_type": "code",
   "execution_count": null,
   "metadata": {},
   "outputs": [],
   "source": [
    "sum_ = 0\n",
    "dl_st = len(data)\n",
    "for i in range(dl_st):\n",
    "    for j in range(dl_st):\n",
    "        if i == j:\n",
    "            sum_ += data[i][j]\n",
    "print(sum_)\n",
    "\n"
   ]
  },
  {
   "cell_type": "code",
   "execution_count": null,
   "metadata": {},
   "outputs": [],
   "source": [
    "a = 0\n",
    "for i, j in enumerate(data): \n",
    "    a = a + j[i]\n",
    "a"
   ]
  },
  {
   "cell_type": "markdown",
   "metadata": {},
   "source": [
    "### Практика. Вывести фамилиии построчно с указанием профессии\n",
    "IT:  \n",
    "Гейтс  \n",
    "Джобс  \n",
    "Возняк  \n",
    "\n",
    "Физика:  \n",
    "Эйнштейн  \n",
    "Фейнман  \n",
    "\n",
    "Математика:  \n",
    "Эвклид  \n",
    "Ньютон  "
   ]
  },
  {
   "cell_type": "markdown",
   "metadata": {},
   "source": [
    "### Практика. Вывести фамилиии построчно с указанием профессии\n",
    "IT:  \n",
    "Гейтс  \n",
    "Джобс  \n",
    "Возняк  \n",
    "\n",
    "Физика:  \n",
    "Эйнштейн  \n",
    "Фейнман  \n",
    "\n",
    "Математика:  \n",
    "Эвклид  \n",
    "Ньютон  "
   ]
  },
  {
   "cell_type": "code",
   "execution_count": null,
   "metadata": {},
   "outputs": [],
   "source": [
    "professions = ['IT', 'Физика', 'Математика']\n",
    "persons = [['Гейтс', 'Джобс', 'Возняк'], ['Эйнштейн', 'Фейнман'], ['Эвклид', 'Ньютон']]"
   ]
  },
  {
   "cell_type": "code",
   "execution_count": null,
   "metadata": {},
   "outputs": [],
   "source": [
    "# print(list(zip(professions, persons)))\n",
    "for prof, pers in zip(professions, persons):\n",
    "    print(f\"{prof}:\")\n",
    "    for per in pers:\n",
    "        print(per)\n",
    "    print()"
   ]
  },
  {
   "cell_type": "code",
   "execution_count": null,
   "metadata": {},
   "outputs": [],
   "source": [
    "for i in range(len(professions)):\n",
    "    print(professions[i])\n",
    "    for j in range(len(persons[i])):\n",
    "        print(persons[i][j])\n",
    "    print()"
   ]
  },
  {
   "cell_type": "code",
   "execution_count": null,
   "metadata": {},
   "outputs": [],
   "source": [
    "for el in zip(professions, persons):\n",
    "    print(el[0])\n",
    "    for el2 in el[1]:\n",
    "        print(el2)\n",
    "    print()"
   ]
  },
  {
   "cell_type": "code",
   "execution_count": null,
   "metadata": {},
   "outputs": [],
   "source": [
    "a = list(zip(professions, persons))\n",
    "\n",
    "for el in a:\n",
    "    print(el[0])\n",
    "    print(el[1])"
   ]
  },
  {
   "cell_type": "code",
   "execution_count": null,
   "metadata": {},
   "outputs": [],
   "source": [
    "i = 0\n",
    "j = 0\n",
    "for i in range(len(professions)):\n",
    "    print(professions[i] + ':') \n",
    "#     print(persons[j])\n",
    "    for name in persons[j]:\n",
    "        print(name)\n",
    "    i += 1\n",
    "    j += 1\n",
    "    print()"
   ]
  },
  {
   "cell_type": "code",
   "execution_count": null,
   "metadata": {},
   "outputs": [],
   "source": [
    "for prof, pers in zip(professions, persons):\n",
    "    print(f\"{prof}:\")\n",
    "    print('\\n'.join(pers))\n",
    "    print()"
   ]
  },
  {
   "cell_type": "code",
   "execution_count": null,
   "metadata": {},
   "outputs": [],
   "source": [
    "my_number = 0.345"
   ]
  },
  {
   "cell_type": "code",
   "execution_count": null,
   "metadata": {},
   "outputs": [],
   "source": [
    "res = f'Округлим число: {my_number :.1%}'\n",
    "res"
   ]
  },
  {
   "cell_type": "code",
   "execution_count": null,
   "metadata": {},
   "outputs": [],
   "source": []
  },
  {
   "cell_type": "code",
   "execution_count": null,
   "metadata": {},
   "outputs": [],
   "source": []
  }
 ],
 "metadata": {
  "kernelspec": {
   "display_name": "Python 3",
   "language": "python",
   "name": "python3"
  },
  "language_info": {
   "codemirror_mode": {
    "name": "ipython",
    "version": 3
   },
   "file_extension": ".py",
   "mimetype": "text/x-python",
   "name": "python",
   "nbconvert_exporter": "python",
   "pygments_lexer": "ipython3",
   "version": "3.8.8"
  }
 },
 "nbformat": 4,
 "nbformat_minor": 4
}
