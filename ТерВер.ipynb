{
 "cells": [
  {
   "cell_type": "code",
   "execution_count": 34,
   "id": "fbb3c1c3",
   "metadata": {},
   "outputs": [],
   "source": [
    "import matplotlib.pyplot as plt"
   ]
  },
  {
   "cell_type": "code",
   "execution_count": 58,
   "id": "13a89dd7",
   "metadata": {},
   "outputs": [
    {
     "name": "stdout",
     "output_type": "stream",
     "text": [
      "[-303, -275, -94, -553, 326, -230, -379, -376, -423, -49, 61, -208, 385, -147, -305]\n"
     ]
    }
   ],
   "source": [
    "import numpy as np\n",
    "answer = []\n",
    "for i in range(15): # <--- генерация циклов попыток \n",
    "    trials = 1000  \n",
    "    prize = 0   \n",
    "    cost = 0\n",
    "    for i in range(trials):\n",
    "        cost += 1\n",
    "        random_score = np.random.randint(0, 1000)  \n",
    "        if random_score == 777:\n",
    "            prize += 200\n",
    "        elif random_score == 999:\n",
    "            prize += 100 \n",
    "        elif random_score == 555:\n",
    "            prize += 50 \n",
    "        elif random_score == 333:\n",
    "            prize += 15 \n",
    "        elif random_score == 111:\n",
    "            prize += 10 \n",
    "        elif random_score % 100 == 77:\n",
    "            prize += 5 \n",
    "        elif random_score % 10 == 7:\n",
    "            prize += 3 \n",
    "        elif random_score % 100 == 0:\n",
    "            prize += 2 \n",
    "        elif random_score % 10 == 0:\n",
    "            prize += 1\n",
    "    diff = prize - cost\n",
    "    answer.append(diff)\n",
    "print(answer)\n",
    "     \n"
   ]
  },
  {
   "cell_type": "code",
   "execution_count": 59,
   "id": "535edcb2",
   "metadata": {},
   "outputs": [
    {
     "data": {
      "text/plain": [
       "[<matplotlib.lines.Line2D at 0x19dfbfce3d0>]"
      ]
     },
     "execution_count": 59,
     "metadata": {},
     "output_type": "execute_result"
    },
    {
     "data": {
      "image/png": "[encoded data removed]",
      "text/plain": [
       "<Figure size 432x288 with 1 Axes>"
      ]
     },
     "metadata": {
      "needs_background": "light"
     },
     "output_type": "display_data"
    }
   ],
   "source": [
    "plt.plot(answer) # <--- Бралось 15 циклов по 1к попыток в каждом. "
   ]
  },
  {
   "cell_type": "code",
   "execution_count": 60,
   "id": "ab65ba20",
   "metadata": {},
   "outputs": [],
   "source": [
    "from statistics import mean"
   ]
  },
  {
   "cell_type": "code",
   "execution_count": 61,
   "id": "acdf81e3",
   "metadata": {},
   "outputs": [
    {
     "data": {
      "text/plain": [
       "-0.0017133333333333334"
      ]
     },
     "execution_count": 61,
     "metadata": {},
     "output_type": "execute_result"
    }
   ],
   "source": [
    "mean(answer)/100000 # среднее значение выигрыша для одной игры "
   ]
  },
  {
   "cell_type": "code",
   "execution_count": 62,
   "id": "0fd4e1df",
   "metadata": {},
   "outputs": [
    {
     "data": {
      "text/plain": [
       "0.0040000000000000036"
      ]
     },
     "execution_count": 62,
     "metadata": {},
     "output_type": "execute_result"
    }
   ],
   "source": [
    "# Посчитаем мат.ожидание выигрыша:\n",
    "M = (1/1000)*200 + (1/1000)*100 + (1/1000)*50 + (1/1000)*15 + (1/1000)*10 + (9/1000)*5 + (90/1000)*3 + (10/1000)*2 + (90/1000)*1 - (796/1000)*1\n",
    "M"
   ]
  }
 ],
 "metadata": {
  "kernelspec": {
   "display_name": "Python 3",
   "language": "python",
   "name": "python3"
  },
  "language_info": {
   "codemirror_mode": {
    "name": "ipython",
    "version": 3
   },
   "file_extension": ".py",
   "mimetype": "text/x-python",
   "name": "python",
   "nbconvert_exporter": "python",
   "pygments_lexer": "ipython3",
   "version": "3.8.8"
  }
 },
 "nbformat": 4,
 "nbformat_minor": 5
}
