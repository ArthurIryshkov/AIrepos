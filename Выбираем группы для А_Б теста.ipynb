{
 "cells": [
  {
   "cell_type": "code",
   "execution_count": 1,
   "id": "d7a2d246",
   "metadata": {},
   "outputs": [],
   "source": [
    "import numpy as np\n",
    "import pandas as pd\n",
    "import scipy.stats as stats "
   ]
  },
  {
   "cell_type": "code",
   "execution_count": 2,
   "id": "c4301ed6",
   "metadata": {},
   "outputs": [
    {
     "data": {
      "text/html": [
       "<div>\n",
       "<style scoped>\n",
       "    .dataframe tbody tr th:only-of-type {\n",
       "        vertical-align: middle;\n",
       "    }\n",
       "\n",
       "    .dataframe tbody tr th {\n",
       "        vertical-align: top;\n",
       "    }\n",
       "\n",
       "    .dataframe thead th {\n",
       "        text-align: right;\n",
       "    }\n",
       "</style>\n",
       "<table border=\"1\" class=\"dataframe\">\n",
       "  <thead>\n",
       "    <tr style=\"text-align: right;\">\n",
       "      <th></th>\n",
       "      <th>Unnamed: 0</th>\n",
       "      <th>date</th>\n",
       "      <th>user_id</th>\n",
       "      <th>hour</th>\n",
       "      <th>app_opened</th>\n",
       "      <th>price_seen</th>\n",
       "      <th>order_made</th>\n",
       "      <th>surge</th>\n",
       "      <th>ride_completed</th>\n",
       "      <th>user_cancelled</th>\n",
       "      <th>age</th>\n",
       "      <th>os</th>\n",
       "      <th>city_center_order</th>\n",
       "      <th>order_class</th>\n",
       "      <th>distance</th>\n",
       "      <th>rfm</th>\n",
       "    </tr>\n",
       "  </thead>\n",
       "  <tbody>\n",
       "    <tr>\n",
       "      <th>0</th>\n",
       "      <td>0</td>\n",
       "      <td>2020-05-21</td>\n",
       "      <td>867689</td>\n",
       "      <td>12</td>\n",
       "      <td>1</td>\n",
       "      <td>1</td>\n",
       "      <td>1</td>\n",
       "      <td>no surge</td>\n",
       "      <td>1</td>\n",
       "      <td>0</td>\n",
       "      <td>20</td>\n",
       "      <td>iOS</td>\n",
       "      <td>0</td>\n",
       "      <td>business</td>\n",
       "      <td>7.982135</td>\n",
       "      <td>low</td>\n",
       "    </tr>\n",
       "    <tr>\n",
       "      <th>1</th>\n",
       "      <td>1</td>\n",
       "      <td>2020-05-23</td>\n",
       "      <td>752172</td>\n",
       "      <td>5</td>\n",
       "      <td>1</td>\n",
       "      <td>1</td>\n",
       "      <td>1</td>\n",
       "      <td>no surge</td>\n",
       "      <td>1</td>\n",
       "      <td>0</td>\n",
       "      <td>37</td>\n",
       "      <td>Android</td>\n",
       "      <td>1</td>\n",
       "      <td>economy</td>\n",
       "      <td>2.908468</td>\n",
       "      <td>high</td>\n",
       "    </tr>\n",
       "    <tr>\n",
       "      <th>2</th>\n",
       "      <td>2</td>\n",
       "      <td>2020-05-20</td>\n",
       "      <td>486559</td>\n",
       "      <td>15</td>\n",
       "      <td>1</td>\n",
       "      <td>1</td>\n",
       "      <td>1</td>\n",
       "      <td>no surge</td>\n",
       "      <td>1</td>\n",
       "      <td>0</td>\n",
       "      <td>47</td>\n",
       "      <td>Android</td>\n",
       "      <td>0</td>\n",
       "      <td>comfort</td>\n",
       "      <td>7.224614</td>\n",
       "      <td>low</td>\n",
       "    </tr>\n",
       "    <tr>\n",
       "      <th>3</th>\n",
       "      <td>3</td>\n",
       "      <td>2020-05-19</td>\n",
       "      <td>304024</td>\n",
       "      <td>0</td>\n",
       "      <td>1</td>\n",
       "      <td>1</td>\n",
       "      <td>1</td>\n",
       "      <td>no surge</td>\n",
       "      <td>1</td>\n",
       "      <td>0</td>\n",
       "      <td>59</td>\n",
       "      <td>Android</td>\n",
       "      <td>1</td>\n",
       "      <td>economy</td>\n",
       "      <td>1.874349</td>\n",
       "      <td>low</td>\n",
       "    </tr>\n",
       "    <tr>\n",
       "      <th>4</th>\n",
       "      <td>4</td>\n",
       "      <td>2020-05-23</td>\n",
       "      <td>139420</td>\n",
       "      <td>0</td>\n",
       "      <td>1</td>\n",
       "      <td>1</td>\n",
       "      <td>1</td>\n",
       "      <td>no surge</td>\n",
       "      <td>1</td>\n",
       "      <td>0</td>\n",
       "      <td>19</td>\n",
       "      <td>Android</td>\n",
       "      <td>0</td>\n",
       "      <td>business</td>\n",
       "      <td>10.704778</td>\n",
       "      <td>medium</td>\n",
       "    </tr>\n",
       "  </tbody>\n",
       "</table>\n",
       "</div>"
      ],
      "text/plain": [
       "   Unnamed: 0        date  user_id  hour  app_opened  price_seen  order_made  \\\n",
       "0           0  2020-05-21   867689    12           1           1           1   \n",
       "1           1  2020-05-23   752172     5           1           1           1   \n",
       "2           2  2020-05-20   486559    15           1           1           1   \n",
       "3           3  2020-05-19   304024     0           1           1           1   \n",
       "4           4  2020-05-23   139420     0           1           1           1   \n",
       "\n",
       "      surge  ride_completed  user_cancelled  age       os  city_center_order  \\\n",
       "0  no surge               1               0   20      iOS                  0   \n",
       "1  no surge               1               0   37  Android                  1   \n",
       "2  no surge               1               0   47  Android                  0   \n",
       "3  no surge               1               0   59  Android                  1   \n",
       "4  no surge               1               0   19  Android                  0   \n",
       "\n",
       "  order_class   distance     rfm  \n",
       "0    business   7.982135     low  \n",
       "1     economy   2.908468    high  \n",
       "2     comfort   7.224614     low  \n",
       "3     economy   1.874349     low  \n",
       "4    business  10.704778  medium  "
      ]
     },
     "execution_count": 2,
     "metadata": {},
     "output_type": "execute_result"
    }
   ],
   "source": [
    "gett = pd.read_csv('Netology_A_B-testing_HW_1.csv')\n",
    "gett.head()"
   ]
  },
  {
   "cell_type": "markdown",
   "id": "3450bccf",
   "metadata": {},
   "source": [
    "### Особенность - \"Для устройств Android наблюдаем более высокие юзерские отмены\""
   ]
  },
  {
   "cell_type": "code",
   "execution_count": 3,
   "id": "ca397b8b",
   "metadata": {},
   "outputs": [
    {
     "data": {
      "text/plain": [
       "0    38272\n",
       "1     5728\n",
       "Name: user_cancelled, dtype: int64"
      ]
     },
     "execution_count": 3,
     "metadata": {},
     "output_type": "execute_result"
    }
   ],
   "source": [
    "gett_and = gett[gett['os'] == 'Android']['user_cancelled'].sample(n = 44000)\n",
    "gett_and.value_counts()"
   ]
  },
  {
   "cell_type": "code",
   "execution_count": 4,
   "id": "3ac9ac84",
   "metadata": {},
   "outputs": [
    {
     "data": {
      "text/plain": [
       "0    40152\n",
       "1     3848\n",
       "Name: user_cancelled, dtype: int64"
      ]
     },
     "execution_count": 4,
     "metadata": {},
     "output_type": "execute_result"
    }
   ],
   "source": [
    "gett_ios = gett[gett['os'] == 'iOS']['user_cancelled'].sample(n = 44000)\n",
    "gett_ios.value_counts()"
   ]
  },
  {
   "cell_type": "code",
   "execution_count": 5,
   "id": "c60c8005",
   "metadata": {},
   "outputs": [
    {
     "data": {
      "text/plain": [
       "(20.398680045088714, 2.8117680354652814e-92)"
      ]
     },
     "execution_count": 5,
     "metadata": {},
     "output_type": "execute_result"
    }
   ],
   "source": [
    "T, p = stats.ttest_ind(gett_and, gett_ios) \n",
    "T, p"
   ]
  },
  {
   "cell_type": "code",
   "execution_count": 6,
   "id": "4be31ef8",
   "metadata": {},
   "outputs": [],
   "source": [
    "# пи-вэлью крайне мал, следовательно вероятность ошибиться, отвергнув Н0 (что различий нет), практически отсутствует. \n",
    "# Поэтому различия в выборках действительно есть! Т.е. у андроидов отмены встречаются чаще.\n"
   ]
  },
  {
   "cell_type": "markdown",
   "id": "bed7694e",
   "metadata": {},
   "source": [
    "### Особенность - \"В период Surge видим более низкую price-to-order конверсию\""
   ]
  },
  {
   "cell_type": "code",
   "execution_count": 7,
   "id": "c6f593ee",
   "metadata": {},
   "outputs": [
    {
     "data": {
      "text/plain": [
       "1    18085\n",
       "0     6915\n",
       "Name: order_made, dtype: int64"
      ]
     },
     "execution_count": 7,
     "metadata": {},
     "output_type": "execute_result"
    }
   ],
   "source": [
    "gett_sur = gett[(gett['surge'] == 'surge') & gett['price_seen'] == 1]['order_made'].sample(n = 25000)\n",
    "gett_sur.value_counts()"
   ]
  },
  {
   "cell_type": "code",
   "execution_count": 8,
   "id": "ba334604",
   "metadata": {},
   "outputs": [
    {
     "data": {
      "text/plain": [
       "1    21472\n",
       "0     3528\n",
       "Name: order_made, dtype: int64"
      ]
     },
     "execution_count": 8,
     "metadata": {},
     "output_type": "execute_result"
    }
   ],
   "source": [
    "gett_nosur = gett[(gett['surge'] == 'no surge') & gett['price_seen'] == 1]['order_made'].sample(n = 25000)\n",
    "gett_nosur.value_counts()"
   ]
  },
  {
   "cell_type": "code",
   "execution_count": 9,
   "id": "082e39a7",
   "metadata": {},
   "outputs": [
    {
     "data": {
      "text/plain": [
       "(-37.790511937481725, 3.6630404390410485e-308)"
      ]
     },
     "execution_count": 9,
     "metadata": {},
     "output_type": "execute_result"
    }
   ],
   "source": [
    "T2, p2 = stats.ttest_ind(gett_sur, gett_nosur) \n",
    "T2, p2"
   ]
  },
  {
   "cell_type": "code",
   "execution_count": 10,
   "id": "9428359d",
   "metadata": {},
   "outputs": [],
   "source": [
    "# пи-вэлью крайне мал, следовательно вероятность ошибиться, отвергнув Н0 (что различий нет), практически отсутствует. \n",
    "# Поэтому различия в выборках действительно есть! Т.е. с наценкой конверсия в заказ менее вероятна, чем без неё."
   ]
  },
  {
   "cell_type": "markdown",
   "id": "6c5ec7fa",
   "metadata": {},
   "source": [
    "### Делим начальную выборку на тестовую и контрольную"
   ]
  },
  {
   "cell_type": "code",
   "execution_count": 13,
   "id": "255e8874",
   "metadata": {},
   "outputs": [
    {
     "data": {
      "text/plain": [
       "50750"
      ]
     },
     "execution_count": 13,
     "metadata": {},
     "output_type": "execute_result"
    }
   ],
   "source": [
    "gett_test = gett.sample(frac=0.5, random_state = 1)\n",
    "len(gett_test)"
   ]
  },
  {
   "cell_type": "code",
   "execution_count": 23,
   "id": "a256791f",
   "metadata": {},
   "outputs": [
    {
     "data": {
      "text/plain": [
       "50750"
      ]
     },
     "execution_count": 23,
     "metadata": {},
     "output_type": "execute_result"
    }
   ],
   "source": [
    "gett_control = gett[~gett.index.isin(gett_test.index)]\n",
    "len(gett_control)"
   ]
  },
  {
   "cell_type": "code",
   "execution_count": 22,
   "id": "c03a7ec1",
   "metadata": {},
   "outputs": [
    {
     "data": {
      "text/html": [
       "<div>\n",
       "<style scoped>\n",
       "    .dataframe tbody tr th:only-of-type {\n",
       "        vertical-align: middle;\n",
       "    }\n",
       "\n",
       "    .dataframe tbody tr th {\n",
       "        vertical-align: top;\n",
       "    }\n",
       "\n",
       "    .dataframe thead th {\n",
       "        text-align: right;\n",
       "    }\n",
       "</style>\n",
       "<table border=\"1\" class=\"dataframe\">\n",
       "  <thead>\n",
       "    <tr style=\"text-align: right;\">\n",
       "      <th></th>\n",
       "      <th>Unnamed: 0</th>\n",
       "      <th>date</th>\n",
       "      <th>user_id</th>\n",
       "      <th>hour</th>\n",
       "      <th>app_opened</th>\n",
       "      <th>price_seen</th>\n",
       "      <th>order_made</th>\n",
       "      <th>surge</th>\n",
       "      <th>ride_completed</th>\n",
       "      <th>user_cancelled</th>\n",
       "      <th>age</th>\n",
       "      <th>os</th>\n",
       "      <th>city_center_order</th>\n",
       "      <th>order_class</th>\n",
       "      <th>distance</th>\n",
       "      <th>rfm</th>\n",
       "    </tr>\n",
       "  </thead>\n",
       "  <tbody>\n",
       "    <tr>\n",
       "      <th>64345</th>\n",
       "      <td>64345</td>\n",
       "      <td>2020-05-23</td>\n",
       "      <td>519899</td>\n",
       "      <td>4</td>\n",
       "      <td>1</td>\n",
       "      <td>1</td>\n",
       "      <td>1</td>\n",
       "      <td>no surge</td>\n",
       "      <td>1</td>\n",
       "      <td>0</td>\n",
       "      <td>32</td>\n",
       "      <td>iOS</td>\n",
       "      <td>1</td>\n",
       "      <td>economy</td>\n",
       "      <td>10.436720</td>\n",
       "      <td>medium</td>\n",
       "    </tr>\n",
       "    <tr>\n",
       "      <th>12073</th>\n",
       "      <td>12073</td>\n",
       "      <td>2020-05-20</td>\n",
       "      <td>519899</td>\n",
       "      <td>19</td>\n",
       "      <td>1</td>\n",
       "      <td>1</td>\n",
       "      <td>1</td>\n",
       "      <td>surge</td>\n",
       "      <td>1</td>\n",
       "      <td>0</td>\n",
       "      <td>45</td>\n",
       "      <td>Android</td>\n",
       "      <td>0</td>\n",
       "      <td>comfort</td>\n",
       "      <td>3.031510</td>\n",
       "      <td>low</td>\n",
       "    </tr>\n",
       "    <tr>\n",
       "      <th>56813</th>\n",
       "      <td>56813</td>\n",
       "      <td>2020-05-18</td>\n",
       "      <td>519899</td>\n",
       "      <td>7</td>\n",
       "      <td>1</td>\n",
       "      <td>1</td>\n",
       "      <td>1</td>\n",
       "      <td>surge</td>\n",
       "      <td>1</td>\n",
       "      <td>0</td>\n",
       "      <td>47</td>\n",
       "      <td>iOS</td>\n",
       "      <td>1</td>\n",
       "      <td>comfort</td>\n",
       "      <td>9.921212</td>\n",
       "      <td>medium</td>\n",
       "    </tr>\n",
       "    <tr>\n",
       "      <th>53963</th>\n",
       "      <td>53963</td>\n",
       "      <td>2020-05-20</td>\n",
       "      <td>519899</td>\n",
       "      <td>12</td>\n",
       "      <td>1</td>\n",
       "      <td>1</td>\n",
       "      <td>0</td>\n",
       "      <td>no surge</td>\n",
       "      <td>0</td>\n",
       "      <td>0</td>\n",
       "      <td>30</td>\n",
       "      <td>Android</td>\n",
       "      <td>1</td>\n",
       "      <td>comfort</td>\n",
       "      <td>2.785819</td>\n",
       "      <td>low</td>\n",
       "    </tr>\n",
       "  </tbody>\n",
       "</table>\n",
       "</div>"
      ],
      "text/plain": [
       "       Unnamed: 0        date  user_id  hour  app_opened  price_seen  \\\n",
       "64345       64345  2020-05-23   519899     4           1           1   \n",
       "12073       12073  2020-05-20   519899    19           1           1   \n",
       "56813       56813  2020-05-18   519899     7           1           1   \n",
       "53963       53963  2020-05-20   519899    12           1           1   \n",
       "\n",
       "       order_made     surge  ride_completed  user_cancelled  age       os  \\\n",
       "64345           1  no surge               1               0   32      iOS   \n",
       "12073           1     surge               1               0   45  Android   \n",
       "56813           1     surge               1               0   47      iOS   \n",
       "53963           0  no surge               0               0   30  Android   \n",
       "\n",
       "       city_center_order order_class   distance     rfm  \n",
       "64345                  1     economy  10.436720  medium  \n",
       "12073                  0     comfort   3.031510     low  \n",
       "56813                  1     comfort   9.921212  medium  \n",
       "53963                  1     comfort   2.785819     low  "
      ]
     },
     "execution_count": 22,
     "metadata": {},
     "output_type": "execute_result"
    }
   ],
   "source": [
    "gett_test[gett_test['user_id'] == 519899]"
   ]
  },
  {
   "cell_type": "markdown",
   "id": "0a2b830d",
   "metadata": {},
   "source": [
    "Теперь проверим однородность этих выборок для будущего теста Гипотезы 1 (Если предусмотреть надбавку только начиная с определённой дистанции (которую сделаем чуть меньше средней дальности поездки, чтобы большинство попадало под неё) при небольшом увеличении этой надбавки, то это обеспечит более высокую конверсию (~на 10%))"
   ]
  },
  {
   "cell_type": "markdown",
   "id": "1fd3629e",
   "metadata": {},
   "source": [
    "Чтобы увидеть эффект фичи, нам нужно, чтобы изначально у двух выборок и так была одинаковая конверсия, т.е. order_made"
   ]
  },
  {
   "cell_type": "code",
   "execution_count": 25,
   "id": "c7998115",
   "metadata": {},
   "outputs": [
    {
     "data": {
      "text/plain": [
       "(-0.09914132775912708, 0.9210262546878499)"
      ]
     },
     "execution_count": 25,
     "metadata": {},
     "output_type": "execute_result"
    }
   ],
   "source": [
    "T3, p3 = stats.ttest_ind(gett_test.order_made, gett_control.order_made) \n",
    "T3, p3"
   ]
  },
  {
   "cell_type": "code",
   "execution_count": 26,
   "id": "68db6ffb",
   "metadata": {},
   "outputs": [],
   "source": [
    "### огромнейший пи-велью --- выборки почти идентичны."
   ]
  },
  {
   "cell_type": "markdown",
   "id": "eaa14c67",
   "metadata": {},
   "source": [
    "Теперь проверим однородность этих выборок для будущего теста Гипотезы 2 (При введение подарочного промо кода на следующую поездку или в магазинах-партнерах по завершении заказа для пользователей андроидов можно повысить процент успешно завершённых поездок)"
   ]
  },
  {
   "cell_type": "markdown",
   "id": "c90d2609",
   "metadata": {},
   "source": [
    "Для этого смотрим на столбец user_cancelled"
   ]
  },
  {
   "cell_type": "code",
   "execution_count": 27,
   "id": "815c576e",
   "metadata": {},
   "outputs": [
    {
     "data": {
      "text/plain": [
       "(-0.1898286877943655, 0.8494437546110172)"
      ]
     },
     "execution_count": 27,
     "metadata": {},
     "output_type": "execute_result"
    }
   ],
   "source": [
    "T4, p4 = stats.ttest_ind(gett_test.user_cancelled, gett_control.user_cancelled) \n",
    "T4, p4"
   ]
  },
  {
   "cell_type": "code",
   "execution_count": null,
   "id": "c2e919d3",
   "metadata": {},
   "outputs": [],
   "source": [
    "### огромнейший пи-велью --- выборки почти идентичны."
   ]
  },
  {
   "cell_type": "markdown",
   "id": "46a9be5f",
   "metadata": {},
   "source": [
    "ВЫВОД: можно испытывать новые фичи на половине клиентов, а потом сравним их с другой, которая была без изменений."
   ]
  },
  {
   "cell_type": "code",
   "execution_count": null,
   "id": "265c512c",
   "metadata": {},
   "outputs": [],
   "source": []
  }
 ],
 "metadata": {
  "kernelspec": {
   "display_name": "Python 3 (ipykernel)",
   "language": "python",
   "name": "python3"
  },
  "language_info": {
   "codemirror_mode": {
    "name": "ipython",
    "version": 3
   },
   "file_extension": ".py",
   "mimetype": "text/x-python",
   "name": "python",
   "nbconvert_exporter": "python",
   "pygments_lexer": "ipython3",
   "version": "3.9.7"
  }
 },
 "nbformat": 4,
 "nbformat_minor": 5
}
