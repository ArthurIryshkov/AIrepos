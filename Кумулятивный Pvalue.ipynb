{
 "cells": [
  {
   "cell_type": "markdown",
   "id": "99a067d9",
   "metadata": {},
   "source": [
    "# Мною был выбран вариант подарка ПРОМОКОДА для пользователей, нажавших отмену поездки! Ожидаем снижение отмен."
   ]
  },
  {
   "cell_type": "code",
   "execution_count": 2,
   "id": "63b06634",
   "metadata": {},
   "outputs": [],
   "source": [
    "import numpy as np\n",
    "import pandas as pd\n",
    "import scipy.stats as stats \n",
    "import matplotlib.pyplot as plt"
   ]
  },
  {
   "cell_type": "code",
   "execution_count": 3,
   "id": "e772f87e",
   "metadata": {},
   "outputs": [],
   "source": [
    "post = pd.read_csv('post_abtest_data.csv')\n",
    "post = post[post['os'] == 'Android'] \n",
    "# оставляем только пользователей андроид"
   ]
  },
  {
   "cell_type": "code",
   "execution_count": 4,
   "id": "c9a7c549",
   "metadata": {},
   "outputs": [
    {
     "data": {
      "text/plain": [
       "array(['2020-05-28', '2020-05-25', '2020-05-29', '2020-05-30',\n",
       "       '2020-05-31', '2020-05-27', '2020-05-26'], dtype=object)"
      ]
     },
     "execution_count": 4,
     "metadata": {},
     "output_type": "execute_result"
    }
   ],
   "source": [
    "post.date.unique() # выясняем, какие даты есть"
   ]
  },
  {
   "cell_type": "code",
   "execution_count": 49,
   "id": "9853ad5c",
   "metadata": {},
   "outputs": [],
   "source": [
    "# ниже идёт разделение датасета на 7 частей. Для выборки взял по 2 тыс. для равенства контрольно-тестовых групп."
   ]
  },
  {
   "cell_type": "code",
   "execution_count": 50,
   "id": "4c58cbd7",
   "metadata": {},
   "outputs": [],
   "source": [
    "day0control = post[(post.date == '2020-05-25') & (post.group == 'Control')]['user_cancelled'].dropna().sample(n=2000)\n",
    "day0test = post[(post.date == '2020-05-25') & (post.group == 'Test')]['user_cancelled'].dropna().sample(n=2000)"
   ]
  },
  {
   "cell_type": "code",
   "execution_count": 51,
   "id": "0702e8fc",
   "metadata": {},
   "outputs": [],
   "source": [
    "day1test = post[(post.date == '2020-05-26') & (post.group == 'Test')]['user_cancelled'].dropna().sample(n=2000)\n",
    "day1control = post[(post.date == '2020-05-26') & (post.group == 'Control')]['user_cancelled'].dropna().sample(n=2000)"
   ]
  },
  {
   "cell_type": "code",
   "execution_count": 52,
   "id": "4acee492",
   "metadata": {},
   "outputs": [],
   "source": [
    "day2test = post[(post.date == '2020-05-27') & (post.group == 'Test')]['user_cancelled'].dropna().sample(n=2000)\n",
    "day2control = post[(post.date == '2020-05-27') & (post.group == 'Control')]['user_cancelled'].dropna().sample(n=2000)"
   ]
  },
  {
   "cell_type": "code",
   "execution_count": 53,
   "id": "5f6d703f",
   "metadata": {},
   "outputs": [],
   "source": [
    "day3test = post[(post.date == '2020-05-28') & (post.group == 'Test')]['user_cancelled'].dropna().sample(n=2000)\n",
    "day3control = post[(post.date == '2020-05-28') & (post.group == 'Control')]['user_cancelled'].dropna().sample(n=2000)"
   ]
  },
  {
   "cell_type": "code",
   "execution_count": 54,
   "id": "2c29ac00",
   "metadata": {},
   "outputs": [],
   "source": [
    "day4test = post[(post.date == '2020-05-29') & (post.group == 'Test')]['user_cancelled'].dropna().sample(n=2000)\n",
    "day4control = post[(post.date == '2020-05-29') & (post.group == 'Control')]['user_cancelled'].dropna().sample(n=2000)"
   ]
  },
  {
   "cell_type": "code",
   "execution_count": 55,
   "id": "eb368fcb",
   "metadata": {},
   "outputs": [],
   "source": [
    "day5test = post[(post.date == '2020-05-30') & (post.group == 'Test')]['user_cancelled'].dropna().sample(n=2000)\n",
    "day5control = post[(post.date == '2020-05-30') & (post.group == 'Control')]['user_cancelled'].dropna().sample(n=2000)"
   ]
  },
  {
   "cell_type": "code",
   "execution_count": 56,
   "id": "63741bf6",
   "metadata": {},
   "outputs": [],
   "source": [
    "day6test = post[(post.date == '2020-05-31') & (post.group == 'Test')]['user_cancelled'].dropna().sample(n=2000)\n",
    "day6control = post[(post.date == '2020-05-31') & (post.group == 'Control')]['user_cancelled'].dropna().sample(n=2000)"
   ]
  },
  {
   "cell_type": "code",
   "execution_count": 57,
   "id": "f3685c0c",
   "metadata": {},
   "outputs": [],
   "source": [
    "test = [day0test,day1test,day2test,day3test,day4test,day5test,day6test] # заводим списки для удобства перебирания в цикле"
   ]
  },
  {
   "cell_type": "code",
   "execution_count": 58,
   "id": "207a50b7",
   "metadata": {},
   "outputs": [
    {
     "data": {
      "text/plain": [
       "2000"
      ]
     },
     "execution_count": 58,
     "metadata": {},
     "output_type": "execute_result"
    }
   ],
   "source": [
    "len(day0test)"
   ]
  },
  {
   "cell_type": "code",
   "execution_count": 59,
   "id": "94626ccd",
   "metadata": {},
   "outputs": [],
   "source": [
    "control = [day0control,day1control,day2control,day3control,day4control,day5control,day6control]"
   ]
  },
  {
   "cell_type": "code",
   "execution_count": 60,
   "id": "52aabf57",
   "metadata": {},
   "outputs": [],
   "source": [
    "Pv = []\n",
    "for i in range(7):\n",
    "    T, p = stats.ttest_ind(control[i], test[i])\n",
    "    Pv.append(p)"
   ]
  },
  {
   "cell_type": "code",
   "execution_count": 61,
   "id": "df0832d1",
   "metadata": {},
   "outputs": [
    {
     "data": {
      "text/plain": [
       "[0.3972116807905236,\n",
       " 0.001845025818854861,\n",
       " 2.578961379188249e-07,\n",
       " 3.5791093290404e-05,\n",
       " 9.867171056470757e-07,\n",
       " 0.00011664153821938427,\n",
       " 0.0006318483994373009]"
      ]
     },
     "execution_count": 61,
     "metadata": {},
     "output_type": "execute_result"
    }
   ],
   "source": [
    "Pv # получаем пи-вэлью по дням"
   ]
  },
  {
   "cell_type": "code",
   "execution_count": 62,
   "id": "65901ea3",
   "metadata": {},
   "outputs": [
    {
     "data": {
      "text/plain": [
       "<BarContainer object of 7 artists>"
      ]
     },
     "execution_count": 62,
     "metadata": {},
     "output_type": "execute_result"
    },
    {
     "data": {
      "image/png": "[encoded data removed]",
      "text/plain": [
       "<Figure size 432x288 with 1 Axes>"
      ]
     },
     "metadata": {
      "needs_background": "light"
     },
     "output_type": "display_data"
    }
   ],
   "source": [
    "plt.bar(range(1,8), Pv)\n",
    "# p-value of day"
   ]
  },
  {
   "cell_type": "code",
   "execution_count": 63,
   "id": "34f60c7d",
   "metadata": {},
   "outputs": [
    {
     "data": {
      "text/plain": [
       "<BarContainer object of 7 artists>"
      ]
     },
     "execution_count": 63,
     "metadata": {},
     "output_type": "execute_result"
    },
    {
     "data": {
      "image/png": "[encoded data removed]",
      "text/plain": [
       "<Figure size 432x288 with 1 Axes>"
      ]
     },
     "metadata": {
      "needs_background": "light"
     },
     "output_type": "display_data"
    }
   ],
   "source": [
    "plt.bar(range(1,8), np.cumsum(Pv))\n",
    "# кумулятивный p-value практически не накапливается))"
   ]
  },
  {
   "cell_type": "markdown",
   "id": "fb72beac",
   "metadata": {},
   "source": [
    "# p-value очень мал (кроме первого дня), так что вероятность получить экстремальные значения будь выборки из одной совокупности практически нереальны."
   ]
  },
  {
   "cell_type": "code",
   "execution_count": 64,
   "id": "150babde",
   "metadata": {},
   "outputs": [
    {
     "data": {
      "text/plain": [
       "0.0    16298\n",
       "1.0     3702\n",
       "Name: user_cancelled, dtype: int64"
      ]
     },
     "execution_count": 64,
     "metadata": {},
     "output_type": "execute_result"
    }
   ],
   "source": [
    "post_ctrl = post[(post['group'] == 'Control') & (post['os'] == 'Android')]['user_cancelled'].dropna().sample(n=20000).value_counts()\n",
    "post_ctrl"
   ]
  },
  {
   "cell_type": "code",
   "execution_count": 65,
   "id": "3c48fc4e",
   "metadata": {},
   "outputs": [
    {
     "data": {
      "text/plain": [
       "0.0    17106\n",
       "1.0     2894\n",
       "Name: user_cancelled, dtype: int64"
      ]
     },
     "execution_count": 65,
     "metadata": {},
     "output_type": "execute_result"
    }
   ],
   "source": [
    "post_test = post[(post['group'] == 'Test') & (post['os'] == 'Android')]['user_cancelled'].dropna().sample(n=20000).value_counts()\n",
    "post_test"
   ]
  },
  {
   "cell_type": "markdown",
   "id": "83ffba71",
   "metadata": {},
   "source": [
    "# Разница ощутима - в тестовой группе гораздо меньше \"единиц\", а значит и отмен поездок. Наша фича сработала!"
   ]
  }
 ],
 "metadata": {
  "kernelspec": {
   "display_name": "Python 3 (ipykernel)",
   "language": "python",
   "name": "python3"
  },
  "language_info": {
   "codemirror_mode": {
    "name": "ipython",
    "version": 3
   },
   "file_extension": ".py",
   "mimetype": "text/x-python",
   "name": "python",
   "nbconvert_exporter": "python",
   "pygments_lexer": "ipython3",
   "version": "3.9.7"
  }
 },
 "nbformat": 4,
 "nbformat_minor": 5
}
