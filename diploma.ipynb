{
 "cells": [
  {
   "cell_type": "code",
   "execution_count": 74,
   "id": "6fea7b90",
   "metadata": {},
   "outputs": [],
   "source": [
    "import numpy as np\n",
    "import pandas as pd\n",
    "import scipy.stats as stats\n",
    "import matplotlib.pyplot as plt\n"
   ]
  },
  {
   "cell_type": "code",
   "execution_count": 75,
   "id": "61e004e4",
   "metadata": {},
   "outputs": [
    {
     "name": "stderr",
     "output_type": "stream",
     "text": [
      "C:\\Users\\Student1\\anaconda3\\lib\\site-packages\\openpyxl\\worksheet\\_reader.py:312: UserWarning: Data Validation extension is not supported and will be removed\n",
      "  warn(msg)\n"
     ]
    }
   ],
   "source": [
    "np = pd.read_excel('Non-paying.xlsx')\n"
   ]
  },
  {
   "cell_type": "code",
   "execution_count": 76,
   "id": "65cc10b8",
   "metadata": {},
   "outputs": [],
   "source": [
    "whale = pd.read_excel('Whale.xlsx')"
   ]
  },
  {
   "cell_type": "markdown",
   "id": "3aab7c1f",
   "metadata": {},
   "source": [
    "### Non-payng player"
   ]
  },
  {
   "cell_type": "code",
   "execution_count": 77,
   "id": "0cd36e9c",
   "metadata": {},
   "outputs": [
    {
     "data": {
      "text/plain": [
       "(8457, 33)"
      ]
     },
     "execution_count": 77,
     "metadata": {},
     "output_type": "execute_result"
    }
   ],
   "source": [
    "np.shape"
   ]
  },
  {
   "cell_type": "code",
   "execution_count": 78,
   "id": "1b5f7670",
   "metadata": {},
   "outputs": [],
   "source": [
    "np = np.drop_duplicates()"
   ]
  },
  {
   "cell_type": "code",
   "execution_count": 79,
   "id": "7cfbb8cf",
   "metadata": {},
   "outputs": [
    {
     "name": "stdout",
     "output_type": "stream",
     "text": [
      "<class 'pandas.core.frame.DataFrame'>\n",
      "Int64Index: 8408 entries, 0 to 8456\n",
      "Data columns (total 33 columns):\n",
      " #   Column            Non-Null Count  Dtype         \n",
      "---  ------            --------------  -----         \n",
      " 0   Date              8408 non-null   datetime64[ns]\n",
      " 1   Day               8408 non-null   int64         \n",
      " 2   Session           8408 non-null   int64         \n",
      " 3   Video #           8408 non-null   float64       \n",
      " 4   Videolink         8408 non-null   object        \n",
      " 5   Videolength       8408 non-null   object        \n",
      " 6   Timestamp         8408 non-null   object        \n",
      " 7   Timelink          8408 non-null   object        \n",
      " 8   Player Level      8405 non-null   float64       \n",
      " 9   Stronghold Level  8408 non-null   int64         \n",
      " 10  Tag               8408 non-null   object        \n",
      " 11  Action            8408 non-null   object        \n",
      " 12  Info              2463 non-null   object        \n",
      " 13  Shortage1         311 non-null    object        \n",
      " 14  Shortage2         30 non-null     object        \n",
      " 15  Shortage3         16 non-null     object        \n",
      " 16  Ended1            251 non-null    object        \n",
      " 17  Ended2            8 non-null      object        \n",
      " 18  Limits            120 non-null    object        \n",
      " 19  New expirience    144 non-null    object        \n",
      " 20  Offer Time        348 non-null    object        \n",
      " 21  Team Power        556 non-null    float64       \n",
      " 22  Name              1121 non-null   object        \n",
      " 23  Level             658 non-null    object        \n",
      " 24  Rarity            345 non-null    float64       \n",
      " 25  Stage2            568 non-null    object        \n",
      " 26  Provimce          451 non-null    float64       \n",
      " 27  Stage             450 non-null    float64       \n",
      " 28  Result            569 non-null    object        \n",
      " 29  Gems              129 non-null    float64       \n",
      " 30  Gems+             8408 non-null   int64         \n",
      " 31  Gems-             8408 non-null   int64         \n",
      " 32  Gems Balance      8408 non-null   int64         \n",
      "dtypes: datetime64[ns](1), float64(7), int64(6), object(19)\n",
      "memory usage: 2.2+ MB\n"
     ]
    }
   ],
   "source": [
    "np.info() # кол-во логов уменьшилось с 8457 до 8408"
   ]
  },
  {
   "cell_type": "code",
   "execution_count": 80,
   "id": "c64cc1eb",
   "metadata": {},
   "outputs": [
    {
     "data": {
      "text/html": [
       "<div>\n",
       "<style scoped>\n",
       "    .dataframe tbody tr th:only-of-type {\n",
       "        vertical-align: middle;\n",
       "    }\n",
       "\n",
       "    .dataframe tbody tr th {\n",
       "        vertical-align: top;\n",
       "    }\n",
       "\n",
       "    .dataframe thead th {\n",
       "        text-align: right;\n",
       "    }\n",
       "</style>\n",
       "<table border=\"1\" class=\"dataframe\">\n",
       "  <thead>\n",
       "    <tr style=\"text-align: right;\">\n",
       "      <th></th>\n",
       "      <th>Day</th>\n",
       "      <th>Session</th>\n",
       "      <th>Video #</th>\n",
       "      <th>Player Level</th>\n",
       "      <th>Stronghold Level</th>\n",
       "      <th>Team Power</th>\n",
       "      <th>Rarity</th>\n",
       "      <th>Provimce</th>\n",
       "      <th>Stage</th>\n",
       "      <th>Gems</th>\n",
       "      <th>Gems+</th>\n",
       "      <th>Gems-</th>\n",
       "      <th>Gems Balance</th>\n",
       "    </tr>\n",
       "  </thead>\n",
       "  <tbody>\n",
       "    <tr>\n",
       "      <th>count</th>\n",
       "      <td>8408.000000</td>\n",
       "      <td>8408.000000</td>\n",
       "      <td>8408.000000</td>\n",
       "      <td>8405.000000</td>\n",
       "      <td>8408.000000</td>\n",
       "      <td>556.000000</td>\n",
       "      <td>345.000000</td>\n",
       "      <td>451.000000</td>\n",
       "      <td>450.000000</td>\n",
       "      <td>129.000000</td>\n",
       "      <td>8408.000000</td>\n",
       "      <td>8408.000000</td>\n",
       "      <td>8408.000000</td>\n",
       "    </tr>\n",
       "    <tr>\n",
       "      <th>mean</th>\n",
       "      <td>7.354662</td>\n",
       "      <td>20.053283</td>\n",
       "      <td>20.063642</td>\n",
       "      <td>9.243189</td>\n",
       "      <td>5.072788</td>\n",
       "      <td>1220.852518</td>\n",
       "      <td>1.324638</td>\n",
       "      <td>6.208426</td>\n",
       "      <td>4.157778</td>\n",
       "      <td>0.612403</td>\n",
       "      <td>0.070052</td>\n",
       "      <td>-0.060657</td>\n",
       "      <td>144.953378</td>\n",
       "    </tr>\n",
       "    <tr>\n",
       "      <th>std</th>\n",
       "      <td>4.309270</td>\n",
       "      <td>12.843562</td>\n",
       "      <td>12.833411</td>\n",
       "      <td>3.449143</td>\n",
       "      <td>1.685285</td>\n",
       "      <td>180.388090</td>\n",
       "      <td>0.516137</td>\n",
       "      <td>2.837999</td>\n",
       "      <td>2.433891</td>\n",
       "      <td>33.331739</td>\n",
       "      <td>1.364809</td>\n",
       "      <td>3.879429</td>\n",
       "      <td>91.074731</td>\n",
       "    </tr>\n",
       "    <tr>\n",
       "      <th>min</th>\n",
       "      <td>1.000000</td>\n",
       "      <td>1.000000</td>\n",
       "      <td>1.100000</td>\n",
       "      <td>1.000000</td>\n",
       "      <td>1.000000</td>\n",
       "      <td>0.000000</td>\n",
       "      <td>1.000000</td>\n",
       "      <td>1.000000</td>\n",
       "      <td>1.000000</td>\n",
       "      <td>-350.000000</td>\n",
       "      <td>0.000000</td>\n",
       "      <td>-350.000000</td>\n",
       "      <td>0.000000</td>\n",
       "    </tr>\n",
       "    <tr>\n",
       "      <th>25%</th>\n",
       "      <td>3.000000</td>\n",
       "      <td>8.000000</td>\n",
       "      <td>8.000000</td>\n",
       "      <td>7.000000</td>\n",
       "      <td>4.000000</td>\n",
       "      <td>1110.000000</td>\n",
       "      <td>1.000000</td>\n",
       "      <td>4.000000</td>\n",
       "      <td>2.000000</td>\n",
       "      <td>1.000000</td>\n",
       "      <td>0.000000</td>\n",
       "      <td>0.000000</td>\n",
       "      <td>79.000000</td>\n",
       "    </tr>\n",
       "    <tr>\n",
       "      <th>50%</th>\n",
       "      <td>7.000000</td>\n",
       "      <td>20.000000</td>\n",
       "      <td>20.000000</td>\n",
       "      <td>10.000000</td>\n",
       "      <td>5.000000</td>\n",
       "      <td>1231.000000</td>\n",
       "      <td>1.000000</td>\n",
       "      <td>5.000000</td>\n",
       "      <td>4.000000</td>\n",
       "      <td>3.000000</td>\n",
       "      <td>0.000000</td>\n",
       "      <td>0.000000</td>\n",
       "      <td>125.000000</td>\n",
       "    </tr>\n",
       "    <tr>\n",
       "      <th>75%</th>\n",
       "      <td>11.000000</td>\n",
       "      <td>32.000000</td>\n",
       "      <td>32.000000</td>\n",
       "      <td>12.000000</td>\n",
       "      <td>6.000000</td>\n",
       "      <td>1340.000000</td>\n",
       "      <td>2.000000</td>\n",
       "      <td>9.000000</td>\n",
       "      <td>6.000000</td>\n",
       "      <td>5.000000</td>\n",
       "      <td>0.000000</td>\n",
       "      <td>0.000000</td>\n",
       "      <td>204.000000</td>\n",
       "    </tr>\n",
       "    <tr>\n",
       "      <th>max</th>\n",
       "      <td>14.000000</td>\n",
       "      <td>41.000000</td>\n",
       "      <td>41.000000</td>\n",
       "      <td>14.000000</td>\n",
       "      <td>8.000000</td>\n",
       "      <td>1523.000000</td>\n",
       "      <td>3.000000</td>\n",
       "      <td>12.000000</td>\n",
       "      <td>10.000000</td>\n",
       "      <td>100.000000</td>\n",
       "      <td>100.000000</td>\n",
       "      <td>0.000000</td>\n",
       "      <td>350.000000</td>\n",
       "    </tr>\n",
       "  </tbody>\n",
       "</table>\n",
       "</div>"
      ],
      "text/plain": [
       "               Day      Session      Video #  Player Level  Stronghold Level  \\\n",
       "count  8408.000000  8408.000000  8408.000000   8405.000000       8408.000000   \n",
       "mean      7.354662    20.053283    20.063642      9.243189          5.072788   \n",
       "std       4.309270    12.843562    12.833411      3.449143          1.685285   \n",
       "min       1.000000     1.000000     1.100000      1.000000          1.000000   \n",
       "25%       3.000000     8.000000     8.000000      7.000000          4.000000   \n",
       "50%       7.000000    20.000000    20.000000     10.000000          5.000000   \n",
       "75%      11.000000    32.000000    32.000000     12.000000          6.000000   \n",
       "max      14.000000    41.000000    41.000000     14.000000          8.000000   \n",
       "\n",
       "        Team Power      Rarity    Provimce       Stage        Gems  \\\n",
       "count   556.000000  345.000000  451.000000  450.000000  129.000000   \n",
       "mean   1220.852518    1.324638    6.208426    4.157778    0.612403   \n",
       "std     180.388090    0.516137    2.837999    2.433891   33.331739   \n",
       "min       0.000000    1.000000    1.000000    1.000000 -350.000000   \n",
       "25%    1110.000000    1.000000    4.000000    2.000000    1.000000   \n",
       "50%    1231.000000    1.000000    5.000000    4.000000    3.000000   \n",
       "75%    1340.000000    2.000000    9.000000    6.000000    5.000000   \n",
       "max    1523.000000    3.000000   12.000000   10.000000  100.000000   \n",
       "\n",
       "             Gems+        Gems-  Gems Balance  \n",
       "count  8408.000000  8408.000000   8408.000000  \n",
       "mean      0.070052    -0.060657    144.953378  \n",
       "std       1.364809     3.879429     91.074731  \n",
       "min       0.000000  -350.000000      0.000000  \n",
       "25%       0.000000     0.000000     79.000000  \n",
       "50%       0.000000     0.000000    125.000000  \n",
       "75%       0.000000     0.000000    204.000000  \n",
       "max     100.000000     0.000000    350.000000  "
      ]
     },
     "execution_count": 80,
     "metadata": {},
     "output_type": "execute_result"
    }
   ],
   "source": [
    "np.describe() # визуально выбросов нет, однако столбец \"Provimce\" написан с явной ошибкой.\n",
    "              # кроме того, столбец gems уже показывает изменение самоцветов (+100 или -3), так что колонки gems+/gems- не нужны"
   ]
  },
  {
   "cell_type": "code",
   "execution_count": 81,
   "id": "1c73a06c",
   "metadata": {},
   "outputs": [],
   "source": [
    "np = np.rename(columns={'Provimce': 'Province'}).drop(columns=['Gems+', 'Gems-'])"
   ]
  },
  {
   "cell_type": "code",
   "execution_count": 129,
   "id": "3d71845a",
   "metadata": {},
   "outputs": [
    {
     "data": {
      "text/plain": [
       "<AxesSubplot:xlabel='Day'>"
      ]
     },
     "execution_count": 129,
     "metadata": {},
     "output_type": "execute_result"
    },
    {
     "data": {
      "image/png": "[encoded data removed]",
      "text/plain": [
       "<Figure size 432x288 with 1 Axes>"
      ]
     },
     "metadata": {
      "needs_background": "light"
     },
     "output_type": "display_data"
    }
   ],
   "source": [
    "np.groupby(['Day'])['Gems'].sum().plot()\n",
    "whale.groupby(['Day'])['Gems'].sum().plot()\n",
    "# Видим, что размах затрат самоцветов гораздо больше у платящего игрока. \n",
    "# Предположительно у Кита будет больше контента, выше уровень, дольше длина сессий.\n",
    "# Дни приобретения самоцветов и дни их трат чередуются - признак хорошей работы внутриигрового магазина. "
   ]
  },
  {
   "cell_type": "code",
   "execution_count": 138,
   "id": "0730d4b5",
   "metadata": {},
   "outputs": [
    {
     "name": "stdout",
     "output_type": "stream",
     "text": [
      "10379    208\n",
      "Name: Gems Balance, dtype: int64\n"
     ]
    },
    {
     "data": {
      "text/plain": [
       "8456    79\n",
       "Name: Gems Balance, dtype: int64"
      ]
     },
     "execution_count": 138,
     "metadata": {},
     "output_type": "execute_result"
    }
   ],
   "source": [
    "print(whale['Gems Balance'].tail(1)) \n",
    "np['Gems Balance'].tail(1)\n",
    "# спустя 2 недели видим, что внутриигровая валюта даже и кита не скапливается - признак хорошего магазина!"
   ]
  },
  {
   "cell_type": "code",
   "execution_count": 119,
   "id": "6d1eebe4",
   "metadata": {},
   "outputs": [],
   "source": [
    "from datetime import datetime, timedelta"
   ]
  },
  {
   "cell_type": "code",
   "execution_count": 120,
   "id": "47ad796c",
   "metadata": {},
   "outputs": [
    {
     "data": {
      "text/html": [
       "<div>\n",
       "<style scoped>\n",
       "    .dataframe tbody tr th:only-of-type {\n",
       "        vertical-align: middle;\n",
       "    }\n",
       "\n",
       "    .dataframe tbody tr th {\n",
       "        vertical-align: top;\n",
       "    }\n",
       "\n",
       "    .dataframe thead th {\n",
       "        text-align: right;\n",
       "    }\n",
       "</style>\n",
       "<table border=\"1\" class=\"dataframe\">\n",
       "  <thead>\n",
       "    <tr style=\"text-align: right;\">\n",
       "      <th></th>\n",
       "      <th>Time</th>\n",
       "      <th>Day</th>\n",
       "      <th>Session</th>\n",
       "    </tr>\n",
       "  </thead>\n",
       "  <tbody>\n",
       "    <tr>\n",
       "      <th>0</th>\n",
       "      <td>01:02:17</td>\n",
       "      <td>1.0</td>\n",
       "      <td>1.0</td>\n",
       "    </tr>\n",
       "    <tr>\n",
       "      <th>1</th>\n",
       "      <td>00:12:32</td>\n",
       "      <td>1.0</td>\n",
       "      <td>1.0</td>\n",
       "    </tr>\n",
       "    <tr>\n",
       "      <th>2</th>\n",
       "      <td>01:35:09</td>\n",
       "      <td>1.0</td>\n",
       "      <td>2.0</td>\n",
       "    </tr>\n",
       "    <tr>\n",
       "      <th>3</th>\n",
       "      <td>00:49:36</td>\n",
       "      <td>2.0</td>\n",
       "      <td>3.0</td>\n",
       "    </tr>\n",
       "    <tr>\n",
       "      <th>4</th>\n",
       "      <td>01:17:17</td>\n",
       "      <td>2.0</td>\n",
       "      <td>4.0</td>\n",
       "    </tr>\n",
       "  </tbody>\n",
       "</table>\n",
       "</div>"
      ],
      "text/plain": [
       "       Time  Day  Session\n",
       "0  01:02:17  1.0      1.0\n",
       "1  00:12:32  1.0      1.0\n",
       "2  01:35:09  1.0      2.0\n",
       "3  00:49:36  2.0      3.0\n",
       "4  01:17:17  2.0      4.0"
      ]
     },
     "execution_count": 120,
     "metadata": {},
     "output_type": "execute_result"
    }
   ],
   "source": [
    "vid = pd.read_excel('video.xlsx')\n",
    "vid = vid.iloc[:, 2:]  \n",
    "vid.head()"
   ]
  },
  {
   "cell_type": "code",
   "execution_count": 121,
   "id": "886d5562",
   "metadata": {},
   "outputs": [],
   "source": [
    "vid['Time'] = pd.to_datetime(vid['Time'], format='%H:%M:%S')\n",
    "vid['Time'] = vid['Time'] - vid['Time'].dt.normalize() "
   ]
  },
  {
   "cell_type": "code",
   "execution_count": null,
   "id": "54b6444d",
   "metadata": {},
   "outputs": [],
   "source": [
    "# наверняка есть более адекватный алгоритм действий при переводе str во время для подсчёта интервала"
   ]
  },
  {
   "cell_type": "code",
   "execution_count": 128,
   "id": "be65a102",
   "metadata": {},
   "outputs": [
    {
     "data": {
      "text/plain": [
       "<AxesSubplot:xlabel='Day'>"
      ]
     },
     "execution_count": 128,
     "metadata": {},
     "output_type": "execute_result"
    },
    {
     "data": {
      "image/png": "[encoded data removed]",
      "text/plain": [
       "<Figure size 432x288 with 1 Axes>"
      ]
     },
     "metadata": {
      "needs_background": "light"
     },
     "output_type": "display_data"
    }
   ],
   "source": [
    "vid.groupby(['Day']).Time.sum().plot() # в чём измеряется?"
   ]
  },
  {
   "cell_type": "code",
   "execution_count": null,
   "id": "29454c4a",
   "metadata": {},
   "outputs": [],
   "source": []
  }
 ],
 "metadata": {
  "kernelspec": {
   "display_name": "Python 3 (ipykernel)",
   "language": "python",
   "name": "python3"
  },
  "language_info": {
   "codemirror_mode": {
    "name": "ipython",
    "version": 3
   },
   "file_extension": ".py",
   "mimetype": "text/x-python",
   "name": "python",
   "nbconvert_exporter": "python",
   "pygments_lexer": "ipython3",
   "version": "3.9.7"
  }
 },
 "nbformat": 4,
 "nbformat_minor": 5
}
