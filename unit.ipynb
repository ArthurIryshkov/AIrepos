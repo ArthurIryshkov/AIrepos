{
 "cells": [
  {
   "cell_type": "code",
   "execution_count": 105,
   "id": "7ed740ae",
   "metadata": {},
   "outputs": [
    {
     "name": "stdout",
     "output_type": "stream",
     "text": [
      "Requirement already satisfied: xgboost in c:\\users\\iryshkov\\anaconda3\\lib\\site-packages (1.6.1)\n",
      "Requirement already satisfied: scipy in c:\\users\\iryshkov\\anaconda3\\lib\\site-packages (from xgboost) (1.7.3)\n",
      "Requirement already satisfied: numpy in c:\\users\\iryshkov\\anaconda3\\lib\\site-packages (from xgboost) (1.21.5)\n",
      "Note: you may need to restart the kernel to use updated packages.\n"
     ]
    }
   ],
   "source": [
    "pip install xgboost"
   ]
  },
  {
   "cell_type": "code",
   "execution_count": 106,
   "id": "60d0eba7",
   "metadata": {},
   "outputs": [],
   "source": [
    "import pandas as pd\n",
    "import numpy as np\n",
    "import statsmodels.formula.api as smf\n",
    "from sklearn.linear_model import LogisticRegression\n",
    "from sklearn.ensemble import RandomForestClassifier\n",
    "from xgboost import XGBClassifier\n",
    "from sklearn.feature_extraction.text import CountVectorizer\n",
    "from sklearn.preprocessing import StandardScaler"
   ]
  },
  {
   "cell_type": "code",
   "execution_count": 107,
   "id": "19960ff6",
   "metadata": {
    "scrolled": true
   },
   "outputs": [],
   "source": [
    "unit = pd.read_excel('unit.xlsx').drop('Unnamed: 0',axis=1)"
   ]
  },
  {
   "cell_type": "code",
   "execution_count": 108,
   "id": "b33d0e9f",
   "metadata": {},
   "outputs": [
    {
     "data": {
      "text/html": [
       "<div>\n",
       "<style scoped>\n",
       "    .dataframe tbody tr th:only-of-type {\n",
       "        vertical-align: middle;\n",
       "    }\n",
       "\n",
       "    .dataframe tbody tr th {\n",
       "        vertical-align: top;\n",
       "    }\n",
       "\n",
       "    .dataframe thead th {\n",
       "        text-align: right;\n",
       "    }\n",
       "</style>\n",
       "<table border=\"1\" class=\"dataframe\">\n",
       "  <thead>\n",
       "    <tr style=\"text-align: right;\">\n",
       "      <th></th>\n",
       "      <th>Сессия каждые N дней</th>\n",
       "      <th>Количество уровней в сессию</th>\n",
       "      <th>Показы рекламы принудительной каждые N уровней</th>\n",
       "      <th>Просмотр рекламы за ежедневную награду каждую N игровую сессию</th>\n",
       "      <th>Просмотр рекламы для возрождения и др. за сессию</th>\n",
       "      <th>Покупка бустеров каждую N сессию</th>\n",
       "      <th>Покупка декоративных элементов каждую N сессию</th>\n",
       "      <th>values</th>\n",
       "    </tr>\n",
       "  </thead>\n",
       "  <tbody>\n",
       "    <tr>\n",
       "      <th>135</th>\n",
       "      <td>3</td>\n",
       "      <td>3</td>\n",
       "      <td>8</td>\n",
       "      <td>3</td>\n",
       "      <td>1</td>\n",
       "      <td>6</td>\n",
       "      <td>10</td>\n",
       "      <td>-52015</td>\n",
       "    </tr>\n",
       "    <tr>\n",
       "      <th>133</th>\n",
       "      <td>3</td>\n",
       "      <td>3</td>\n",
       "      <td>8</td>\n",
       "      <td>3</td>\n",
       "      <td>1</td>\n",
       "      <td>3</td>\n",
       "      <td>10</td>\n",
       "      <td>-42425</td>\n",
       "    </tr>\n",
       "    <tr>\n",
       "      <th>183</th>\n",
       "      <td>3</td>\n",
       "      <td>6</td>\n",
       "      <td>8</td>\n",
       "      <td>3</td>\n",
       "      <td>1</td>\n",
       "      <td>6</td>\n",
       "      <td>10</td>\n",
       "      <td>-39263</td>\n",
       "    </tr>\n",
       "  </tbody>\n",
       "</table>\n",
       "</div>"
      ],
      "text/plain": [
       "     Сессия каждые N дней  Количество уровней в сессию  \\\n",
       "135                     3                            3   \n",
       "133                     3                            3   \n",
       "183                     3                            6   \n",
       "\n",
       "     Показы рекламы принудительной каждые N уровней  \\\n",
       "135                                               8   \n",
       "133                                               8   \n",
       "183                                               8   \n",
       "\n",
       "     Просмотр рекламы за ежедневную награду каждую N игровую сессию  \\\n",
       "135                                                  3                \n",
       "133                                                  3                \n",
       "183                                                  3                \n",
       "\n",
       "     Просмотр рекламы для возрождения и др. за сессию  \\\n",
       "135                                                 1   \n",
       "133                                                 1   \n",
       "183                                                 1   \n",
       "\n",
       "     Покупка бустеров каждую N сессию  \\\n",
       "135                                 6   \n",
       "133                                 3   \n",
       "183                                 6   \n",
       "\n",
       "     Покупка декоративных элементов каждую N сессию  values  \n",
       "135                                              10  -52015  \n",
       "133                                              10  -42425  \n",
       "183                                              10  -39263  "
      ]
     },
     "execution_count": 108,
     "metadata": {},
     "output_type": "execute_result"
    }
   ],
   "source": [
    "unit.sort_values('values',ascending=True).head(3) # ТРИ ХУДШИХ ВАРИАНТА"
   ]
  },
  {
   "cell_type": "code",
   "execution_count": 109,
   "id": "8c4f14e9",
   "metadata": {},
   "outputs": [
    {
     "data": {
      "text/html": [
       "<div>\n",
       "<style scoped>\n",
       "    .dataframe tbody tr th:only-of-type {\n",
       "        vertical-align: middle;\n",
       "    }\n",
       "\n",
       "    .dataframe tbody tr th {\n",
       "        vertical-align: top;\n",
       "    }\n",
       "\n",
       "    .dataframe thead th {\n",
       "        text-align: right;\n",
       "    }\n",
       "</style>\n",
       "<table border=\"1\" class=\"dataframe\">\n",
       "  <thead>\n",
       "    <tr style=\"text-align: right;\">\n",
       "      <th></th>\n",
       "      <th>Сессия каждые N дней</th>\n",
       "      <th>Количество уровней в сессию</th>\n",
       "      <th>Показы рекламы принудительной каждые N уровней</th>\n",
       "      <th>Просмотр рекламы за ежедневную награду каждую N игровую сессию</th>\n",
       "      <th>Просмотр рекламы для возрождения и др. за сессию</th>\n",
       "      <th>Покупка бустеров каждую N сессию</th>\n",
       "      <th>Покупка декоративных элементов каждую N сессию</th>\n",
       "      <th>values</th>\n",
       "    </tr>\n",
       "  </thead>\n",
       "  <tbody>\n",
       "    <tr>\n",
       "      <th>56</th>\n",
       "      <td>1</td>\n",
       "      <td>6</td>\n",
       "      <td>4</td>\n",
       "      <td>1</td>\n",
       "      <td>5</td>\n",
       "      <td>3</td>\n",
       "      <td>5</td>\n",
       "      <td>4205074</td>\n",
       "    </tr>\n",
       "    <tr>\n",
       "      <th>58</th>\n",
       "      <td>1</td>\n",
       "      <td>6</td>\n",
       "      <td>4</td>\n",
       "      <td>1</td>\n",
       "      <td>5</td>\n",
       "      <td>6</td>\n",
       "      <td>5</td>\n",
       "      <td>3944524</td>\n",
       "    </tr>\n",
       "    <tr>\n",
       "      <th>68</th>\n",
       "      <td>1</td>\n",
       "      <td>6</td>\n",
       "      <td>4</td>\n",
       "      <td>3</td>\n",
       "      <td>5</td>\n",
       "      <td>3</td>\n",
       "      <td>5</td>\n",
       "      <td>3414153</td>\n",
       "    </tr>\n",
       "  </tbody>\n",
       "</table>\n",
       "</div>"
      ],
      "text/plain": [
       "    Сессия каждые N дней  Количество уровней в сессию  \\\n",
       "56                     1                            6   \n",
       "58                     1                            6   \n",
       "68                     1                            6   \n",
       "\n",
       "    Показы рекламы принудительной каждые N уровней  \\\n",
       "56                                               4   \n",
       "58                                               4   \n",
       "68                                               4   \n",
       "\n",
       "    Просмотр рекламы за ежедневную награду каждую N игровую сессию  \\\n",
       "56                                                  1                \n",
       "58                                                  1                \n",
       "68                                                  3                \n",
       "\n",
       "    Просмотр рекламы для возрождения и др. за сессию  \\\n",
       "56                                                 5   \n",
       "58                                                 5   \n",
       "68                                                 5   \n",
       "\n",
       "    Покупка бустеров каждую N сессию  \\\n",
       "56                                 3   \n",
       "58                                 6   \n",
       "68                                 3   \n",
       "\n",
       "    Покупка декоративных элементов каждую N сессию   values  \n",
       "56                                               5  4205074  \n",
       "58                                               5  3944524  \n",
       "68                                               5  3414153  "
      ]
     },
     "execution_count": 109,
     "metadata": {},
     "output_type": "execute_result"
    }
   ],
   "source": [
    "unit.sort_values('values',ascending=False).head(3) # ТРИ ЛУЧШИХ ВАРИАНТА"
   ]
  },
  {
   "cell_type": "code",
   "execution_count": 110,
   "id": "0ce70ef9",
   "metadata": {},
   "outputs": [
    {
     "data": {
      "text/plain": [
       "Index(['Сессия каждые N дней', 'Количество уровней в сессию',\n",
       "       'Показы рекламы принудительной каждые N уровней',\n",
       "       'Просмотр рекламы за ежедневную награду каждую N игровую сессию',\n",
       "       'Просмотр рекламы для возрождения и др. за сессию',\n",
       "       'Покупка бустеров каждую N сессию',\n",
       "       'Покупка декоративных элементов каждую N сессию', 'values'],\n",
       "      dtype='object')"
      ]
     },
     "execution_count": 110,
     "metadata": {},
     "output_type": "execute_result"
    }
   ],
   "source": [
    "unit.columns"
   ]
  },
  {
   "cell_type": "markdown",
   "id": "bc3abbc6",
   "metadata": {},
   "source": [
    "### 1. По коэффициентам логистической регрессии."
   ]
  },
  {
   "cell_type": "code",
   "execution_count": 111,
   "id": "bfce1a7e",
   "metadata": {},
   "outputs": [],
   "source": [
    "features = ['Сессия каждые N дней', 'Количество уровней в сессию',\n",
    "       'Показы рекламы принудительной каждые N уровней',\n",
    "       'Просмотр рекламы за ежедневную награду каждую N игровую сессию',\n",
    "       'Просмотр рекламы для возрождения и др. за сессию',\n",
    "       'Покупка бустеров каждую N сессию',\n",
    "       'Покупка декоративных элементов каждую N сессию']"
   ]
  },
  {
   "cell_type": "code",
   "execution_count": 112,
   "id": "0a445b0b",
   "metadata": {},
   "outputs": [],
   "source": [
    "X, y = unit[features], unit['values']"
   ]
  },
  {
   "cell_type": "code",
   "execution_count": 113,
   "id": "911c7402",
   "metadata": {},
   "outputs": [],
   "source": [
    "ss = StandardScaler()\n",
    "X_scaled = ss.fit_transform(X)"
   ]
  },
  {
   "cell_type": "code",
   "execution_count": 17,
   "id": "07a3582e",
   "metadata": {},
   "outputs": [],
   "source": [
    "model=LogisticRegression(max_iter=1000, random_state=1)"
   ]
  },
  {
   "cell_type": "code",
   "execution_count": 18,
   "id": "7863d85c",
   "metadata": {},
   "outputs": [
    {
     "data": {
      "text/plain": [
       "LogisticRegression(max_iter=1000, random_state=1)"
      ]
     },
     "execution_count": 18,
     "metadata": {},
     "output_type": "execute_result"
    }
   ],
   "source": [
    "model.fit(X_scaled,y)"
   ]
  },
  {
   "cell_type": "code",
   "execution_count": 19,
   "id": "7e288851",
   "metadata": {},
   "outputs": [],
   "source": [
    "feature_importance = pd.DataFrame({'Признак':list(X.columns),'Важность':[i for i in model.coef_[0]]})"
   ]
  },
  {
   "cell_type": "code",
   "execution_count": 20,
   "id": "9a086e0f",
   "metadata": {},
   "outputs": [],
   "source": [
    "model = LogisticRegression()\n",
    "model.fit(X_scaled,y)\n",
    "importances = pd.DataFrame(data={\n",
    "    'Attribute': X.columns,\n",
    "    'Importance': model.coef_[0]\n",
    "})\n",
    "importances = importances.sort_values(by='Importance', ascending=True)"
   ]
  },
  {
   "cell_type": "code",
   "execution_count": 21,
   "id": "1fb5054a",
   "metadata": {
    "scrolled": true
   },
   "outputs": [
    {
     "data": {
      "text/html": [
       "<div>\n",
       "<style scoped>\n",
       "    .dataframe tbody tr th:only-of-type {\n",
       "        vertical-align: middle;\n",
       "    }\n",
       "\n",
       "    .dataframe tbody tr th {\n",
       "        vertical-align: top;\n",
       "    }\n",
       "\n",
       "    .dataframe thead th {\n",
       "        text-align: right;\n",
       "    }\n",
       "</style>\n",
       "<table border=\"1\" class=\"dataframe\">\n",
       "  <thead>\n",
       "    <tr style=\"text-align: right;\">\n",
       "      <th></th>\n",
       "      <th>Attribute</th>\n",
       "      <th>Importance</th>\n",
       "    </tr>\n",
       "  </thead>\n",
       "  <tbody>\n",
       "    <tr>\n",
       "      <th>4</th>\n",
       "      <td>Просмотр рекламы для возрождения и др. за сессию</td>\n",
       "      <td>-0.670485</td>\n",
       "    </tr>\n",
       "    <tr>\n",
       "      <th>1</th>\n",
       "      <td>Количество уровней в сессию</td>\n",
       "      <td>-0.550968</td>\n",
       "    </tr>\n",
       "    <tr>\n",
       "      <th>3</th>\n",
       "      <td>Просмотр рекламы за ежедневную награду каждую ...</td>\n",
       "      <td>0.519192</td>\n",
       "    </tr>\n",
       "    <tr>\n",
       "      <th>0</th>\n",
       "      <td>Сессия каждые N дней</td>\n",
       "      <td>0.520190</td>\n",
       "    </tr>\n",
       "    <tr>\n",
       "      <th>5</th>\n",
       "      <td>Покупка бустеров каждую N сессию</td>\n",
       "      <td>0.521875</td>\n",
       "    </tr>\n",
       "    <tr>\n",
       "      <th>6</th>\n",
       "      <td>Покупка декоративных элементов каждую N сессию</td>\n",
       "      <td>0.522889</td>\n",
       "    </tr>\n",
       "    <tr>\n",
       "      <th>2</th>\n",
       "      <td>Показы рекламы принудительной каждые N уровней</td>\n",
       "      <td>0.546109</td>\n",
       "    </tr>\n",
       "  </tbody>\n",
       "</table>\n",
       "</div>"
      ],
      "text/plain": [
       "                                           Attribute  Importance\n",
       "4   Просмотр рекламы для возрождения и др. за сессию   -0.670485\n",
       "1                        Количество уровней в сессию   -0.550968\n",
       "3  Просмотр рекламы за ежедневную награду каждую ...    0.519192\n",
       "0                               Сессия каждые N дней    0.520190\n",
       "5                   Покупка бустеров каждую N сессию    0.521875\n",
       "6     Покупка декоративных элементов каждую N сессию    0.522889\n",
       "2     Показы рекламы принудительной каждые N уровней    0.546109"
      ]
     },
     "execution_count": 21,
     "metadata": {},
     "output_type": "execute_result"
    },
    {
     "data": {
      "image/png": "[encoded data removed]",
      "text/plain": [
       "<Figure size 432x288 with 1 Axes>"
      ]
     },
     "metadata": {
      "needs_background": "light"
     },
     "output_type": "display_data"
    }
   ],
   "source": [
    "importances.plot(x = 'Attribute', y = 'Importance', kind = 'barh')\n",
    "importances"
   ]
  },
  {
   "cell_type": "code",
   "execution_count": null,
   "id": "3b40f1be",
   "metadata": {},
   "outputs": [],
   "source": []
  },
  {
   "cell_type": "markdown",
   "id": "0957a845",
   "metadata": {},
   "source": [
    "### 2. Random Forest."
   ]
  },
  {
   "cell_type": "code",
   "execution_count": 22,
   "id": "e2655505",
   "metadata": {},
   "outputs": [],
   "source": [
    "from sklearn.ensemble import RandomForestRegressor"
   ]
  },
  {
   "cell_type": "code",
   "execution_count": 23,
   "id": "3a99d35d",
   "metadata": {},
   "outputs": [],
   "source": [
    "model=RandomForestRegressor()"
   ]
  },
  {
   "cell_type": "code",
   "execution_count": 24,
   "id": "d1b7bee7",
   "metadata": {},
   "outputs": [
    {
     "data": {
      "text/plain": [
       "RandomForestRegressor()"
      ]
     },
     "execution_count": 24,
     "metadata": {},
     "output_type": "execute_result"
    }
   ],
   "source": [
    "model.fit(X,y)"
   ]
  },
  {
   "cell_type": "code",
   "execution_count": 25,
   "id": "d85fa962",
   "metadata": {},
   "outputs": [
    {
     "data": {
      "text/html": [
       "<div>\n",
       "<style scoped>\n",
       "    .dataframe tbody tr th:only-of-type {\n",
       "        vertical-align: middle;\n",
       "    }\n",
       "\n",
       "    .dataframe tbody tr th {\n",
       "        vertical-align: top;\n",
       "    }\n",
       "\n",
       "    .dataframe thead th {\n",
       "        text-align: right;\n",
       "    }\n",
       "</style>\n",
       "<table border=\"1\" class=\"dataframe\">\n",
       "  <thead>\n",
       "    <tr style=\"text-align: right;\">\n",
       "      <th></th>\n",
       "      <th>features</th>\n",
       "      <th>feature_importance</th>\n",
       "    </tr>\n",
       "  </thead>\n",
       "  <tbody>\n",
       "    <tr>\n",
       "      <th>0</th>\n",
       "      <td>Сессия каждые N дней</td>\n",
       "      <td>0.457820</td>\n",
       "    </tr>\n",
       "    <tr>\n",
       "      <th>4</th>\n",
       "      <td>Просмотр рекламы для возрождения и др. за сессию</td>\n",
       "      <td>0.440514</td>\n",
       "    </tr>\n",
       "    <tr>\n",
       "      <th>6</th>\n",
       "      <td>Покупка декоративных элементов каждую N сессию</td>\n",
       "      <td>0.053026</td>\n",
       "    </tr>\n",
       "    <tr>\n",
       "      <th>3</th>\n",
       "      <td>Просмотр рекламы за ежедневную награду каждую ...</td>\n",
       "      <td>0.020135</td>\n",
       "    </tr>\n",
       "    <tr>\n",
       "      <th>2</th>\n",
       "      <td>Показы рекламы принудительной каждые N уровней</td>\n",
       "      <td>0.013021</td>\n",
       "    </tr>\n",
       "    <tr>\n",
       "      <th>1</th>\n",
       "      <td>Количество уровней в сессию</td>\n",
       "      <td>0.012091</td>\n",
       "    </tr>\n",
       "    <tr>\n",
       "      <th>5</th>\n",
       "      <td>Покупка бустеров каждую N сессию</td>\n",
       "      <td>0.003393</td>\n",
       "    </tr>\n",
       "  </tbody>\n",
       "</table>\n",
       "</div>"
      ],
      "text/plain": [
       "                                            features  feature_importance\n",
       "0                               Сессия каждые N дней            0.457820\n",
       "4   Просмотр рекламы для возрождения и др. за сессию            0.440514\n",
       "6     Покупка декоративных элементов каждую N сессию            0.053026\n",
       "3  Просмотр рекламы за ежедневную награду каждую ...            0.020135\n",
       "2     Показы рекламы принудительной каждые N уровней            0.013021\n",
       "1                        Количество уровней в сессию            0.012091\n",
       "5                   Покупка бустеров каждую N сессию            0.003393"
      ]
     },
     "execution_count": 25,
     "metadata": {},
     "output_type": "execute_result"
    }
   ],
   "source": [
    "feature_importances = pd.DataFrame({'features':X.columns,'feature_importance':model.feature_importances_})\n",
    "feature_importances.sort_values('feature_importance',ascending=False)"
   ]
  },
  {
   "cell_type": "code",
   "execution_count": 26,
   "id": "2f92d045",
   "metadata": {},
   "outputs": [
    {
     "data": {
      "text/plain": [
       "<AxesSubplot:ylabel='features'>"
      ]
     },
     "execution_count": 26,
     "metadata": {},
     "output_type": "execute_result"
    },
    {
     "data": {
      "image/png": "[encoded data removed]",
      "text/plain": [
       "<Figure size 432x288 with 1 Axes>"
      ]
     },
     "metadata": {
      "needs_background": "light"
     },
     "output_type": "display_data"
    }
   ],
   "source": [
    "feature_importances.sort_values('feature_importance',ascending=True).plot(x = 'features', y = 'feature_importance', kind = 'barh')"
   ]
  },
  {
   "cell_type": "markdown",
   "id": "e4429325",
   "metadata": {},
   "source": [
    "### 3. XGBoost"
   ]
  },
  {
   "cell_type": "code",
   "execution_count": 27,
   "id": "c9b87314",
   "metadata": {},
   "outputs": [],
   "source": [
    "from sklearn.preprocessing import LabelEncoder\n",
    "le = LabelEncoder()\n",
    "y = le.fit_transform(y)"
   ]
  },
  {
   "cell_type": "code",
   "execution_count": 28,
   "id": "baf011fe",
   "metadata": {},
   "outputs": [],
   "source": [
    "from xgboost import XGBClassifier\n",
    "\n",
    "model = XGBClassifier()\n",
    "model.fit(X_scaled, y)\n",
    "importances = pd.DataFrame(data={\n",
    "    'Attribute': X.columns,\n",
    "    'Importance': model.feature_importances_\n",
    "})\n",
    "importances = importances.sort_values(by='Importance', ascending=False)"
   ]
  },
  {
   "cell_type": "code",
   "execution_count": 29,
   "id": "78881c3a",
   "metadata": {},
   "outputs": [
    {
     "data": {
      "text/plain": [
       "<AxesSubplot:ylabel='Attribute'>"
      ]
     },
     "execution_count": 29,
     "metadata": {},
     "output_type": "execute_result"
    },
    {
     "data": {
      "image/png": "[encoded data removed]",
      "text/plain": [
       "<Figure size 432x288 with 1 Axes>"
      ]
     },
     "metadata": {
      "needs_background": "light"
     },
     "output_type": "display_data"
    }
   ],
   "source": [
    "importances.sort_values('Importance',ascending=True).plot(x = 'Attribute', y = 'Importance', kind = 'barh')"
   ]
  },
  {
   "cell_type": "markdown",
   "id": "4551a156",
   "metadata": {},
   "source": [
    "### Коэффициенты корреляции по Пирсону и Спирману"
   ]
  },
  {
   "cell_type": "code",
   "execution_count": 30,
   "id": "1107d171",
   "metadata": {},
   "outputs": [
    {
     "data": {
      "text/html": [
       "<div>\n",
       "<style scoped>\n",
       "    .dataframe tbody tr th:only-of-type {\n",
       "        vertical-align: middle;\n",
       "    }\n",
       "\n",
       "    .dataframe tbody tr th {\n",
       "        vertical-align: top;\n",
       "    }\n",
       "\n",
       "    .dataframe thead th {\n",
       "        text-align: right;\n",
       "    }\n",
       "</style>\n",
       "<table border=\"1\" class=\"dataframe\">\n",
       "  <thead>\n",
       "    <tr style=\"text-align: right;\">\n",
       "      <th></th>\n",
       "      <th>Количество уровней в сессию</th>\n",
       "      <th>Просмотр рекламы для возрождения и др. за сессию</th>\n",
       "      <th>values</th>\n",
       "    </tr>\n",
       "  </thead>\n",
       "  <tbody>\n",
       "    <tr>\n",
       "      <th>Количество уровней в сессию</th>\n",
       "      <td>1.00</td>\n",
       "      <td>0.00</td>\n",
       "      <td>0.08</td>\n",
       "    </tr>\n",
       "    <tr>\n",
       "      <th>Просмотр рекламы для возрождения и др. за сессию</th>\n",
       "      <td>0.00</td>\n",
       "      <td>1.00</td>\n",
       "      <td>0.53</td>\n",
       "    </tr>\n",
       "    <tr>\n",
       "      <th>values</th>\n",
       "      <td>0.08</td>\n",
       "      <td>0.53</td>\n",
       "      <td>1.00</td>\n",
       "    </tr>\n",
       "  </tbody>\n",
       "</table>\n",
       "</div>"
      ],
      "text/plain": [
       "                                                  Количество уровней в сессию  \\\n",
       "Количество уровней в сессию                                              1.00   \n",
       "Просмотр рекламы для возрождения и др. за сессию                         0.00   \n",
       "values                                                                   0.08   \n",
       "\n",
       "                                                  Просмотр рекламы для возрождения и др. за сессию  \\\n",
       "Количество уровней в сессию                                                                   0.00   \n",
       "Просмотр рекламы для возрождения и др. за сессию                                              1.00   \n",
       "values                                                                                        0.53   \n",
       "\n",
       "                                                  values  \n",
       "Количество уровней в сессию                         0.08  \n",
       "Просмотр рекламы для возрождения и др. за сессию    0.53  \n",
       "values                                              1.00  "
      ]
     },
     "execution_count": 30,
     "metadata": {},
     "output_type": "execute_result"
    }
   ],
   "source": [
    "unit[['Количество уровней в сессию','Просмотр рекламы для возрождения и др. за сессию', 'values']].corr().round(2)"
   ]
  },
  {
   "cell_type": "code",
   "execution_count": 31,
   "id": "78910e88",
   "metadata": {},
   "outputs": [
    {
     "data": {
      "text/html": [
       "<div>\n",
       "<style scoped>\n",
       "    .dataframe tbody tr th:only-of-type {\n",
       "        vertical-align: middle;\n",
       "    }\n",
       "\n",
       "    .dataframe tbody tr th {\n",
       "        vertical-align: top;\n",
       "    }\n",
       "\n",
       "    .dataframe thead th {\n",
       "        text-align: right;\n",
       "    }\n",
       "</style>\n",
       "<table border=\"1\" class=\"dataframe\">\n",
       "  <thead>\n",
       "    <tr style=\"text-align: right;\">\n",
       "      <th></th>\n",
       "      <th>Количество уровней в сессию</th>\n",
       "      <th>Просмотр рекламы для возрождения и др. за сессию</th>\n",
       "      <th>values</th>\n",
       "    </tr>\n",
       "  </thead>\n",
       "  <tbody>\n",
       "    <tr>\n",
       "      <th>Количество уровней в сессию</th>\n",
       "      <td>1.00</td>\n",
       "      <td>0.0</td>\n",
       "      <td>0.08</td>\n",
       "    </tr>\n",
       "    <tr>\n",
       "      <th>Просмотр рекламы для возрождения и др. за сессию</th>\n",
       "      <td>0.00</td>\n",
       "      <td>1.0</td>\n",
       "      <td>0.50</td>\n",
       "    </tr>\n",
       "    <tr>\n",
       "      <th>values</th>\n",
       "      <td>0.08</td>\n",
       "      <td>0.5</td>\n",
       "      <td>1.00</td>\n",
       "    </tr>\n",
       "  </tbody>\n",
       "</table>\n",
       "</div>"
      ],
      "text/plain": [
       "                                                  Количество уровней в сессию  \\\n",
       "Количество уровней в сессию                                              1.00   \n",
       "Просмотр рекламы для возрождения и др. за сессию                         0.00   \n",
       "values                                                                   0.08   \n",
       "\n",
       "                                                  Просмотр рекламы для возрождения и др. за сессию  \\\n",
       "Количество уровней в сессию                                                                    0.0   \n",
       "Просмотр рекламы для возрождения и др. за сессию                                               1.0   \n",
       "values                                                                                         0.5   \n",
       "\n",
       "                                                  values  \n",
       "Количество уровней в сессию                         0.08  \n",
       "Просмотр рекламы для возрождения и др. за сессию    0.50  \n",
       "values                                              1.00  "
      ]
     },
     "execution_count": 31,
     "metadata": {},
     "output_type": "execute_result"
    }
   ],
   "source": [
    "unit[['Количество уровней в сессию','Просмотр рекламы для возрождения и др. за сессию', 'values']].corr(method='spearman').round(2)"
   ]
  },
  {
   "cell_type": "markdown",
   "id": "7da66d6b",
   "metadata": {},
   "source": [
    "### Тесты"
   ]
  },
  {
   "cell_type": "code",
   "execution_count": 32,
   "id": "ddf831d6",
   "metadata": {},
   "outputs": [
    {
     "name": "stdout",
     "output_type": "stream",
     "text": [
      "Requirement already satisfied: tensorflow in c:\\users\\iryshkov\\anaconda3\\lib\\site-packages (2.9.1)\n",
      "Requirement already satisfied: absl-py>=1.0.0 in c:\\users\\iryshkov\\anaconda3\\lib\\site-packages (from tensorflow) (1.2.0)\n",
      "Requirement already satisfied: packaging in c:\\users\\iryshkov\\anaconda3\\lib\\site-packages (from tensorflow) (21.3)\n",
      "Requirement already satisfied: libclang>=13.0.0 in c:\\users\\iryshkov\\anaconda3\\lib\\site-packages (from tensorflow) (14.0.6)\n",
      "Requirement already satisfied: tensorflow-io-gcs-filesystem>=0.23.1 in c:\\users\\iryshkov\\anaconda3\\lib\\site-packages (from tensorflow) (0.26.0)\n",
      "Requirement already satisfied: grpcio<2.0,>=1.24.3 in c:\\users\\iryshkov\\anaconda3\\lib\\site-packages (from tensorflow) (1.42.0)\n",
      "Requirement already satisfied: h5py>=2.9.0 in c:\\users\\iryshkov\\anaconda3\\lib\\site-packages (from tensorflow) (3.6.0)\n",
      "Requirement already satisfied: tensorboard<2.10,>=2.9 in c:\\users\\iryshkov\\anaconda3\\lib\\site-packages (from tensorflow) (2.9.1)\n",
      "Requirement already satisfied: keras<2.10.0,>=2.9.0rc0 in c:\\users\\iryshkov\\anaconda3\\lib\\site-packages (from tensorflow) (2.9.0)\n",
      "Requirement already satisfied: gast<=0.4.0,>=0.2.1 in c:\\users\\iryshkov\\anaconda3\\lib\\site-packages (from tensorflow) (0.4.0)\n",
      "Requirement already satisfied: opt-einsum>=2.3.2 in c:\\users\\iryshkov\\anaconda3\\lib\\site-packages (from tensorflow) (3.3.0)\n",
      "Requirement already satisfied: flatbuffers<2,>=1.12 in c:\\users\\iryshkov\\anaconda3\\lib\\site-packages (from tensorflow) (1.12)\n",
      "Requirement already satisfied: setuptools in c:\\users\\iryshkov\\anaconda3\\lib\\site-packages (from tensorflow) (61.2.0)\n",
      "Requirement already satisfied: numpy>=1.20 in c:\\users\\iryshkov\\anaconda3\\lib\\site-packages (from tensorflow) (1.21.5)\n",
      "Requirement already satisfied: termcolor>=1.1.0 in c:\\users\\iryshkov\\anaconda3\\lib\\site-packages (from tensorflow) (1.1.0)\n",
      "Requirement already satisfied: tensorflow-estimator<2.10.0,>=2.9.0rc0 in c:\\users\\iryshkov\\anaconda3\\lib\\site-packages (from tensorflow) (2.9.0)\n",
      "Requirement already satisfied: google-pasta>=0.1.1 in c:\\users\\iryshkov\\anaconda3\\lib\\site-packages (from tensorflow) (0.2.0)\n",
      "Requirement already satisfied: typing-extensions>=3.6.6 in c:\\users\\iryshkov\\anaconda3\\lib\\site-packages (from tensorflow) (4.1.1)\n",
      "Requirement already satisfied: astunparse>=1.6.0 in c:\\users\\iryshkov\\anaconda3\\lib\\site-packages (from tensorflow) (1.6.3)\n",
      "Requirement already satisfied: wrapt>=1.11.0 in c:\\users\\iryshkov\\anaconda3\\lib\\site-packages (from tensorflow) (1.12.1)\n",
      "Requirement already satisfied: keras-preprocessing>=1.1.1 in c:\\users\\iryshkov\\anaconda3\\lib\\site-packages (from tensorflow) (1.1.2)\n",
      "Requirement already satisfied: six>=1.12.0 in c:\\users\\iryshkov\\anaconda3\\lib\\site-packages (from tensorflow) (1.16.0)\n",
      "Requirement already satisfied: protobuf<3.20,>=3.9.2 in c:\\users\\iryshkov\\anaconda3\\lib\\site-packages (from tensorflow) (3.19.1)\n",
      "Requirement already satisfied: wheel<1.0,>=0.23.0 in c:\\users\\iryshkov\\anaconda3\\lib\\site-packages (from astunparse>=1.6.0->tensorflow) (0.37.1)\n",
      "Requirement already satisfied: markdown>=2.6.8 in c:\\users\\iryshkov\\anaconda3\\lib\\site-packages (from tensorboard<2.10,>=2.9->tensorflow) (3.3.4)\n",
      "Requirement already satisfied: tensorboard-data-server<0.7.0,>=0.6.0 in c:\\users\\iryshkov\\anaconda3\\lib\\site-packages (from tensorboard<2.10,>=2.9->tensorflow) (0.6.1)\n",
      "Requirement already satisfied: requests<3,>=2.21.0 in c:\\users\\iryshkov\\anaconda3\\lib\\site-packages (from tensorboard<2.10,>=2.9->tensorflow) (2.27.1)\n",
      "Requirement already satisfied: tensorboard-plugin-wit>=1.6.0 in c:\\users\\iryshkov\\anaconda3\\lib\\site-packages (from tensorboard<2.10,>=2.9->tensorflow) (1.8.1)\n",
      "Requirement already satisfied: google-auth-oauthlib<0.5,>=0.4.1 in c:\\users\\iryshkov\\anaconda3\\lib\\site-packages (from tensorboard<2.10,>=2.9->tensorflow) (0.4.6)\n",
      "Requirement already satisfied: werkzeug>=1.0.1 in c:\\users\\iryshkov\\anaconda3\\lib\\site-packages (from tensorboard<2.10,>=2.9->tensorflow) (2.0.3)\n",
      "Requirement already satisfied: google-auth<3,>=1.6.3 in c:\\users\\iryshkov\\anaconda3\\lib\\site-packages (from tensorboard<2.10,>=2.9->tensorflow) (1.33.0)\n",
      "Requirement already satisfied: cachetools<5.0,>=2.0.0 in c:\\users\\iryshkov\\anaconda3\\lib\\site-packages (from google-auth<3,>=1.6.3->tensorboard<2.10,>=2.9->tensorflow) (4.2.2)\n",
      "Requirement already satisfied: rsa<5,>=3.1.4 in c:\\users\\iryshkov\\anaconda3\\lib\\site-packages (from google-auth<3,>=1.6.3->tensorboard<2.10,>=2.9->tensorflow) (4.7.2)\n",
      "Requirement already satisfied: pyasn1-modules>=0.2.1 in c:\\users\\iryshkov\\anaconda3\\lib\\site-packages (from google-auth<3,>=1.6.3->tensorboard<2.10,>=2.9->tensorflow) (0.2.8)\n",
      "Requirement already satisfied: requests-oauthlib>=0.7.0 in c:\\users\\iryshkov\\anaconda3\\lib\\site-packages (from google-auth-oauthlib<0.5,>=0.4.1->tensorboard<2.10,>=2.9->tensorflow) (1.3.1)\n",
      "Requirement already satisfied: pyasn1<0.5.0,>=0.4.6 in c:\\users\\iryshkov\\anaconda3\\lib\\site-packages (from pyasn1-modules>=0.2.1->google-auth<3,>=1.6.3->tensorboard<2.10,>=2.9->tensorflow) (0.4.8)\n",
      "Requirement already satisfied: urllib3<1.27,>=1.21.1 in c:\\users\\iryshkov\\anaconda3\\lib\\site-packages (from requests<3,>=2.21.0->tensorboard<2.10,>=2.9->tensorflow) (1.26.9)\n",
      "Requirement already satisfied: idna<4,>=2.5 in c:\\users\\iryshkov\\anaconda3\\lib\\site-packages (from requests<3,>=2.21.0->tensorboard<2.10,>=2.9->tensorflow) (3.3)\n",
      "Requirement already satisfied: charset-normalizer~=2.0.0 in c:\\users\\iryshkov\\anaconda3\\lib\\site-packages (from requests<3,>=2.21.0->tensorboard<2.10,>=2.9->tensorflow) (2.0.4)\n",
      "Requirement already satisfied: certifi>=2017.4.17 in c:\\users\\iryshkov\\anaconda3\\lib\\site-packages (from requests<3,>=2.21.0->tensorboard<2.10,>=2.9->tensorflow) (2021.10.8)\n",
      "Requirement already satisfied: oauthlib>=3.0.0 in c:\\users\\iryshkov\\anaconda3\\lib\\site-packages (from requests-oauthlib>=0.7.0->google-auth-oauthlib<0.5,>=0.4.1->tensorboard<2.10,>=2.9->tensorflow) (3.2.0)\n",
      "Requirement already satisfied: pyparsing!=3.0.5,>=2.0.2 in c:\\users\\iryshkov\\anaconda3\\lib\\site-packages (from packaging->tensorflow) (3.0.4)\n",
      "Note: you may need to restart the kernel to use updated packages.\n"
     ]
    }
   ],
   "source": [
    "pip install tensorflow"
   ]
  },
  {
   "cell_type": "code",
   "execution_count": 129,
   "id": "0f4ebbf9",
   "metadata": {},
   "outputs": [],
   "source": [
    "from sklearn.linear_model import LinearRegression\n",
    "from sklearn.model_selection import train_test_split\n",
    "from sklearn.preprocessing import StandardScaler\n",
    "import numpy as np"
   ]
  },
  {
   "cell_type": "code",
   "execution_count": 41,
   "id": "1573edd8",
   "metadata": {},
   "outputs": [],
   "source": [
    "# y = np.log(y)"
   ]
  },
  {
   "cell_type": "code",
   "execution_count": 125,
   "id": "6a3b7230",
   "metadata": {},
   "outputs": [],
   "source": [
    "from tensorflow import keras\n",
    "from tensorflow.keras import layers\n",
    "model = keras.Sequential([\n",
    "    layers.Dense(7, activation='relu'),\n",
    "    layers.Dense(7, activation='relu'),    \n",
    "    layers.Dense(7, activation='relu'),\n",
    "    layers.Dense(1),])"
   ]
  },
  {
   "cell_type": "code",
   "execution_count": 126,
   "id": "6b9a4244",
   "metadata": {},
   "outputs": [],
   "source": [
    "model.compile(\n",
    "    optimizer=\"adam\",\n",
    "    loss=\"mae\",\n",
    ")"
   ]
  },
  {
   "cell_type": "code",
   "execution_count": 180,
   "id": "259dc379",
   "metadata": {},
   "outputs": [],
   "source": [
    "y = unit['values']"
   ]
  },
  {
   "cell_type": "code",
   "execution_count": 181,
   "id": "7e81bb21",
   "metadata": {},
   "outputs": [],
   "source": [
    "X = unit[features]"
   ]
  },
  {
   "cell_type": "code",
   "execution_count": null,
   "id": "30b96e83",
   "metadata": {},
   "outputs": [],
   "source": [
    "# df_train = red_wine.sample(frac=0.7, random_state=0)\n",
    "# df_valid = red_wine.drop(df_train.index)\n",
    "# display(df_train.head(4))\n",
    "\n",
    "# # Scale to [0, 1]\n",
    "# max_ = df_train.max(axis=0)\n",
    "# min_ = df_train.min(axis=0)\n",
    "# df_train = (df_train - min_) / (max_ - min_)\n",
    "# df_valid = (df_valid - min_) / (max_ - min_)\n",
    "\n",
    "# # Split features and target\n",
    "# X_train = df_train.drop('quality', axis=1)\n",
    "# X_valid = df_valid.drop('quality', axis=1)\n",
    "# y_train = df_train['quality']\n",
    "# y_valid = df_valid['quality']"
   ]
  },
  {
   "cell_type": "code",
   "execution_count": 297,
   "id": "f2707c92",
   "metadata": {},
   "outputs": [],
   "source": [
    "_train = unit.sample(frac=0.8, random_state=0)\n",
    "_valid = unit.drop(_train.index)\n",
    "# max_ = _train.max(axis=0)\n",
    "# min_ = _train.min(axis=0)\n",
    "# _train = (_train - min_) / (max_ - min_)\n",
    "# _valid = (_valid - min_) / (max_ - min_)"
   ]
  },
  {
   "cell_type": "code",
   "execution_count": 298,
   "id": "0eb0167e",
   "metadata": {},
   "outputs": [],
   "source": [
    "X_train = _train.drop('values', axis=1)\n",
    "X_valid = _valid.drop('values', axis=1)\n",
    "y_train = _train['values']\n",
    "y_valid = _valid['values']"
   ]
  },
  {
   "cell_type": "code",
   "execution_count": 299,
   "id": "83e0c06c",
   "metadata": {},
   "outputs": [
    {
     "data": {
      "text/plain": [
       "110      73368\n",
       "74      673665\n",
       "163     113974\n",
       "97        4749\n",
       "126     250294\n",
       "        ...   \n",
       "150     338720\n",
       "128     474113\n",
       "34     2855113\n",
       "28     1478665\n",
       "114     217046\n",
       "Name: values, Length: 154, dtype: int64"
      ]
     },
     "execution_count": 299,
     "metadata": {},
     "output_type": "execute_result"
    }
   ],
   "source": [
    "y_train"
   ]
  },
  {
   "cell_type": "code",
   "execution_count": 300,
   "id": "ce41c7f9",
   "metadata": {},
   "outputs": [],
   "source": [
    "from tensorflow import keras\n",
    "from tensorflow.keras import layers, callbacks\n",
    "\n",
    "early_stopping = callbacks.EarlyStopping(\n",
    "    min_delta=0.001, # minimium amount of change to count as an improvement\n",
    "    patience=20, # how many epochs to wait before stopping\n",
    "    restore_best_weights=True,\n",
    ")"
   ]
  },
  {
   "cell_type": "code",
   "execution_count": 301,
   "id": "a0c2b2dd",
   "metadata": {},
   "outputs": [
    {
     "name": "stdout",
     "output_type": "stream",
     "text": [
      "Minimum validation loss: 137893.203125\n"
     ]
    },
    {
     "data": {
      "image/png": "[encoded data removed]",
      "text/plain": [
       "<Figure size 432x288 with 1 Axes>"
      ]
     },
     "metadata": {
      "needs_background": "light"
     },
     "output_type": "display_data"
    }
   ],
   "source": [
    "history = model.fit(\n",
    "    X_train, y_train,\n",
    "    validation_data=(X_valid, y_valid),\n",
    "    batch_size=5,\n",
    "    epochs=1000, \n",
    "    callbacks=[early_stopping], # put your callbacks in a list\n",
    "    verbose=0,  # turn off training log\n",
    ")\n",
    "\n",
    "history_df = pd.DataFrame(history.history)\n",
    "history_df.loc[:, ['loss', 'val_loss']].plot();\n",
    "print(\"Minimum validation loss: {}\".format(history_df['val_loss'].min()))"
   ]
  },
  {
   "cell_type": "code",
   "execution_count": 306,
   "id": "05e56d8f",
   "metadata": {},
   "outputs": [
    {
     "data": {
      "text/html": [
       "<div>\n",
       "<style scoped>\n",
       "    .dataframe tbody tr th:only-of-type {\n",
       "        vertical-align: middle;\n",
       "    }\n",
       "\n",
       "    .dataframe tbody tr th {\n",
       "        vertical-align: top;\n",
       "    }\n",
       "\n",
       "    .dataframe thead th {\n",
       "        text-align: right;\n",
       "    }\n",
       "</style>\n",
       "<table border=\"1\" class=\"dataframe\">\n",
       "  <thead>\n",
       "    <tr style=\"text-align: right;\">\n",
       "      <th></th>\n",
       "      <th>Сессия каждые N дней</th>\n",
       "      <th>Количество уровней в сессию</th>\n",
       "      <th>Показы рекламы принудительной каждые N уровней</th>\n",
       "      <th>Просмотр рекламы за ежедневную награду каждую N игровую сессию</th>\n",
       "      <th>Просмотр рекламы для возрождения и др. за сессию</th>\n",
       "      <th>Покупка бустеров каждую N сессию</th>\n",
       "      <th>Покупка декоративных элементов каждую N сессию</th>\n",
       "    </tr>\n",
       "  </thead>\n",
       "  <tbody>\n",
       "    <tr>\n",
       "      <th>0</th>\n",
       "      <td>2</td>\n",
       "      <td>10</td>\n",
       "      <td>20</td>\n",
       "      <td>10</td>\n",
       "      <td>0</td>\n",
       "      <td>20</td>\n",
       "      <td>30</td>\n",
       "    </tr>\n",
       "    <tr>\n",
       "      <th>1</th>\n",
       "      <td>1</td>\n",
       "      <td>3</td>\n",
       "      <td>5</td>\n",
       "      <td>10</td>\n",
       "      <td>3</td>\n",
       "      <td>5</td>\n",
       "      <td>10</td>\n",
       "    </tr>\n",
       "  </tbody>\n",
       "</table>\n",
       "</div>"
      ],
      "text/plain": [
       "   Сессия каждые N дней  Количество уровней в сессию  \\\n",
       "0                     2                           10   \n",
       "1                     1                            3   \n",
       "\n",
       "   Показы рекламы принудительной каждые N уровней  \\\n",
       "0                                              20   \n",
       "1                                               5   \n",
       "\n",
       "   Просмотр рекламы за ежедневную награду каждую N игровую сессию  \\\n",
       "0                                                 10                \n",
       "1                                                 10                \n",
       "\n",
       "   Просмотр рекламы для возрождения и др. за сессию  \\\n",
       "0                                                 0   \n",
       "1                                                 3   \n",
       "\n",
       "   Покупка бустеров каждую N сессию  \\\n",
       "0                                20   \n",
       "1                                 5   \n",
       "\n",
       "   Покупка декоративных элементов каждую N сессию  \n",
       "0                                              30  \n",
       "1                                              10  "
      ]
     },
     "execution_count": 306,
     "metadata": {},
     "output_type": "execute_result"
    }
   ],
   "source": [
    "X_test = pd.read_excel('X_test.xlsx')\n",
    "X_test"
   ]
  },
  {
   "cell_type": "code",
   "execution_count": 307,
   "id": "df698151",
   "metadata": {},
   "outputs": [
    {
     "name": "stdout",
     "output_type": "stream",
     "text": [
      "1/1 [==============================] - 0s 14ms/step\n"
     ]
    },
    {
     "data": {
      "text/plain": [
       "array([[576755.4 ],\n",
       "       [424753.06]], dtype=float32)"
      ]
     },
     "execution_count": 307,
     "metadata": {},
     "output_type": "execute_result"
    }
   ],
   "source": [
    "pred = model.predict(X_test)\n",
    "pred"
   ]
  },
  {
   "cell_type": "code",
   "execution_count": 308,
   "id": "f821e56b",
   "metadata": {},
   "outputs": [
    {
     "data": {
      "text/plain": [
       "array([[576755.4 ],\n",
       "       [424753.06]], dtype=float32)"
      ]
     },
     "execution_count": 308,
     "metadata": {},
     "output_type": "execute_result"
    }
   ],
   "source": [
    "pred"
   ]
  },
  {
   "cell_type": "code",
   "execution_count": 309,
   "id": "55057e5e",
   "metadata": {},
   "outputs": [
    {
     "data": {
      "text/html": [
       "<div>\n",
       "<style scoped>\n",
       "    .dataframe tbody tr th:only-of-type {\n",
       "        vertical-align: middle;\n",
       "    }\n",
       "\n",
       "    .dataframe tbody tr th {\n",
       "        vertical-align: top;\n",
       "    }\n",
       "\n",
       "    .dataframe thead th {\n",
       "        text-align: right;\n",
       "    }\n",
       "</style>\n",
       "<table border=\"1\" class=\"dataframe\">\n",
       "  <thead>\n",
       "    <tr style=\"text-align: right;\">\n",
       "      <th></th>\n",
       "      <th>Сессия каждые N дней</th>\n",
       "      <th>Количество уровней в сессию</th>\n",
       "      <th>Показы рекламы принудительной каждые N уровней</th>\n",
       "      <th>Просмотр рекламы за ежедневную награду каждую N игровую сессию</th>\n",
       "      <th>Просмотр рекламы для возрождения и др. за сессию</th>\n",
       "      <th>Покупка бустеров каждую N сессию</th>\n",
       "      <th>Покупка декоративных элементов каждую N сессию</th>\n",
       "      <th>preds</th>\n",
       "    </tr>\n",
       "  </thead>\n",
       "  <tbody>\n",
       "    <tr>\n",
       "      <th>0</th>\n",
       "      <td>2</td>\n",
       "      <td>10</td>\n",
       "      <td>20</td>\n",
       "      <td>10</td>\n",
       "      <td>0</td>\n",
       "      <td>20</td>\n",
       "      <td>30</td>\n",
       "      <td>576755.0</td>\n",
       "    </tr>\n",
       "    <tr>\n",
       "      <th>1</th>\n",
       "      <td>1</td>\n",
       "      <td>3</td>\n",
       "      <td>5</td>\n",
       "      <td>10</td>\n",
       "      <td>3</td>\n",
       "      <td>5</td>\n",
       "      <td>10</td>\n",
       "      <td>424753.0</td>\n",
       "    </tr>\n",
       "  </tbody>\n",
       "</table>\n",
       "</div>"
      ],
      "text/plain": [
       "   Сессия каждые N дней  Количество уровней в сессию  \\\n",
       "0                     2                           10   \n",
       "1                     1                            3   \n",
       "\n",
       "   Показы рекламы принудительной каждые N уровней  \\\n",
       "0                                              20   \n",
       "1                                               5   \n",
       "\n",
       "   Просмотр рекламы за ежедневную награду каждую N игровую сессию  \\\n",
       "0                                                 10                \n",
       "1                                                 10                \n",
       "\n",
       "   Просмотр рекламы для возрождения и др. за сессию  \\\n",
       "0                                                 0   \n",
       "1                                                 3   \n",
       "\n",
       "   Покупка бустеров каждую N сессию  \\\n",
       "0                                20   \n",
       "1                                 5   \n",
       "\n",
       "   Покупка декоративных элементов каждую N сессию     preds  \n",
       "0                                              30  576755.0  \n",
       "1                                              10  424753.0  "
      ]
     },
     "execution_count": 309,
     "metadata": {},
     "output_type": "execute_result"
    }
   ],
   "source": [
    "X_test['preds'] = pred\n",
    "X_test['preds'] = X_test.preds.apply(np.round)\n",
    "X_test"
   ]
  },
  {
   "cell_type": "code",
   "execution_count": null,
   "id": "9afde513",
   "metadata": {},
   "outputs": [],
   "source": []
  },
  {
   "cell_type": "code",
   "execution_count": null,
   "id": "05537815",
   "metadata": {},
   "outputs": [],
   "source": []
  },
  {
   "cell_type": "code",
   "execution_count": null,
   "id": "5b732665",
   "metadata": {},
   "outputs": [],
   "source": []
  }
 ],
 "metadata": {
  "kernelspec": {
   "display_name": "Python 3 (ipykernel)",
   "language": "python",
   "name": "python3"
  },
  "language_info": {
   "codemirror_mode": {
    "name": "ipython",
    "version": 3
   },
   "file_extension": ".py",
   "mimetype": "text/x-python",
   "name": "python",
   "nbconvert_exporter": "python",
   "pygments_lexer": "ipython3",
   "version": "3.9.12"
  }
 },
 "nbformat": 4,
 "nbformat_minor": 5
}
