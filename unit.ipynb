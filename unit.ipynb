{
 "cells": [
  {
   "cell_type": "code",
   "execution_count": 139,
   "id": "7ed740ae",
   "metadata": {},
   "outputs": [
    {
     "name": "stdout",
     "output_type": "stream",
     "text": [
      "Requirement already satisfied: xgboost in c:\\users\\iryshkov\\anaconda3\\lib\\site-packages (1.6.1)\n",
      "Requirement already satisfied: numpy in c:\\users\\iryshkov\\anaconda3\\lib\\site-packages (from xgboost) (1.21.5)\n",
      "Requirement already satisfied: scipy in c:\\users\\iryshkov\\anaconda3\\lib\\site-packages (from xgboost) (1.7.3)\n",
      "Note: you may need to restart the kernel to use updated packages.\n"
     ]
    }
   ],
   "source": [
    "pip install xgboost"
   ]
  },
  {
   "cell_type": "code",
   "execution_count": 142,
   "id": "60d0eba7",
   "metadata": {},
   "outputs": [],
   "source": [
    "import pandas as pd\n",
    "import numpy as np\n",
    "import statsmodels.formula.api as smf\n",
    "from sklearn.linear_model import LogisticRegression\n",
    "from sklearn.ensemble import RandomForestClassifier\n",
    "from xgboost import XGBClassifier\n",
    "from sklearn.feature_extraction.text import CountVectorizer\n",
    "from sklearn.preprocessing import StandardScaler"
   ]
  },
  {
   "cell_type": "code",
   "execution_count": 148,
   "id": "19960ff6",
   "metadata": {
    "scrolled": true
   },
   "outputs": [],
   "source": [
    "unit = pd.read_excel('unit.xlsx').drop('Unnamed: 0',axis=1)"
   ]
  },
  {
   "cell_type": "code",
   "execution_count": 146,
   "id": "f8dcc023",
   "metadata": {},
   "outputs": [
    {
     "data": {
      "text/html": [
       "<div>\n",
       "<style scoped>\n",
       "    .dataframe tbody tr th:only-of-type {\n",
       "        vertical-align: middle;\n",
       "    }\n",
       "\n",
       "    .dataframe tbody tr th {\n",
       "        vertical-align: top;\n",
       "    }\n",
       "\n",
       "    .dataframe thead th {\n",
       "        text-align: right;\n",
       "    }\n",
       "</style>\n",
       "<table border=\"1\" class=\"dataframe\">\n",
       "  <thead>\n",
       "    <tr style=\"text-align: right;\">\n",
       "      <th></th>\n",
       "      <th>Сессия каждые N дней</th>\n",
       "      <th>Количество уровней в сессию</th>\n",
       "      <th>Показы рекламы принудительной каждые N уровней</th>\n",
       "      <th>Просмотр рекламы за ежедневную награду каждую N игровую сессию</th>\n",
       "      <th>Просмотр рекламы для возрождения и др. за сессию</th>\n",
       "      <th>Покупка бустеров каждую N сессию</th>\n",
       "      <th>Покупка декоративных элементов каждую N сессию</th>\n",
       "      <th>values</th>\n",
       "    </tr>\n",
       "  </thead>\n",
       "  <tbody>\n",
       "    <tr>\n",
       "      <th>135</th>\n",
       "      <td>3</td>\n",
       "      <td>3</td>\n",
       "      <td>8</td>\n",
       "      <td>3</td>\n",
       "      <td>1</td>\n",
       "      <td>6</td>\n",
       "      <td>10</td>\n",
       "      <td>-52015</td>\n",
       "    </tr>\n",
       "    <tr>\n",
       "      <th>133</th>\n",
       "      <td>3</td>\n",
       "      <td>3</td>\n",
       "      <td>8</td>\n",
       "      <td>3</td>\n",
       "      <td>1</td>\n",
       "      <td>3</td>\n",
       "      <td>10</td>\n",
       "      <td>-42425</td>\n",
       "    </tr>\n",
       "    <tr>\n",
       "      <th>183</th>\n",
       "      <td>3</td>\n",
       "      <td>6</td>\n",
       "      <td>8</td>\n",
       "      <td>3</td>\n",
       "      <td>1</td>\n",
       "      <td>6</td>\n",
       "      <td>10</td>\n",
       "      <td>-39263</td>\n",
       "    </tr>\n",
       "  </tbody>\n",
       "</table>\n",
       "</div>"
      ],
      "text/plain": [
       "     Сессия каждые N дней  Количество уровней в сессию  \\\n",
       "135                     3                            3   \n",
       "133                     3                            3   \n",
       "183                     3                            6   \n",
       "\n",
       "     Показы рекламы принудительной каждые N уровней  \\\n",
       "135                                               8   \n",
       "133                                               8   \n",
       "183                                               8   \n",
       "\n",
       "     Просмотр рекламы за ежедневную награду каждую N игровую сессию  \\\n",
       "135                                                  3                \n",
       "133                                                  3                \n",
       "183                                                  3                \n",
       "\n",
       "     Просмотр рекламы для возрождения и др. за сессию  \\\n",
       "135                                                 1   \n",
       "133                                                 1   \n",
       "183                                                 1   \n",
       "\n",
       "     Покупка бустеров каждую N сессию  \\\n",
       "135                                 6   \n",
       "133                                 3   \n",
       "183                                 6   \n",
       "\n",
       "     Покупка декоративных элементов каждую N сессию  values  \n",
       "135                                              10  -52015  \n",
       "133                                              10  -42425  \n",
       "183                                              10  -39263  "
      ]
     },
     "execution_count": 146,
     "metadata": {},
     "output_type": "execute_result"
    }
   ],
   "source": [
    "unit.sort_values('values',ascending=True).head(3) # ТРИ ХУДШИХ ВАРИАНТА"
   ]
  },
  {
   "cell_type": "code",
   "execution_count": 147,
   "id": "39370d25",
   "metadata": {},
   "outputs": [
    {
     "data": {
      "text/html": [
       "<div>\n",
       "<style scoped>\n",
       "    .dataframe tbody tr th:only-of-type {\n",
       "        vertical-align: middle;\n",
       "    }\n",
       "\n",
       "    .dataframe tbody tr th {\n",
       "        vertical-align: top;\n",
       "    }\n",
       "\n",
       "    .dataframe thead th {\n",
       "        text-align: right;\n",
       "    }\n",
       "</style>\n",
       "<table border=\"1\" class=\"dataframe\">\n",
       "  <thead>\n",
       "    <tr style=\"text-align: right;\">\n",
       "      <th></th>\n",
       "      <th>Сессия каждые N дней</th>\n",
       "      <th>Количество уровней в сессию</th>\n",
       "      <th>Показы рекламы принудительной каждые N уровней</th>\n",
       "      <th>Просмотр рекламы за ежедневную награду каждую N игровую сессию</th>\n",
       "      <th>Просмотр рекламы для возрождения и др. за сессию</th>\n",
       "      <th>Покупка бустеров каждую N сессию</th>\n",
       "      <th>Покупка декоративных элементов каждую N сессию</th>\n",
       "      <th>values</th>\n",
       "    </tr>\n",
       "  </thead>\n",
       "  <tbody>\n",
       "    <tr>\n",
       "      <th>56</th>\n",
       "      <td>1</td>\n",
       "      <td>6</td>\n",
       "      <td>4</td>\n",
       "      <td>1</td>\n",
       "      <td>5</td>\n",
       "      <td>3</td>\n",
       "      <td>5</td>\n",
       "      <td>4205074</td>\n",
       "    </tr>\n",
       "    <tr>\n",
       "      <th>58</th>\n",
       "      <td>1</td>\n",
       "      <td>6</td>\n",
       "      <td>4</td>\n",
       "      <td>1</td>\n",
       "      <td>5</td>\n",
       "      <td>6</td>\n",
       "      <td>5</td>\n",
       "      <td>3944524</td>\n",
       "    </tr>\n",
       "    <tr>\n",
       "      <th>68</th>\n",
       "      <td>1</td>\n",
       "      <td>6</td>\n",
       "      <td>4</td>\n",
       "      <td>3</td>\n",
       "      <td>5</td>\n",
       "      <td>3</td>\n",
       "      <td>5</td>\n",
       "      <td>3414153</td>\n",
       "    </tr>\n",
       "  </tbody>\n",
       "</table>\n",
       "</div>"
      ],
      "text/plain": [
       "    Сессия каждые N дней  Количество уровней в сессию  \\\n",
       "56                     1                            6   \n",
       "58                     1                            6   \n",
       "68                     1                            6   \n",
       "\n",
       "    Показы рекламы принудительной каждые N уровней  \\\n",
       "56                                               4   \n",
       "58                                               4   \n",
       "68                                               4   \n",
       "\n",
       "    Просмотр рекламы за ежедневную награду каждую N игровую сессию  \\\n",
       "56                                                  1                \n",
       "58                                                  1                \n",
       "68                                                  3                \n",
       "\n",
       "    Просмотр рекламы для возрождения и др. за сессию  \\\n",
       "56                                                 5   \n",
       "58                                                 5   \n",
       "68                                                 5   \n",
       "\n",
       "    Покупка бустеров каждую N сессию  \\\n",
       "56                                 3   \n",
       "58                                 6   \n",
       "68                                 3   \n",
       "\n",
       "    Покупка декоративных элементов каждую N сессию   values  \n",
       "56                                               5  4205074  \n",
       "58                                               5  3944524  \n",
       "68                                               5  3414153  "
      ]
     },
     "execution_count": 147,
     "metadata": {},
     "output_type": "execute_result"
    }
   ],
   "source": [
    "unit.sort_values('values',ascending=False).head(3) # ТРИ ЛУЧШИХ ВАРИАНТА"
   ]
  },
  {
   "cell_type": "code",
   "execution_count": 150,
   "id": "0ce70ef9",
   "metadata": {},
   "outputs": [
    {
     "data": {
      "text/plain": [
       "Index(['Сессия каждые N дней', 'Количество уровней в сессию',\n",
       "       'Показы рекламы принудительной каждые N уровней',\n",
       "       'Просмотр рекламы за ежедневную награду каждую N игровую сессию',\n",
       "       'Просмотр рекламы для возрождения и др. за сессию',\n",
       "       'Покупка бустеров каждую N сессию',\n",
       "       'Покупка декоративных элементов каждую N сессию', 'values'],\n",
       "      dtype='object')"
      ]
     },
     "execution_count": 150,
     "metadata": {},
     "output_type": "execute_result"
    }
   ],
   "source": [
    "unit.columns"
   ]
  },
  {
   "cell_type": "markdown",
   "id": "bc3abbc6",
   "metadata": {},
   "source": [
    "### 1. По коэффициентам логистической регрессии."
   ]
  },
  {
   "cell_type": "code",
   "execution_count": 151,
   "id": "bfce1a7e",
   "metadata": {},
   "outputs": [],
   "source": [
    "features = ['Сессия каждые N дней', 'Количество уровней в сессию',\n",
    "       'Показы рекламы принудительной каждые N уровней',\n",
    "       'Просмотр рекламы за ежедневную награду каждую N игровую сессию',\n",
    "       'Просмотр рекламы для возрождения и др. за сессию',\n",
    "       'Покупка бустеров каждую N сессию',\n",
    "       'Покупка декоративных элементов каждую N сессию']"
   ]
  },
  {
   "cell_type": "code",
   "execution_count": 152,
   "id": "0a445b0b",
   "metadata": {},
   "outputs": [],
   "source": [
    "X, y = unit[features], unit['values']"
   ]
  },
  {
   "cell_type": "code",
   "execution_count": 153,
   "id": "911c7402",
   "metadata": {},
   "outputs": [],
   "source": [
    "ss = StandardScaler()\n",
    "X_scaled = ss.fit_transform(X)"
   ]
  },
  {
   "cell_type": "code",
   "execution_count": 154,
   "id": "07a3582e",
   "metadata": {},
   "outputs": [],
   "source": [
    "model=LogisticRegression(max_iter=1000, random_state=1)"
   ]
  },
  {
   "cell_type": "code",
   "execution_count": 155,
   "id": "7863d85c",
   "metadata": {},
   "outputs": [
    {
     "data": {
      "text/plain": [
       "LogisticRegression(max_iter=1000, random_state=1)"
      ]
     },
     "execution_count": 155,
     "metadata": {},
     "output_type": "execute_result"
    }
   ],
   "source": [
    "model.fit(X_scaled,y)"
   ]
  },
  {
   "cell_type": "code",
   "execution_count": 177,
   "id": "79ee6ff5",
   "metadata": {},
   "outputs": [],
   "source": [
    "feature_importance = pd.DataFrame({'Признак':list(X.columns),'Важность':[i for i in model.coef_[0]]})"
   ]
  },
  {
   "cell_type": "code",
   "execution_count": 203,
   "id": "9a086e0f",
   "metadata": {},
   "outputs": [],
   "source": [
    "model = LogisticRegression()\n",
    "model.fit(X_scaled,y)\n",
    "importances = pd.DataFrame(data={\n",
    "    'Attribute': X.columns,\n",
    "    'Importance': model.coef_[0]\n",
    "})\n",
    "importances = importances.sort_values(by='Importance', ascending=True)"
   ]
  },
  {
   "cell_type": "code",
   "execution_count": 204,
   "id": "1fb5054a",
   "metadata": {
    "scrolled": true
   },
   "outputs": [
    {
     "data": {
      "text/html": [
       "<div>\n",
       "<style scoped>\n",
       "    .dataframe tbody tr th:only-of-type {\n",
       "        vertical-align: middle;\n",
       "    }\n",
       "\n",
       "    .dataframe tbody tr th {\n",
       "        vertical-align: top;\n",
       "    }\n",
       "\n",
       "    .dataframe thead th {\n",
       "        text-align: right;\n",
       "    }\n",
       "</style>\n",
       "<table border=\"1\" class=\"dataframe\">\n",
       "  <thead>\n",
       "    <tr style=\"text-align: right;\">\n",
       "      <th></th>\n",
       "      <th>Attribute</th>\n",
       "      <th>Importance</th>\n",
       "    </tr>\n",
       "  </thead>\n",
       "  <tbody>\n",
       "    <tr>\n",
       "      <th>4</th>\n",
       "      <td>Просмотр рекламы для возрождения и др. за сессию</td>\n",
       "      <td>-0.670485</td>\n",
       "    </tr>\n",
       "    <tr>\n",
       "      <th>1</th>\n",
       "      <td>Количество уровней в сессию</td>\n",
       "      <td>-0.550968</td>\n",
       "    </tr>\n",
       "    <tr>\n",
       "      <th>3</th>\n",
       "      <td>Просмотр рекламы за ежедневную награду каждую ...</td>\n",
       "      <td>0.519192</td>\n",
       "    </tr>\n",
       "    <tr>\n",
       "      <th>0</th>\n",
       "      <td>Сессия каждые N дней</td>\n",
       "      <td>0.520190</td>\n",
       "    </tr>\n",
       "    <tr>\n",
       "      <th>5</th>\n",
       "      <td>Покупка бустеров каждую N сессию</td>\n",
       "      <td>0.521875</td>\n",
       "    </tr>\n",
       "    <tr>\n",
       "      <th>6</th>\n",
       "      <td>Покупка декоративных элементов каждую N сессию</td>\n",
       "      <td>0.522889</td>\n",
       "    </tr>\n",
       "    <tr>\n",
       "      <th>2</th>\n",
       "      <td>Показы рекламы принудительной каждые N уровней</td>\n",
       "      <td>0.546109</td>\n",
       "    </tr>\n",
       "  </tbody>\n",
       "</table>\n",
       "</div>"
      ],
      "text/plain": [
       "                                           Attribute  Importance\n",
       "4   Просмотр рекламы для возрождения и др. за сессию   -0.670485\n",
       "1                        Количество уровней в сессию   -0.550968\n",
       "3  Просмотр рекламы за ежедневную награду каждую ...    0.519192\n",
       "0                               Сессия каждые N дней    0.520190\n",
       "5                   Покупка бустеров каждую N сессию    0.521875\n",
       "6     Покупка декоративных элементов каждую N сессию    0.522889\n",
       "2     Показы рекламы принудительной каждые N уровней    0.546109"
      ]
     },
     "execution_count": 204,
     "metadata": {},
     "output_type": "execute_result"
    },
    {
     "data": {
      "image/png": "[encoded data removed]",
      "text/plain": [
       "<Figure size 432x288 with 1 Axes>"
      ]
     },
     "metadata": {
      "needs_background": "light"
     },
     "output_type": "display_data"
    }
   ],
   "source": [
    "importances.plot(x = 'Attribute', y = 'Importance', kind = 'barh')\n",
    "importances"
   ]
  },
  {
   "cell_type": "code",
   "execution_count": null,
   "id": "43793fb5",
   "metadata": {},
   "outputs": [],
   "source": []
  },
  {
   "cell_type": "markdown",
   "id": "0957a845",
   "metadata": {},
   "source": [
    "### 2. Random Forest."
   ]
  },
  {
   "cell_type": "code",
   "execution_count": 180,
   "id": "e2655505",
   "metadata": {},
   "outputs": [],
   "source": [
    "from sklearn.ensemble import RandomForestRegressor"
   ]
  },
  {
   "cell_type": "code",
   "execution_count": 181,
   "id": "3a99d35d",
   "metadata": {},
   "outputs": [],
   "source": [
    "model=RandomForestRegressor()"
   ]
  },
  {
   "cell_type": "code",
   "execution_count": 182,
   "id": "d1b7bee7",
   "metadata": {},
   "outputs": [
    {
     "data": {
      "text/plain": [
       "RandomForestRegressor()"
      ]
     },
     "execution_count": 182,
     "metadata": {},
     "output_type": "execute_result"
    }
   ],
   "source": [
    "model.fit(X,y)"
   ]
  },
  {
   "cell_type": "code",
   "execution_count": 193,
   "id": "d85fa962",
   "metadata": {},
   "outputs": [
    {
     "data": {
      "text/html": [
       "<div>\n",
       "<style scoped>\n",
       "    .dataframe tbody tr th:only-of-type {\n",
       "        vertical-align: middle;\n",
       "    }\n",
       "\n",
       "    .dataframe tbody tr th {\n",
       "        vertical-align: top;\n",
       "    }\n",
       "\n",
       "    .dataframe thead th {\n",
       "        text-align: right;\n",
       "    }\n",
       "</style>\n",
       "<table border=\"1\" class=\"dataframe\">\n",
       "  <thead>\n",
       "    <tr style=\"text-align: right;\">\n",
       "      <th></th>\n",
       "      <th>features</th>\n",
       "      <th>feature_importance</th>\n",
       "    </tr>\n",
       "  </thead>\n",
       "  <tbody>\n",
       "    <tr>\n",
       "      <th>0</th>\n",
       "      <td>Сессия каждые N дней</td>\n",
       "      <td>0.458636</td>\n",
       "    </tr>\n",
       "    <tr>\n",
       "      <th>4</th>\n",
       "      <td>Просмотр рекламы для возрождения и др. за сессию</td>\n",
       "      <td>0.439420</td>\n",
       "    </tr>\n",
       "    <tr>\n",
       "      <th>6</th>\n",
       "      <td>Покупка декоративных элементов каждую N сессию</td>\n",
       "      <td>0.051749</td>\n",
       "    </tr>\n",
       "    <tr>\n",
       "      <th>3</th>\n",
       "      <td>Просмотр рекламы за ежедневную награду каждую ...</td>\n",
       "      <td>0.020481</td>\n",
       "    </tr>\n",
       "    <tr>\n",
       "      <th>2</th>\n",
       "      <td>Показы рекламы принудительной каждые N уровней</td>\n",
       "      <td>0.013747</td>\n",
       "    </tr>\n",
       "    <tr>\n",
       "      <th>1</th>\n",
       "      <td>Количество уровней в сессию</td>\n",
       "      <td>0.012276</td>\n",
       "    </tr>\n",
       "    <tr>\n",
       "      <th>5</th>\n",
       "      <td>Покупка бустеров каждую N сессию</td>\n",
       "      <td>0.003691</td>\n",
       "    </tr>\n",
       "  </tbody>\n",
       "</table>\n",
       "</div>"
      ],
      "text/plain": [
       "                                            features  feature_importance\n",
       "0                               Сессия каждые N дней            0.458636\n",
       "4   Просмотр рекламы для возрождения и др. за сессию            0.439420\n",
       "6     Покупка декоративных элементов каждую N сессию            0.051749\n",
       "3  Просмотр рекламы за ежедневную награду каждую ...            0.020481\n",
       "2     Показы рекламы принудительной каждые N уровней            0.013747\n",
       "1                        Количество уровней в сессию            0.012276\n",
       "5                   Покупка бустеров каждую N сессию            0.003691"
      ]
     },
     "execution_count": 193,
     "metadata": {},
     "output_type": "execute_result"
    }
   ],
   "source": [
    "feature_importances = pd.DataFrame({'features':X.columns,'feature_importance':model.feature_importances_})\n",
    "feature_importances.sort_values('feature_importance',ascending=False)"
   ]
  },
  {
   "cell_type": "code",
   "execution_count": 194,
   "id": "2f92d045",
   "metadata": {},
   "outputs": [
    {
     "data": {
      "text/plain": [
       "<AxesSubplot:ylabel='features'>"
      ]
     },
     "execution_count": 194,
     "metadata": {},
     "output_type": "execute_result"
    },
    {
     "data": {
      "image/png": "[encoded data removed]",
      "text/plain": [
       "<Figure size 432x288 with 1 Axes>"
      ]
     },
     "metadata": {
      "needs_background": "light"
     },
     "output_type": "display_data"
    }
   ],
   "source": [
    "feature_importances.sort_values('feature_importance',ascending=True).plot(x = 'features', y = 'feature_importance', kind = 'barh')"
   ]
  },
  {
   "cell_type": "markdown",
   "id": "e4429325",
   "metadata": {},
   "source": [
    "### 3. XGBoost"
   ]
  },
  {
   "cell_type": "code",
   "execution_count": 195,
   "id": "c9b87314",
   "metadata": {},
   "outputs": [],
   "source": [
    "from sklearn.preprocessing import LabelEncoder\n",
    "le = LabelEncoder()\n",
    "y = le.fit_transform(y)"
   ]
  },
  {
   "cell_type": "code",
   "execution_count": 196,
   "id": "baf011fe",
   "metadata": {},
   "outputs": [],
   "source": [
    "from xgboost import XGBClassifier\n",
    "\n",
    "model = XGBClassifier()\n",
    "model.fit(X_scaled, y)\n",
    "importances = pd.DataFrame(data={\n",
    "    'Attribute': X.columns,\n",
    "    'Importance': model.feature_importances_\n",
    "})\n",
    "importances = importances.sort_values(by='Importance', ascending=False)"
   ]
  },
  {
   "cell_type": "code",
   "execution_count": 201,
   "id": "78881c3a",
   "metadata": {},
   "outputs": [
    {
     "data": {
      "text/plain": [
       "<AxesSubplot:ylabel='Attribute'>"
      ]
     },
     "execution_count": 201,
     "metadata": {},
     "output_type": "execute_result"
    },
    {
     "data": {
      "image/png": "[encoded data removed]",
      "text/plain": [
       "<Figure size 432x288 with 1 Axes>"
      ]
     },
     "metadata": {
      "needs_background": "light"
     },
     "output_type": "display_data"
    }
   ],
   "source": [
    "importances.sort_values('Importance',ascending=True).plot(x = 'Attribute', y = 'Importance', kind = 'barh')"
   ]
  },
  {
   "cell_type": "markdown",
   "id": "d836a316",
   "metadata": {},
   "source": [
    "### Коэффициенты корреляции по Пирсону и Спирману"
   ]
  },
  {
   "cell_type": "code",
   "execution_count": 213,
   "id": "0c041f26",
   "metadata": {},
   "outputs": [
    {
     "data": {
      "text/html": [
       "<div>\n",
       "<style scoped>\n",
       "    .dataframe tbody tr th:only-of-type {\n",
       "        vertical-align: middle;\n",
       "    }\n",
       "\n",
       "    .dataframe tbody tr th {\n",
       "        vertical-align: top;\n",
       "    }\n",
       "\n",
       "    .dataframe thead th {\n",
       "        text-align: right;\n",
       "    }\n",
       "</style>\n",
       "<table border=\"1\" class=\"dataframe\">\n",
       "  <thead>\n",
       "    <tr style=\"text-align: right;\">\n",
       "      <th></th>\n",
       "      <th>Количество уровней в сессию</th>\n",
       "      <th>Просмотр рекламы для возрождения и др. за сессию</th>\n",
       "      <th>values</th>\n",
       "    </tr>\n",
       "  </thead>\n",
       "  <tbody>\n",
       "    <tr>\n",
       "      <th>Количество уровней в сессию</th>\n",
       "      <td>1.00</td>\n",
       "      <td>0.00</td>\n",
       "      <td>0.08</td>\n",
       "    </tr>\n",
       "    <tr>\n",
       "      <th>Просмотр рекламы для возрождения и др. за сессию</th>\n",
       "      <td>0.00</td>\n",
       "      <td>1.00</td>\n",
       "      <td>0.53</td>\n",
       "    </tr>\n",
       "    <tr>\n",
       "      <th>values</th>\n",
       "      <td>0.08</td>\n",
       "      <td>0.53</td>\n",
       "      <td>1.00</td>\n",
       "    </tr>\n",
       "  </tbody>\n",
       "</table>\n",
       "</div>"
      ],
      "text/plain": [
       "                                                  Количество уровней в сессию  \\\n",
       "Количество уровней в сессию                                              1.00   \n",
       "Просмотр рекламы для возрождения и др. за сессию                         0.00   \n",
       "values                                                                   0.08   \n",
       "\n",
       "                                                  Просмотр рекламы для возрождения и др. за сессию  \\\n",
       "Количество уровней в сессию                                                                   0.00   \n",
       "Просмотр рекламы для возрождения и др. за сессию                                              1.00   \n",
       "values                                                                                        0.53   \n",
       "\n",
       "                                                  values  \n",
       "Количество уровней в сессию                         0.08  \n",
       "Просмотр рекламы для возрождения и др. за сессию    0.53  \n",
       "values                                              1.00  "
      ]
     },
     "execution_count": 213,
     "metadata": {},
     "output_type": "execute_result"
    }
   ],
   "source": [
    "unit[['Количество уровней в сессию','Просмотр рекламы для возрождения и др. за сессию', 'values']].corr().round(2)"
   ]
  },
  {
   "cell_type": "code",
   "execution_count": 214,
   "id": "f06d8f39",
   "metadata": {},
   "outputs": [
    {
     "data": {
      "text/html": [
       "<div>\n",
       "<style scoped>\n",
       "    .dataframe tbody tr th:only-of-type {\n",
       "        vertical-align: middle;\n",
       "    }\n",
       "\n",
       "    .dataframe tbody tr th {\n",
       "        vertical-align: top;\n",
       "    }\n",
       "\n",
       "    .dataframe thead th {\n",
       "        text-align: right;\n",
       "    }\n",
       "</style>\n",
       "<table border=\"1\" class=\"dataframe\">\n",
       "  <thead>\n",
       "    <tr style=\"text-align: right;\">\n",
       "      <th></th>\n",
       "      <th>Количество уровней в сессию</th>\n",
       "      <th>Просмотр рекламы для возрождения и др. за сессию</th>\n",
       "      <th>values</th>\n",
       "    </tr>\n",
       "  </thead>\n",
       "  <tbody>\n",
       "    <tr>\n",
       "      <th>Количество уровней в сессию</th>\n",
       "      <td>1.00</td>\n",
       "      <td>0.0</td>\n",
       "      <td>0.08</td>\n",
       "    </tr>\n",
       "    <tr>\n",
       "      <th>Просмотр рекламы для возрождения и др. за сессию</th>\n",
       "      <td>0.00</td>\n",
       "      <td>1.0</td>\n",
       "      <td>0.50</td>\n",
       "    </tr>\n",
       "    <tr>\n",
       "      <th>values</th>\n",
       "      <td>0.08</td>\n",
       "      <td>0.5</td>\n",
       "      <td>1.00</td>\n",
       "    </tr>\n",
       "  </tbody>\n",
       "</table>\n",
       "</div>"
      ],
      "text/plain": [
       "                                                  Количество уровней в сессию  \\\n",
       "Количество уровней в сессию                                              1.00   \n",
       "Просмотр рекламы для возрождения и др. за сессию                         0.00   \n",
       "values                                                                   0.08   \n",
       "\n",
       "                                                  Просмотр рекламы для возрождения и др. за сессию  \\\n",
       "Количество уровней в сессию                                                                    0.0   \n",
       "Просмотр рекламы для возрождения и др. за сессию                                               1.0   \n",
       "values                                                                                         0.5   \n",
       "\n",
       "                                                  values  \n",
       "Количество уровней в сессию                         0.08  \n",
       "Просмотр рекламы для возрождения и др. за сессию    0.50  \n",
       "values                                              1.00  "
      ]
     },
     "execution_count": 214,
     "metadata": {},
     "output_type": "execute_result"
    }
   ],
   "source": [
    "unit[['Количество уровней в сессию','Просмотр рекламы для возрождения и др. за сессию', 'values']].corr(method='spearman').round(2)"
   ]
  },
  {
   "cell_type": "code",
   "execution_count": null,
   "id": "a12989e0",
   "metadata": {},
   "outputs": [],
   "source": []
  }
 ],
 "metadata": {
  "kernelspec": {
   "display_name": "Python 3 (ipykernel)",
   "language": "python",
   "name": "python3"
  },
  "language_info": {
   "codemirror_mode": {
    "name": "ipython",
    "version": 3
   },
   "file_extension": ".py",
   "mimetype": "text/x-python",
   "name": "python",
   "nbconvert_exporter": "python",
   "pygments_lexer": "ipython3",
   "version": "3.9.12"
  }
 },
 "nbformat": 4,
 "nbformat_minor": 5
}
