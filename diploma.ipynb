{
 "cells": [
  {
   "cell_type": "code",
   "execution_count": 1,
   "id": "6fea7b90",
   "metadata": {},
   "outputs": [],
   "source": [
    "import numpy as np\n",
    "import pandas as pd\n",
    "import scipy.stats as stats\n",
    "import matplotlib.pyplot as plt\n"
   ]
  },
  {
   "cell_type": "code",
   "execution_count": 2,
   "id": "61e004e4",
   "metadata": {},
   "outputs": [
    {
     "name": "stderr",
     "output_type": "stream",
     "text": [
      "C:\\Users\\Student1\\anaconda3\\lib\\site-packages\\openpyxl\\worksheet\\_reader.py:312: UserWarning: Data Validation extension is not supported and will be removed\n",
      "  warn(msg)\n"
     ]
    }
   ],
   "source": [
    "np = pd.read_excel('Non-paying.xlsx')\n"
   ]
  },
  {
   "cell_type": "code",
   "execution_count": 3,
   "id": "65cc10b8",
   "metadata": {},
   "outputs": [],
   "source": [
    "whale = pd.read_excel('Whale.xlsx')"
   ]
  },
  {
   "cell_type": "markdown",
   "id": "3aab7c1f",
   "metadata": {},
   "source": [
    "### Non-payng player"
   ]
  },
  {
   "cell_type": "code",
   "execution_count": 4,
   "id": "0cd36e9c",
   "metadata": {},
   "outputs": [
    {
     "data": {
      "text/plain": [
       "(8457, 33)"
      ]
     },
     "execution_count": 4,
     "metadata": {},
     "output_type": "execute_result"
    }
   ],
   "source": [
    "np.shape"
   ]
  },
  {
   "cell_type": "code",
   "execution_count": 5,
   "id": "1b5f7670",
   "metadata": {},
   "outputs": [],
   "source": [
    "np = np.drop_duplicates()"
   ]
  },
  {
   "cell_type": "code",
   "execution_count": 6,
   "id": "7cfbb8cf",
   "metadata": {},
   "outputs": [
    {
     "name": "stdout",
     "output_type": "stream",
     "text": [
      "<class 'pandas.core.frame.DataFrame'>\n",
      "Int64Index: 8408 entries, 0 to 8456\n",
      "Data columns (total 33 columns):\n",
      " #   Column            Non-Null Count  Dtype         \n",
      "---  ------            --------------  -----         \n",
      " 0   Date              8408 non-null   datetime64[ns]\n",
      " 1   Day               8408 non-null   int64         \n",
      " 2   Session           8408 non-null   int64         \n",
      " 3   Video #           8408 non-null   float64       \n",
      " 4   Videolink         8408 non-null   object        \n",
      " 5   Videolength       8408 non-null   object        \n",
      " 6   Timestamp         8408 non-null   object        \n",
      " 7   Timelink          8408 non-null   object        \n",
      " 8   Player Level      8405 non-null   float64       \n",
      " 9   Stronghold Level  8408 non-null   int64         \n",
      " 10  Tag               8408 non-null   object        \n",
      " 11  Action            8408 non-null   object        \n",
      " 12  Info              2463 non-null   object        \n",
      " 13  Shortage1         311 non-null    object        \n",
      " 14  Shortage2         30 non-null     object        \n",
      " 15  Shortage3         16 non-null     object        \n",
      " 16  Ended1            251 non-null    object        \n",
      " 17  Ended2            8 non-null      object        \n",
      " 18  Limits            120 non-null    object        \n",
      " 19  New expirience    144 non-null    object        \n",
      " 20  Offer Time        348 non-null    object        \n",
      " 21  Team Power        556 non-null    float64       \n",
      " 22  Name              1121 non-null   object        \n",
      " 23  Level             658 non-null    object        \n",
      " 24  Rarity            345 non-null    float64       \n",
      " 25  Stage2            568 non-null    object        \n",
      " 26  Provimce          451 non-null    float64       \n",
      " 27  Stage             450 non-null    float64       \n",
      " 28  Result            569 non-null    object        \n",
      " 29  Gems              129 non-null    float64       \n",
      " 30  Gems+             8408 non-null   int64         \n",
      " 31  Gems-             8408 non-null   int64         \n",
      " 32  Gems Balance      8408 non-null   int64         \n",
      "dtypes: datetime64[ns](1), float64(7), int64(6), object(19)\n",
      "memory usage: 2.2+ MB\n"
     ]
    }
   ],
   "source": [
    "np.info() # кол-во логов уменьшилось с 8457 до 8408"
   ]
  },
  {
   "cell_type": "code",
   "execution_count": 7,
   "id": "c64cc1eb",
   "metadata": {},
   "outputs": [
    {
     "data": {
      "text/html": [
       "<div>\n",
       "<style scoped>\n",
       "    .dataframe tbody tr th:only-of-type {\n",
       "        vertical-align: middle;\n",
       "    }\n",
       "\n",
       "    .dataframe tbody tr th {\n",
       "        vertical-align: top;\n",
       "    }\n",
       "\n",
       "    .dataframe thead th {\n",
       "        text-align: right;\n",
       "    }\n",
       "</style>\n",
       "<table border=\"1\" class=\"dataframe\">\n",
       "  <thead>\n",
       "    <tr style=\"text-align: right;\">\n",
       "      <th></th>\n",
       "      <th>Day</th>\n",
       "      <th>Session</th>\n",
       "      <th>Video #</th>\n",
       "      <th>Player Level</th>\n",
       "      <th>Stronghold Level</th>\n",
       "      <th>Team Power</th>\n",
       "      <th>Rarity</th>\n",
       "      <th>Provimce</th>\n",
       "      <th>Stage</th>\n",
       "      <th>Gems</th>\n",
       "      <th>Gems+</th>\n",
       "      <th>Gems-</th>\n",
       "      <th>Gems Balance</th>\n",
       "    </tr>\n",
       "  </thead>\n",
       "  <tbody>\n",
       "    <tr>\n",
       "      <th>count</th>\n",
       "      <td>8408.000000</td>\n",
       "      <td>8408.000000</td>\n",
       "      <td>8408.000000</td>\n",
       "      <td>8405.000000</td>\n",
       "      <td>8408.000000</td>\n",
       "      <td>556.000000</td>\n",
       "      <td>345.000000</td>\n",
       "      <td>451.000000</td>\n",
       "      <td>450.000000</td>\n",
       "      <td>129.000000</td>\n",
       "      <td>8408.000000</td>\n",
       "      <td>8408.000000</td>\n",
       "      <td>8408.000000</td>\n",
       "    </tr>\n",
       "    <tr>\n",
       "      <th>mean</th>\n",
       "      <td>7.354662</td>\n",
       "      <td>20.053283</td>\n",
       "      <td>20.063642</td>\n",
       "      <td>9.243189</td>\n",
       "      <td>5.072788</td>\n",
       "      <td>1220.852518</td>\n",
       "      <td>1.324638</td>\n",
       "      <td>6.208426</td>\n",
       "      <td>4.157778</td>\n",
       "      <td>0.612403</td>\n",
       "      <td>0.070052</td>\n",
       "      <td>-0.060657</td>\n",
       "      <td>144.953378</td>\n",
       "    </tr>\n",
       "    <tr>\n",
       "      <th>std</th>\n",
       "      <td>4.309270</td>\n",
       "      <td>12.843562</td>\n",
       "      <td>12.833411</td>\n",
       "      <td>3.449143</td>\n",
       "      <td>1.685285</td>\n",
       "      <td>180.388090</td>\n",
       "      <td>0.516137</td>\n",
       "      <td>2.837999</td>\n",
       "      <td>2.433891</td>\n",
       "      <td>33.331739</td>\n",
       "      <td>1.364809</td>\n",
       "      <td>3.879429</td>\n",
       "      <td>91.074731</td>\n",
       "    </tr>\n",
       "    <tr>\n",
       "      <th>min</th>\n",
       "      <td>1.000000</td>\n",
       "      <td>1.000000</td>\n",
       "      <td>1.100000</td>\n",
       "      <td>1.000000</td>\n",
       "      <td>1.000000</td>\n",
       "      <td>0.000000</td>\n",
       "      <td>1.000000</td>\n",
       "      <td>1.000000</td>\n",
       "      <td>1.000000</td>\n",
       "      <td>-350.000000</td>\n",
       "      <td>0.000000</td>\n",
       "      <td>-350.000000</td>\n",
       "      <td>0.000000</td>\n",
       "    </tr>\n",
       "    <tr>\n",
       "      <th>25%</th>\n",
       "      <td>3.000000</td>\n",
       "      <td>8.000000</td>\n",
       "      <td>8.000000</td>\n",
       "      <td>7.000000</td>\n",
       "      <td>4.000000</td>\n",
       "      <td>1110.000000</td>\n",
       "      <td>1.000000</td>\n",
       "      <td>4.000000</td>\n",
       "      <td>2.000000</td>\n",
       "      <td>1.000000</td>\n",
       "      <td>0.000000</td>\n",
       "      <td>0.000000</td>\n",
       "      <td>79.000000</td>\n",
       "    </tr>\n",
       "    <tr>\n",
       "      <th>50%</th>\n",
       "      <td>7.000000</td>\n",
       "      <td>20.000000</td>\n",
       "      <td>20.000000</td>\n",
       "      <td>10.000000</td>\n",
       "      <td>5.000000</td>\n",
       "      <td>1231.000000</td>\n",
       "      <td>1.000000</td>\n",
       "      <td>5.000000</td>\n",
       "      <td>4.000000</td>\n",
       "      <td>3.000000</td>\n",
       "      <td>0.000000</td>\n",
       "      <td>0.000000</td>\n",
       "      <td>125.000000</td>\n",
       "    </tr>\n",
       "    <tr>\n",
       "      <th>75%</th>\n",
       "      <td>11.000000</td>\n",
       "      <td>32.000000</td>\n",
       "      <td>32.000000</td>\n",
       "      <td>12.000000</td>\n",
       "      <td>6.000000</td>\n",
       "      <td>1340.000000</td>\n",
       "      <td>2.000000</td>\n",
       "      <td>9.000000</td>\n",
       "      <td>6.000000</td>\n",
       "      <td>5.000000</td>\n",
       "      <td>0.000000</td>\n",
       "      <td>0.000000</td>\n",
       "      <td>204.000000</td>\n",
       "    </tr>\n",
       "    <tr>\n",
       "      <th>max</th>\n",
       "      <td>14.000000</td>\n",
       "      <td>41.000000</td>\n",
       "      <td>41.000000</td>\n",
       "      <td>14.000000</td>\n",
       "      <td>8.000000</td>\n",
       "      <td>1523.000000</td>\n",
       "      <td>3.000000</td>\n",
       "      <td>12.000000</td>\n",
       "      <td>10.000000</td>\n",
       "      <td>100.000000</td>\n",
       "      <td>100.000000</td>\n",
       "      <td>0.000000</td>\n",
       "      <td>350.000000</td>\n",
       "    </tr>\n",
       "  </tbody>\n",
       "</table>\n",
       "</div>"
      ],
      "text/plain": [
       "               Day      Session      Video #  Player Level  Stronghold Level  \\\n",
       "count  8408.000000  8408.000000  8408.000000   8405.000000       8408.000000   \n",
       "mean      7.354662    20.053283    20.063642      9.243189          5.072788   \n",
       "std       4.309270    12.843562    12.833411      3.449143          1.685285   \n",
       "min       1.000000     1.000000     1.100000      1.000000          1.000000   \n",
       "25%       3.000000     8.000000     8.000000      7.000000          4.000000   \n",
       "50%       7.000000    20.000000    20.000000     10.000000          5.000000   \n",
       "75%      11.000000    32.000000    32.000000     12.000000          6.000000   \n",
       "max      14.000000    41.000000    41.000000     14.000000          8.000000   \n",
       "\n",
       "        Team Power      Rarity    Provimce       Stage        Gems  \\\n",
       "count   556.000000  345.000000  451.000000  450.000000  129.000000   \n",
       "mean   1220.852518    1.324638    6.208426    4.157778    0.612403   \n",
       "std     180.388090    0.516137    2.837999    2.433891   33.331739   \n",
       "min       0.000000    1.000000    1.000000    1.000000 -350.000000   \n",
       "25%    1110.000000    1.000000    4.000000    2.000000    1.000000   \n",
       "50%    1231.000000    1.000000    5.000000    4.000000    3.000000   \n",
       "75%    1340.000000    2.000000    9.000000    6.000000    5.000000   \n",
       "max    1523.000000    3.000000   12.000000   10.000000  100.000000   \n",
       "\n",
       "             Gems+        Gems-  Gems Balance  \n",
       "count  8408.000000  8408.000000   8408.000000  \n",
       "mean      0.070052    -0.060657    144.953378  \n",
       "std       1.364809     3.879429     91.074731  \n",
       "min       0.000000  -350.000000      0.000000  \n",
       "25%       0.000000     0.000000     79.000000  \n",
       "50%       0.000000     0.000000    125.000000  \n",
       "75%       0.000000     0.000000    204.000000  \n",
       "max     100.000000     0.000000    350.000000  "
      ]
     },
     "execution_count": 7,
     "metadata": {},
     "output_type": "execute_result"
    }
   ],
   "source": [
    "np.describe() # визуально выбросов нет, однако столбец \"Provimce\" написан с явной ошибкой.\n",
    "              # кроме того, столбец gems уже показывает изменение самоцветов (+100 или -3), так что колонки gems+/gems- не нужны"
   ]
  },
  {
   "cell_type": "code",
   "execution_count": 8,
   "id": "1c73a06c",
   "metadata": {},
   "outputs": [],
   "source": [
    "np = np.rename(columns={'Provimce': 'Province'}).drop(columns=['Gems+', 'Gems-'])"
   ]
  },
  {
   "cell_type": "markdown",
   "id": "9775afb6",
   "metadata": {},
   "source": [
    "### Whale player"
   ]
  },
  {
   "cell_type": "code",
   "execution_count": 9,
   "id": "340b23e5",
   "metadata": {},
   "outputs": [
    {
     "data": {
      "text/plain": [
       "(10380, 30)"
      ]
     },
     "execution_count": 9,
     "metadata": {},
     "output_type": "execute_result"
    }
   ],
   "source": [
    "whale.shape"
   ]
  },
  {
   "cell_type": "code",
   "execution_count": 10,
   "id": "705c249c",
   "metadata": {},
   "outputs": [],
   "source": [
    "whale = whale.drop_duplicates()"
   ]
  },
  {
   "cell_type": "code",
   "execution_count": 11,
   "id": "8dffc2da",
   "metadata": {},
   "outputs": [
    {
     "name": "stdout",
     "output_type": "stream",
     "text": [
      "<class 'pandas.core.frame.DataFrame'>\n",
      "Int64Index: 10211 entries, 0 to 10379\n",
      "Data columns (total 30 columns):\n",
      " #   Column            Non-Null Count  Dtype         \n",
      "---  ------            --------------  -----         \n",
      " 0   Date              10211 non-null  datetime64[ns]\n",
      " 1   Day               10211 non-null  int64         \n",
      " 2   Session           10211 non-null  int64         \n",
      " 3   Video #           10211 non-null  float64       \n",
      " 4   Videolink         10211 non-null  object        \n",
      " 5   Videolength       10211 non-null  object        \n",
      " 6   Timestamp         10211 non-null  object        \n",
      " 7   Timelink          10211 non-null  object        \n",
      " 8   Player Level      10211 non-null  int64         \n",
      " 9   Stronghold Level  10211 non-null  int64         \n",
      " 10  Tag               10209 non-null  object        \n",
      " 11  Action            10209 non-null  object        \n",
      " 12  Info              2404 non-null   object        \n",
      " 13  Shortage1         301 non-null    object        \n",
      " 14  Shortage2         15 non-null     object        \n",
      " 15  Ended1            379 non-null    object        \n",
      " 16  Ended2            10 non-null     object        \n",
      " 17  Limits            153 non-null    object        \n",
      " 18  New Experience    218 non-null    float64       \n",
      " 19  Offer Time        236 non-null    object        \n",
      " 20  Team Power        739 non-null    float64       \n",
      " 21  Name              2170 non-null   object        \n",
      " 22  Level             1489 non-null   object        \n",
      " 23  Rarity            959 non-null    float64       \n",
      " 24  Stage             594 non-null    object        \n",
      " 25  Result            659 non-null    object        \n",
      " 26  Gems              356 non-null    float64       \n",
      " 27  Gems+             10211 non-null  int64         \n",
      " 28  Gems-             10211 non-null  int64         \n",
      " 29  Gems Balance      10211 non-null  int64         \n",
      "dtypes: datetime64[ns](1), float64(5), int64(7), object(17)\n",
      "memory usage: 2.4+ MB\n"
     ]
    }
   ],
   "source": [
    "whale.info() # кол-во логов уменьшилось с 10380 до 10211"
   ]
  },
  {
   "cell_type": "code",
   "execution_count": 12,
   "id": "919d9b52",
   "metadata": {},
   "outputs": [
    {
     "data": {
      "text/html": [
       "<div>\n",
       "<style scoped>\n",
       "    .dataframe tbody tr th:only-of-type {\n",
       "        vertical-align: middle;\n",
       "    }\n",
       "\n",
       "    .dataframe tbody tr th {\n",
       "        vertical-align: top;\n",
       "    }\n",
       "\n",
       "    .dataframe thead th {\n",
       "        text-align: right;\n",
       "    }\n",
       "</style>\n",
       "<table border=\"1\" class=\"dataframe\">\n",
       "  <thead>\n",
       "    <tr style=\"text-align: right;\">\n",
       "      <th></th>\n",
       "      <th>Day</th>\n",
       "      <th>Session</th>\n",
       "      <th>Video #</th>\n",
       "      <th>Player Level</th>\n",
       "      <th>Stronghold Level</th>\n",
       "      <th>New Experience</th>\n",
       "      <th>Team Power</th>\n",
       "      <th>Rarity</th>\n",
       "      <th>Gems</th>\n",
       "      <th>Gems+</th>\n",
       "      <th>Gems-</th>\n",
       "      <th>Gems Balance</th>\n",
       "    </tr>\n",
       "  </thead>\n",
       "  <tbody>\n",
       "    <tr>\n",
       "      <th>count</th>\n",
       "      <td>10211.000000</td>\n",
       "      <td>10211.000000</td>\n",
       "      <td>10211.000000</td>\n",
       "      <td>10211.000000</td>\n",
       "      <td>10211.000000</td>\n",
       "      <td>218.0</td>\n",
       "      <td>739.000000</td>\n",
       "      <td>959.000000</td>\n",
       "      <td>356.00000</td>\n",
       "      <td>10211.000000</td>\n",
       "      <td>10211.000000</td>\n",
       "      <td>10211.000000</td>\n",
       "    </tr>\n",
       "    <tr>\n",
       "      <th>mean</th>\n",
       "      <td>6.751640</td>\n",
       "      <td>17.673881</td>\n",
       "      <td>17.746518</td>\n",
       "      <td>12.841054</td>\n",
       "      <td>8.320145</td>\n",
       "      <td>1.0</td>\n",
       "      <td>2081.803789</td>\n",
       "      <td>1.646507</td>\n",
       "      <td>0.58427</td>\n",
       "      <td>7.018803</td>\n",
       "      <td>-6.998433</td>\n",
       "      <td>3000.919009</td>\n",
       "    </tr>\n",
       "    <tr>\n",
       "      <th>std</th>\n",
       "      <td>4.124153</td>\n",
       "      <td>10.059013</td>\n",
       "      <td>10.053219</td>\n",
       "      <td>4.756078</td>\n",
       "      <td>2.944582</td>\n",
       "      <td>0.0</td>\n",
       "      <td>439.278135</td>\n",
       "      <td>0.872430</td>\n",
       "      <td>1406.05899</td>\n",
       "      <td>219.365801</td>\n",
       "      <td>143.249546</td>\n",
       "      <td>2399.276894</td>\n",
       "    </tr>\n",
       "    <tr>\n",
       "      <th>min</th>\n",
       "      <td>1.000000</td>\n",
       "      <td>1.000000</td>\n",
       "      <td>1.100000</td>\n",
       "      <td>1.000000</td>\n",
       "      <td>1.000000</td>\n",
       "      <td>1.0</td>\n",
       "      <td>0.000000</td>\n",
       "      <td>1.000000</td>\n",
       "      <td>-8400.00000</td>\n",
       "      <td>0.000000</td>\n",
       "      <td>-8400.000000</td>\n",
       "      <td>0.000000</td>\n",
       "    </tr>\n",
       "    <tr>\n",
       "      <th>25%</th>\n",
       "      <td>3.000000</td>\n",
       "      <td>9.000000</td>\n",
       "      <td>9.100000</td>\n",
       "      <td>10.000000</td>\n",
       "      <td>6.000000</td>\n",
       "      <td>1.0</td>\n",
       "      <td>1817.000000</td>\n",
       "      <td>1.000000</td>\n",
       "      <td>-89.00000</td>\n",
       "      <td>0.000000</td>\n",
       "      <td>0.000000</td>\n",
       "      <td>864.000000</td>\n",
       "    </tr>\n",
       "    <tr>\n",
       "      <th>50%</th>\n",
       "      <td>7.000000</td>\n",
       "      <td>18.000000</td>\n",
       "      <td>18.000000</td>\n",
       "      <td>14.000000</td>\n",
       "      <td>9.000000</td>\n",
       "      <td>1.0</td>\n",
       "      <td>2096.000000</td>\n",
       "      <td>1.000000</td>\n",
       "      <td>-3.50000</td>\n",
       "      <td>0.000000</td>\n",
       "      <td>0.000000</td>\n",
       "      <td>2621.000000</td>\n",
       "    </tr>\n",
       "    <tr>\n",
       "      <th>75%</th>\n",
       "      <td>10.000000</td>\n",
       "      <td>26.000000</td>\n",
       "      <td>26.200000</td>\n",
       "      <td>17.000000</td>\n",
       "      <td>11.000000</td>\n",
       "      <td>1.0</td>\n",
       "      <td>2390.000000</td>\n",
       "      <td>2.000000</td>\n",
       "      <td>3.00000</td>\n",
       "      <td>0.000000</td>\n",
       "      <td>0.000000</td>\n",
       "      <td>4946.000000</td>\n",
       "    </tr>\n",
       "    <tr>\n",
       "      <th>max</th>\n",
       "      <td>14.000000</td>\n",
       "      <td>35.000000</td>\n",
       "      <td>35.000000</td>\n",
       "      <td>19.000000</td>\n",
       "      <td>11.000000</td>\n",
       "      <td>1.0</td>\n",
       "      <td>2868.000000</td>\n",
       "      <td>5.000000</td>\n",
       "      <td>10000.00000</td>\n",
       "      <td>10000.000000</td>\n",
       "      <td>0.000000</td>\n",
       "      <td>15516.000000</td>\n",
       "    </tr>\n",
       "  </tbody>\n",
       "</table>\n",
       "</div>"
      ],
      "text/plain": [
       "                Day       Session       Video #  Player Level  \\\n",
       "count  10211.000000  10211.000000  10211.000000  10211.000000   \n",
       "mean       6.751640     17.673881     17.746518     12.841054   \n",
       "std        4.124153     10.059013     10.053219      4.756078   \n",
       "min        1.000000      1.000000      1.100000      1.000000   \n",
       "25%        3.000000      9.000000      9.100000     10.000000   \n",
       "50%        7.000000     18.000000     18.000000     14.000000   \n",
       "75%       10.000000     26.000000     26.200000     17.000000   \n",
       "max       14.000000     35.000000     35.000000     19.000000   \n",
       "\n",
       "       Stronghold Level  New Experience   Team Power      Rarity         Gems  \\\n",
       "count      10211.000000           218.0   739.000000  959.000000    356.00000   \n",
       "mean           8.320145             1.0  2081.803789    1.646507      0.58427   \n",
       "std            2.944582             0.0   439.278135    0.872430   1406.05899   \n",
       "min            1.000000             1.0     0.000000    1.000000  -8400.00000   \n",
       "25%            6.000000             1.0  1817.000000    1.000000    -89.00000   \n",
       "50%            9.000000             1.0  2096.000000    1.000000     -3.50000   \n",
       "75%           11.000000             1.0  2390.000000    2.000000      3.00000   \n",
       "max           11.000000             1.0  2868.000000    5.000000  10000.00000   \n",
       "\n",
       "              Gems+         Gems-  Gems Balance  \n",
       "count  10211.000000  10211.000000  10211.000000  \n",
       "mean       7.018803     -6.998433   3000.919009  \n",
       "std      219.365801    143.249546   2399.276894  \n",
       "min        0.000000  -8400.000000      0.000000  \n",
       "25%        0.000000      0.000000    864.000000  \n",
       "50%        0.000000      0.000000   2621.000000  \n",
       "75%        0.000000      0.000000   4946.000000  \n",
       "max    10000.000000      0.000000  15516.000000  "
      ]
     },
     "execution_count": 12,
     "metadata": {},
     "output_type": "execute_result"
    }
   ],
   "source": [
    "whale.describe() "
   ]
  },
  {
   "cell_type": "code",
   "execution_count": 13,
   "id": "6abdf297",
   "metadata": {},
   "outputs": [],
   "source": [
    "whale = whale.drop(columns=['Gems+', 'Gems-'])"
   ]
  },
  {
   "cell_type": "code",
   "execution_count": 14,
   "id": "211ee0a9",
   "metadata": {},
   "outputs": [],
   "source": [
    "set_np = set(list(np.columns))\n",
    "set_whale = set(list(whale.columns))"
   ]
  },
  {
   "cell_type": "code",
   "execution_count": 15,
   "id": "3b667bb9",
   "metadata": {},
   "outputs": [
    {
     "name": "stdout",
     "output_type": "stream",
     "text": [
      "{'New expirience', 'Stage2', 'Province', 'Shortage3'}\n"
     ]
    }
   ],
   "source": [
    "print(set_np.difference(set_whale)) # в датасете платящего пользователя меньше колонок."
   ]
  },
  {
   "cell_type": "markdown",
   "id": "5d66c213",
   "metadata": {},
   "source": [
    "### Общее визуальное впечатление: у платящего игрока ситуация лучше - достигнут уровень 19 (14 у второго), крепость на 11 (8 у второго), наивысшая сила команды - 2868 (1523 у второго). \n",
    "### Очевидно, донат позволил существенно улучшить игровой опыт и быстрее \"раскачаться\"."
   ]
  },
  {
   "cell_type": "code",
   "execution_count": 16,
   "id": "3d71845a",
   "metadata": {},
   "outputs": [
    {
     "data": {
      "text/plain": [
       "<AxesSubplot:xlabel='Day'>"
      ]
     },
     "execution_count": 16,
     "metadata": {},
     "output_type": "execute_result"
    },
    {
     "data": {
      "image/png": "[encoded data removed]",
      "text/plain": [
       "<Figure size 432x288 with 1 Axes>"
      ]
     },
     "metadata": {
      "needs_background": "light"
     },
     "output_type": "display_data"
    }
   ],
   "source": [
    "np.groupby(['Day'])['Gems'].sum().plot()\n",
    "whale.groupby(['Day'])['Gems'].sum().plot()\n",
    "# Видим, что размах затрат самоцветов гораздо больше у платящего игрока. \n",
    "# Предположительно у Кита будет больше контента, выше уровень, дольше длина сессий.\n",
    "# Дни приобретения самоцветов и дни их трат чередуются - признак хорошей работы внутриигрового магазина. "
   ]
  },
  {
   "cell_type": "code",
   "execution_count": 17,
   "id": "0730d4b5",
   "metadata": {},
   "outputs": [
    {
     "name": "stdout",
     "output_type": "stream",
     "text": [
      "10379    208\n",
      "Name: Gems Balance, dtype: int64\n"
     ]
    },
    {
     "data": {
      "text/plain": [
       "8456    79\n",
       "Name: Gems Balance, dtype: int64"
      ]
     },
     "execution_count": 17,
     "metadata": {},
     "output_type": "execute_result"
    }
   ],
   "source": [
    "print(whale['Gems Balance'].tail(1)) \n",
    "np['Gems Balance'].tail(1)\n",
    "# спустя 2 недели видим, что внутриигровая валюта даже и кита не скапливается - признак хорошего магазина!"
   ]
  },
  {
   "cell_type": "code",
   "execution_count": 18,
   "id": "6d1eebe4",
   "metadata": {},
   "outputs": [],
   "source": [
    "from datetime import datetime, timedelta"
   ]
  },
  {
   "cell_type": "code",
   "execution_count": 19,
   "id": "47ad796c",
   "metadata": {},
   "outputs": [
    {
     "data": {
      "text/html": [
       "<div>\n",
       "<style scoped>\n",
       "    .dataframe tbody tr th:only-of-type {\n",
       "        vertical-align: middle;\n",
       "    }\n",
       "\n",
       "    .dataframe tbody tr th {\n",
       "        vertical-align: top;\n",
       "    }\n",
       "\n",
       "    .dataframe thead th {\n",
       "        text-align: right;\n",
       "    }\n",
       "</style>\n",
       "<table border=\"1\" class=\"dataframe\">\n",
       "  <thead>\n",
       "    <tr style=\"text-align: right;\">\n",
       "      <th></th>\n",
       "      <th>Time</th>\n",
       "      <th>Day</th>\n",
       "      <th>Session</th>\n",
       "    </tr>\n",
       "  </thead>\n",
       "  <tbody>\n",
       "    <tr>\n",
       "      <th>0</th>\n",
       "      <td>01:02:17</td>\n",
       "      <td>1.0</td>\n",
       "      <td>1.0</td>\n",
       "    </tr>\n",
       "    <tr>\n",
       "      <th>1</th>\n",
       "      <td>00:12:32</td>\n",
       "      <td>1.0</td>\n",
       "      <td>1.0</td>\n",
       "    </tr>\n",
       "    <tr>\n",
       "      <th>2</th>\n",
       "      <td>01:35:09</td>\n",
       "      <td>1.0</td>\n",
       "      <td>2.0</td>\n",
       "    </tr>\n",
       "    <tr>\n",
       "      <th>3</th>\n",
       "      <td>00:49:36</td>\n",
       "      <td>2.0</td>\n",
       "      <td>3.0</td>\n",
       "    </tr>\n",
       "    <tr>\n",
       "      <th>4</th>\n",
       "      <td>01:17:17</td>\n",
       "      <td>2.0</td>\n",
       "      <td>4.0</td>\n",
       "    </tr>\n",
       "  </tbody>\n",
       "</table>\n",
       "</div>"
      ],
      "text/plain": [
       "       Time  Day  Session\n",
       "0  01:02:17  1.0      1.0\n",
       "1  00:12:32  1.0      1.0\n",
       "2  01:35:09  1.0      2.0\n",
       "3  00:49:36  2.0      3.0\n",
       "4  01:17:17  2.0      4.0"
      ]
     },
     "execution_count": 19,
     "metadata": {},
     "output_type": "execute_result"
    }
   ],
   "source": [
    "vid = pd.read_excel('video.xlsx')\n",
    "vid = vid.iloc[:, 2:]  \n",
    "vid.head()\n",
    "# выборка длины сессий неплатящего игрока"
   ]
  },
  {
   "cell_type": "code",
   "execution_count": 20,
   "id": "1cc7e84a",
   "metadata": {},
   "outputs": [
    {
     "data": {
      "text/html": [
       "<div>\n",
       "<style scoped>\n",
       "    .dataframe tbody tr th:only-of-type {\n",
       "        vertical-align: middle;\n",
       "    }\n",
       "\n",
       "    .dataframe tbody tr th {\n",
       "        vertical-align: top;\n",
       "    }\n",
       "\n",
       "    .dataframe thead th {\n",
       "        text-align: right;\n",
       "    }\n",
       "</style>\n",
       "<table border=\"1\" class=\"dataframe\">\n",
       "  <thead>\n",
       "    <tr style=\"text-align: right;\">\n",
       "      <th></th>\n",
       "      <th>Time</th>\n",
       "      <th>Day</th>\n",
       "      <th>Session</th>\n",
       "    </tr>\n",
       "  </thead>\n",
       "  <tbody>\n",
       "    <tr>\n",
       "      <th>0</th>\n",
       "      <td>00:32:35</td>\n",
       "      <td>1.0</td>\n",
       "      <td>1.0</td>\n",
       "    </tr>\n",
       "    <tr>\n",
       "      <th>1</th>\n",
       "      <td>00:08:03</td>\n",
       "      <td>1.0</td>\n",
       "      <td>1.0</td>\n",
       "    </tr>\n",
       "    <tr>\n",
       "      <th>2</th>\n",
       "      <td>00:09:33</td>\n",
       "      <td>1.0</td>\n",
       "      <td>1.0</td>\n",
       "    </tr>\n",
       "    <tr>\n",
       "      <th>3</th>\n",
       "      <td>00:22:46</td>\n",
       "      <td>1.0</td>\n",
       "      <td>2.0</td>\n",
       "    </tr>\n",
       "    <tr>\n",
       "      <th>4</th>\n",
       "      <td>00:58:23</td>\n",
       "      <td>1.0</td>\n",
       "      <td>2.0</td>\n",
       "    </tr>\n",
       "  </tbody>\n",
       "</table>\n",
       "</div>"
      ],
      "text/plain": [
       "       Time  Day  Session\n",
       "0  00:32:35  1.0      1.0\n",
       "1  00:08:03  1.0      1.0\n",
       "2  00:09:33  1.0      1.0\n",
       "3  00:22:46  1.0      2.0\n",
       "4  00:58:23  1.0      2.0"
      ]
     },
     "execution_count": 20,
     "metadata": {},
     "output_type": "execute_result"
    }
   ],
   "source": [
    "vid_whale = pd.read_excel('vid_whale.xlsx')\n",
    "vid_whale = vid_whale.iloc[:, 2:]  \n",
    "vid_whale.head()\n",
    "# выборка длины сессий платящего игрока"
   ]
  },
  {
   "cell_type": "code",
   "execution_count": 21,
   "id": "886d5562",
   "metadata": {},
   "outputs": [],
   "source": [
    "vid['Time'] = pd.to_datetime(vid['Time'], format='%H:%M:%S')\n",
    "vid['Time'] = vid['Time'] - vid['Time'].dt.normalize() \n",
    "vid_whale['Time'] = pd.to_datetime(vid_whale['Time'], format='%H:%M:%S')\n",
    "vid_whale['Time'] = vid_whale['Time'] - vid_whale['Time'].dt.normalize() \n",
    "\n",
    "# наверняка есть более адекватный алгоритм действий при переводе str во время для подсчёта интервала))"
   ]
  },
  {
   "cell_type": "code",
   "execution_count": 22,
   "id": "be65a102",
   "metadata": {},
   "outputs": [
    {
     "data": {
      "text/plain": [
       "<AxesSubplot:xlabel='Day'>"
      ]
     },
     "execution_count": 22,
     "metadata": {},
     "output_type": "execute_result"
    },
    {
     "data": {
      "image/png": "[encoded data removed]",
      "text/plain": [
       "<Figure size 432x288 with 1 Axes>"
      ]
     },
     "metadata": {
      "needs_background": "light"
     },
     "output_type": "display_data"
    }
   ],
   "source": [
    "vid.groupby(['Day']).Time.sum().plot()\n",
    "vid_whale.groupby(['Day']).Time.sum().plot()\n",
    "# в чём измеряется?"
   ]
  },
  {
   "cell_type": "code",
   "execution_count": 23,
   "id": "29454c4a",
   "metadata": {},
   "outputs": [
    {
     "name": "stdout",
     "output_type": "stream",
     "text": [
      "Общее время игры \"бесплатника\": 1 days 10:15:33\n",
      "Общее время игры \"кита\": 1 days 10:16:13\n"
     ]
    }
   ],
   "source": [
    "print('Общее время игры \"бесплатника\":', vid['Time'].sum())\n",
    "print('Общее время игры \"кита\":', vid_whale['Time'].sum())\n",
    "# Графики сессий по дням и общая продолжительности игры у обоих игроков почти идентичны."
   ]
  },
  {
   "cell_type": "code",
   "execution_count": 24,
   "id": "ef314d27",
   "metadata": {},
   "outputs": [
    {
     "data": {
      "text/plain": [
       "Base             1863\n",
       "Campaign         1206\n",
       "Raid             1155\n",
       "Hero              620\n",
       "Train             365\n",
       "Offers            316\n",
       "Alliance          312\n",
       "Building          292\n",
       "Gathering         269\n",
       "Summon            258\n",
       "Watchtower        186\n",
       "Craft             164\n",
       "Inventory         154\n",
       "Global Map        145\n",
       "Shop              145\n",
       "Player            135\n",
       "Path of Valor     133\n",
       "Missions          130\n",
       "Event             114\n",
       "Quests            105\n",
       "Idle               81\n",
       "VIP                70\n",
       "Tutorial           59\n",
       "Alliance Wars      54\n",
       "Mystic Vision      36\n",
       "Mail               34\n",
       "Buy                 3\n",
       "Raid                2\n",
       "raid                1\n",
       "Vip                 1\n",
       "Name: Tag, dtype: int64"
      ]
     },
     "execution_count": 24,
     "metadata": {},
     "output_type": "execute_result"
    }
   ],
   "source": [
    "np['Tag'].value_counts()"
   ]
  },
  {
   "cell_type": "code",
   "execution_count": 25,
   "id": "db4e67ec",
   "metadata": {},
   "outputs": [
    {
     "data": {
      "text/plain": [
       "Base             2082\n",
       "Raid             1283\n",
       "Campaign         1239\n",
       "Train             792\n",
       "Hero              766\n",
       "Summon            702\n",
       "Building          539\n",
       "Alliance          341\n",
       "Gathering         249\n",
       "Offers            234\n",
       "Shop              206\n",
       "Path of Valor     178\n",
       "Global Map        164\n",
       "Event             162\n",
       "Tournament        156\n",
       "Inventory         128\n",
       "Missions          123\n",
       "Alliance Wars     113\n",
       "Tutorial          103\n",
       "Craft             103\n",
       "Quests             85\n",
       "Watchtower         76\n",
       "Player             67\n",
       "Troops             64\n",
       "Purchase           59\n",
       "Buy res f          39\n",
       "Idle               31\n",
       "Mystic Vision      25\n",
       "Buy res i          19\n",
       "VIP                19\n",
       "Mail               19\n",
       "Buy                16\n",
       "Buy bi             11\n",
       "Buy res             9\n",
       "Buy bundle          7\n",
       "Name: Tag, dtype: int64"
      ]
     },
     "execution_count": 25,
     "metadata": {},
     "output_type": "execute_result"
    }
   ],
   "source": [
    "whale['Tag'].value_counts()"
   ]
  },
  {
   "cell_type": "code",
   "execution_count": 26,
   "id": "a521700e",
   "metadata": {},
   "outputs": [],
   "source": [
    "# платящий игрок чаще заходил в устройство крепости, обучал и подбирал героев, участвовал в рейдах.\n",
    "# интересно отметить, что неплатящий игрок тоже часто посещал магазин, а действий во вкладках временных акций - \n",
    "# \"offers\" у него гораздо больше. Это говорит об интересе и потенциальном желаении совершить покупку. Возможно отпугивают цены."
   ]
  },
  {
   "cell_type": "markdown",
   "id": "e71d4ffc",
   "metadata": {},
   "source": [
    "### В результате проверки оказалось, что гипотеза о большем кол-ве игрового времени у \"кита\" не подтвердилась, однако остальные предположения о более высоком уровне и показателях у этого игрока по сравнению с его неплотящим коллегой доказываются статитстическими данными."
   ]
  },
  {
   "cell_type": "markdown",
   "id": "9247e809",
   "metadata": {},
   "source": [
    "# update from 17.02"
   ]
  },
  {
   "cell_type": "code",
   "execution_count": 27,
   "id": "bd020ce5",
   "metadata": {},
   "outputs": [],
   "source": [
    "s = np.Action.str.split(pat='$').str[1].dropna()"
   ]
  },
  {
   "cell_type": "code",
   "execution_count": 28,
   "id": "dcb379bf",
   "metadata": {},
   "outputs": [],
   "source": [
    "d = whale.Action.str.split(pat='$').str[1].dropna()"
   ]
  },
  {
   "cell_type": "code",
   "execution_count": 45,
   "id": "11fc74cd",
   "metadata": {},
   "outputs": [
    {
     "data": {
      "text/plain": [
       "<AxesSubplot:title={'center':'Распределение стоимости офферов для неплатящего ($).'}, ylabel='Frequency'>"
      ]
     },
     "execution_count": 45,
     "metadata": {},
     "output_type": "execute_result"
    },
    {
     "data": {
      "image/png": "[encoded data removed]",
      "text/plain": [
       "<Figure size 432x288 with 1 Axes>"
      ]
     },
     "metadata": {
      "needs_background": "light"
     },
     "output_type": "display_data"
    }
   ],
   "source": [
    "s = pd.to_numeric(s)\n",
    "s.plot(kind='hist',bins=20, title='Распределение стоимости офферов для неплатящего ($).')"
   ]
  },
  {
   "cell_type": "code",
   "execution_count": 44,
   "id": "fec2029a",
   "metadata": {},
   "outputs": [
    {
     "data": {
      "text/plain": [
       "<AxesSubplot:title={'center':'Распределение стоимости офферов для \"кита\" ($).'}, ylabel='Frequency'>"
      ]
     },
     "execution_count": 44,
     "metadata": {},
     "output_type": "execute_result"
    },
    {
     "data": {
      "image/png": "[encoded data removed]",
      "text/plain": [
       "<Figure size 432x288 with 1 Axes>"
      ]
     },
     "metadata": {
      "needs_background": "light"
     },
     "output_type": "display_data"
    }
   ],
   "source": [
    "d = pd.to_numeric(d)\n",
    "d.plot(kind='hist', bins=20, title='Распределение стоимости офферов для \"кита\" ($).')"
   ]
  },
  {
   "cell_type": "code",
   "execution_count": 31,
   "id": "704c6cc4",
   "metadata": {},
   "outputs": [
    {
     "name": "stdout",
     "output_type": "stream",
     "text": [
      "Средний оффер неплатящего 12.82\n",
      "Средний оффер платящего 21.27\n"
     ]
    }
   ],
   "source": [
    "print('Средний оффер неплатящего', round(s.mean(), 2))\n",
    "print('Средний оффер платящего', round(d.mean(), 2))"
   ]
  },
  {
   "cell_type": "markdown",
   "id": "9c06ff53",
   "metadata": {},
   "source": [
    "### Взглянем на график длин игровых сессий ещё раз и посмотрим на статистику: средняя продолжительность, медиана и отклонение."
   ]
  },
  {
   "cell_type": "code",
   "execution_count": 41,
   "id": "07c4db2f",
   "metadata": {},
   "outputs": [
    {
     "name": "stdout",
     "output_type": "stream",
     "text": [
      "0 days 00:46:43.022727272\n",
      "0 days 00:39:32.557692307\n",
      "\n",
      "0 days 00:43:28.500000\n",
      "0 days 00:43:35.500000\n",
      "\n",
      "0 days 00:19:59.736415715\n",
      "0 days 00:20:39.539739949\n"
     ]
    }
   ],
   "source": [
    "print(vid.Time.mean())\n",
    "print(vid_whale.Time.mean())\n",
    "print()\n",
    "print(vid.Time.median())\n",
    "print(vid_whale.Time.median())\n",
    "print()\n",
    "print(vid_whale.Time.std())\n",
    "print(vid.Time.std())"
   ]
  },
  {
   "cell_type": "markdown",
   "id": "533a6c3d",
   "metadata": {},
   "source": [
    "### Удивительно, но показатели почти идентичны, что подтверждает визуальные вывод по графику об отсутствии большой разницы между игроками в этой метрике."
   ]
  },
  {
   "cell_type": "code",
   "execution_count": null,
   "id": "8e66ae3e",
   "metadata": {},
   "outputs": [],
   "source": []
  }
 ],
 "metadata": {
  "kernelspec": {
   "display_name": "Python 3 (ipykernel)",
   "language": "python",
   "name": "python3"
  },
  "language_info": {
   "codemirror_mode": {
    "name": "ipython",
    "version": 3
   },
   "file_extension": ".py",
   "mimetype": "text/x-python",
   "name": "python",
   "nbconvert_exporter": "python",
   "pygments_lexer": "ipython3",
   "version": "3.9.7"
  }
 },
 "nbformat": 4,
 "nbformat_minor": 5
}
