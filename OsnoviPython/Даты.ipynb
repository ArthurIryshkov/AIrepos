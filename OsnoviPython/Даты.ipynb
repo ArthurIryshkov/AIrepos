{
 "cells": [
  {
   "cell_type": "markdown",
   "id": "a41cfd69",
   "metadata": {},
   "source": [
    "### Задание 1."
   ]
  },
  {
   "cell_type": "code",
   "execution_count": 2,
   "id": "1c950066",
   "metadata": {},
   "outputs": [],
   "source": [
    "# The Moscow Times - Wednesday, October 2, 2002\n",
    "# The Guardian - Friday, 11.10.13\n",
    "# Daily News - Thursday, 18 August 1977"
   ]
  },
  {
   "cell_type": "code",
   "execution_count": 3,
   "id": "c84968d3",
   "metadata": {},
   "outputs": [],
   "source": [
    "from datetime import datetime"
   ]
  },
  {
   "cell_type": "markdown",
   "id": "55563006",
   "metadata": {},
   "source": [
    "1)"
   ]
  },
  {
   "cell_type": "code",
   "execution_count": 5,
   "id": "8e1da750",
   "metadata": {},
   "outputs": [],
   "source": [
    "TheMoscowTimes = 'Wednesday, October 2, 2002'"
   ]
  },
  {
   "cell_type": "code",
   "execution_count": 7,
   "id": "c5334bae",
   "metadata": {},
   "outputs": [
    {
     "data": {
      "text/plain": [
       "datetime.datetime(2002, 10, 2, 0, 0)"
      ]
     },
     "execution_count": 7,
     "metadata": {},
     "output_type": "execute_result"
    }
   ],
   "source": [
    "datetime.strptime(TheMoscowTimes, '%A, %B %d, %Y') "
   ]
  },
  {
   "cell_type": "markdown",
   "id": "9d3010b6",
   "metadata": {},
   "source": [
    "2)"
   ]
  },
  {
   "cell_type": "code",
   "execution_count": 8,
   "id": "7b40a7a2",
   "metadata": {},
   "outputs": [],
   "source": [
    "TheGuardian = 'Friday, 11.10.13'\n"
   ]
  },
  {
   "cell_type": "code",
   "execution_count": 10,
   "id": "af9b9e48",
   "metadata": {},
   "outputs": [
    {
     "data": {
      "text/plain": [
       "datetime.datetime(2013, 10, 11, 0, 0)"
      ]
     },
     "execution_count": 10,
     "metadata": {},
     "output_type": "execute_result"
    }
   ],
   "source": [
    "datetime.strptime(TheGuardian, '%A, %d.%m.%y') "
   ]
  },
  {
   "cell_type": "markdown",
   "id": "15e5d32a",
   "metadata": {},
   "source": [
    "3)"
   ]
  },
  {
   "cell_type": "code",
   "execution_count": 11,
   "id": "73ede4ec",
   "metadata": {},
   "outputs": [],
   "source": [
    "DailyNews = 'Thursday, 18 August 1977'"
   ]
  },
  {
   "cell_type": "code",
   "execution_count": 12,
   "id": "fe482936",
   "metadata": {},
   "outputs": [
    {
     "data": {
      "text/plain": [
       "datetime.datetime(1977, 8, 18, 0, 0)"
      ]
     },
     "execution_count": 12,
     "metadata": {},
     "output_type": "execute_result"
    }
   ],
   "source": [
    "datetime.strptime(DailyNews, '%A, %d %B %Y') "
   ]
  },
  {
   "cell_type": "markdown",
   "id": "b466ab4e",
   "metadata": {},
   "source": [
    "### Задание 2."
   ]
  },
  {
   "cell_type": "code",
   "execution_count": 14,
   "id": "68e3dec6",
   "metadata": {},
   "outputs": [],
   "source": [
    "stream = ['2018-04-02', '2018-02-29', '2018-19-02']"
   ]
  },
  {
   "cell_type": "code",
   "execution_count": 33,
   "id": "b846108a",
   "metadata": {},
   "outputs": [],
   "source": [
    "def check_if_real(stream):\n",
    "    for day in stream:\n",
    "        correct = None\n",
    "        try:\n",
    "            check_date = datetime.strptime(day, '%Y-%m-%d')\n",
    "            correct = True\n",
    "         \n",
    "        except ValueError:\n",
    "            correct = False\n",
    "        print('Date', day, 'is', correct) "
   ]
  },
  {
   "cell_type": "code",
   "execution_count": 34,
   "id": "49748b0e",
   "metadata": {},
   "outputs": [
    {
     "name": "stdout",
     "output_type": "stream",
     "text": [
      "Date 2018-04-02 is True\n",
      "Date 2018-02-29 is False\n",
      "Date 2018-19-02 is False\n"
     ]
    }
   ],
   "source": [
    "check_if_real(stream)"
   ]
  },
  {
   "cell_type": "markdown",
   "id": "c37334d2",
   "metadata": {},
   "source": [
    "### Задание 3."
   ]
  },
  {
   "cell_type": "code",
   "execution_count": 48,
   "id": "2e645460",
   "metadata": {},
   "outputs": [],
   "source": [
    "from datetime import timedelta\n",
    "\n",
    "def show_between():\n",
    "    start_date = input('Введите дату начала ')\n",
    "    end_date = input('Введите дату окончания ')\n",
    "\n",
    "    interval_list = []\n",
    "    try:\n",
    "        start_date_dt = datetime.strptime(start_date, '%Y-%m-%d')\n",
    "        end_date_dt = datetime.strptime(end_date, '%Y-%m-%d')\n",
    "\n",
    "        current_dt = start_date_dt\n",
    "        while current_dt <= end_date_dt:\n",
    "            interval_list.append(current_dt.strftime('%Y-%m-%d'))   \n",
    "            current_dt += timedelta(days=1)\n",
    "    except:\n",
    "        pass\n",
    "    return interval_list"
   ]
  },
  {
   "cell_type": "code",
   "execution_count": 49,
   "id": "6eda7310",
   "metadata": {},
   "outputs": [
    {
     "name": "stdout",
     "output_type": "stream",
     "text": [
      "Введите дату начала 2018-04-02\n",
      "Введите дату окончания 2018-04-01\n"
     ]
    },
    {
     "data": {
      "text/plain": [
       "[]"
      ]
     },
     "execution_count": 49,
     "metadata": {},
     "output_type": "execute_result"
    }
   ],
   "source": [
    "show_between()"
   ]
  },
  {
   "cell_type": "code",
   "execution_count": null,
   "id": "2a23ee8b",
   "metadata": {},
   "outputs": [],
   "source": []
  }
 ],
 "metadata": {
  "kernelspec": {
   "display_name": "Python 3",
   "language": "python",
   "name": "python3"
  },
  "language_info": {
   "codemirror_mode": {
    "name": "ipython",
    "version": 3
   },
   "file_extension": ".py",
   "mimetype": "text/x-python",
   "name": "python",
   "nbconvert_exporter": "python",
   "pygments_lexer": "ipython3",
   "version": "3.8.8"
  }
 },
 "nbformat": 4,
 "nbformat_minor": 5
}
