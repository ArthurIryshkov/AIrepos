{
 "cells": [
  {
   "cell_type": "markdown",
   "id": "3a37a16d",
   "metadata": {},
   "source": [
    "### Задание 1."
   ]
  },
  {
   "cell_type": "code",
   "execution_count": 1,
   "id": "ffcf3f1d",
   "metadata": {},
   "outputs": [],
   "source": [
    "import re"
   ]
  },
  {
   "cell_type": "code",
   "execution_count": null,
   "id": "ab894996",
   "metadata": {},
   "outputs": [],
   "source": [
    "car_id = 'АБ22ВВ193'"
   ]
  },
  {
   "cell_type": "code",
   "execution_count": null,
   "id": "6fb26c9a",
   "metadata": {},
   "outputs": [],
   "source": [
    "def check_car_id (car_id):\n",
    "    regex_car = r'(\\w\\d{3}\\w{2})(\\d{2,3})'\n",
    "    region = re.findall(regex_car, car_id)\n",
    "    if region != []:\n",
    "        print(f'Номер {car_id} валиден. Регион: {region[0][1]}')\n",
    "    else:\n",
    "        print('Номер не валиден')"
   ]
  },
  {
   "cell_type": "code",
   "execution_count": null,
   "id": "ccc48bfd",
   "metadata": {},
   "outputs": [],
   "source": [
    "check_car_id (car_id)"
   ]
  },
  {
   "cell_type": "markdown",
   "id": "cb8eb5bb",
   "metadata": {},
   "source": [
    "### Задание 2."
   ]
  },
  {
   "cell_type": "code",
   "execution_count": null,
   "id": "0f502aee",
   "metadata": {},
   "outputs": [],
   "source": [
    "some_string = 'Напишите функцию функцию, которая будет будет будет будет удалять все все все все последовательные повторы слов из из из из заданной строки строки при помощи регулярных выражений.'"
   ]
  },
  {
   "cell_type": "code",
   "execution_count": null,
   "id": "eb55beb9",
   "metadata": {},
   "outputs": [],
   "source": [
    "def del_rep(some_string):\n",
    "    #new_string = re.sub(r'(\\b.+) \\1', r'\\1', some_string)\n",
    "    print(re.sub(r'\\b(\\w+)(\\s\\1\\b)+', r'\\1', some_string))"
   ]
  },
  {
   "cell_type": "code",
   "execution_count": null,
   "id": "74b1a862",
   "metadata": {},
   "outputs": [],
   "source": [
    "del_rep (some_string)"
   ]
  },
  {
   "cell_type": "markdown",
   "id": "95b27919",
   "metadata": {},
   "source": [
    "### Задание 3."
   ]
  },
  {
   "cell_type": "code",
   "execution_count": null,
   "id": "7a61d2d7",
   "metadata": {},
   "outputs": [],
   "source": [
    "some_words = 'Высший совет народного хозяйства'"
   ]
  },
  {
   "cell_type": "code",
   "execution_count": null,
   "id": "45811371",
   "metadata": {},
   "outputs": [],
   "source": [
    "def new_abb(some_words):\n",
    "    x = some_words.strip().split()\n",
    "    for i in x:\n",
    "        print(str(i[0]).upper(), end='')"
   ]
  },
  {
   "cell_type": "code",
   "execution_count": null,
   "id": "8c8a77a4",
   "metadata": {},
   "outputs": [],
   "source": [
    "new_abb(some_words)"
   ]
  },
  {
   "cell_type": "code",
   "execution_count": null,
   "id": "184c0f01",
   "metadata": {},
   "outputs": [],
   "source": [
    "#print(re.findall('[A-Я]|\\s\\w', some_words))"
   ]
  },
  {
   "cell_type": "markdown",
   "id": "84913ea5",
   "metadata": {},
   "source": [
    "### Задание 4."
   ]
  },
  {
   "cell_type": "code",
   "execution_count": 27,
   "id": "d6d62964",
   "metadata": {},
   "outputs": [],
   "source": [
    "emails = ['test@gmail.com', 'xyz@test.in', 'test@ya.ru', 'xyz@mail.ru', 'xyz@ya.ru', 'xyz@gmail.com']"
   ]
  },
  {
   "cell_type": "code",
   "execution_count": 28,
   "id": "f06e6c77",
   "metadata": {},
   "outputs": [],
   "source": [
    "def dom_count(emails):\n",
    "    em_list = []\n",
    "    for i in emails:\n",
    "        regex = re.findall(r'(?:\\w+)(?:@)(.+)', i)\n",
    "        em_list.append(regex)\n",
    "    em_list2 = sum(em_list, start=[])\n",
    "    for i in set(em_list2):\n",
    "        times = em_list2.count(i) \n",
    "        print(i+':', times)\n"
   ]
  },
  {
   "cell_type": "code",
   "execution_count": 29,
   "id": "4026b4d4",
   "metadata": {},
   "outputs": [
    {
     "name": "stdout",
     "output_type": "stream",
     "text": [
      "mail.ru: 1\n",
      "gmail.com: 2\n",
      "ya.ru: 2\n",
      "test.in: 1\n"
     ]
    }
   ],
   "source": [
    "dom_count(emails)"
   ]
  }
 ],
 "metadata": {
  "kernelspec": {
   "display_name": "Python 3",
   "language": "python",
   "name": "python3"
  },
  "language_info": {
   "codemirror_mode": {
    "name": "ipython",
    "version": 3
   },
   "file_extension": ".py",
   "mimetype": "text/x-python",
   "name": "python",
   "nbconvert_exporter": "python",
   "pygments_lexer": "ipython3",
   "version": "3.8.8"
  }
 },
 "nbformat": 4,
 "nbformat_minor": 5
}
