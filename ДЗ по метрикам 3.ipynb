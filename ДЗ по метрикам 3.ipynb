{
 "cells": [
  {
   "cell_type": "code",
   "execution_count": null,
   "id": "5364cc02",
   "metadata": {},
   "outputs": [],
   "source": [
    "import pandas as pd\n",
    "import numpy as np\n",
    "import matplotlib.pyplot as plt"
   ]
  },
  {
   "cell_type": "code",
   "execution_count": null,
   "id": "44d60654",
   "metadata": {},
   "outputs": [],
   "source": [
    "from pylab import rcParams\n",
    "rcParams['figure.figsize'] = 11,5"
   ]
  },
  {
   "cell_type": "code",
   "execution_count": 25,
   "id": "624a9fd1",
   "metadata": {},
   "outputs": [
    {
     "data": {
      "text/html": [
       "<div>\n",
       "<style scoped>\n",
       "    .dataframe tbody tr th:only-of-type {\n",
       "        vertical-align: middle;\n",
       "    }\n",
       "\n",
       "    .dataframe tbody tr th {\n",
       "        vertical-align: top;\n",
       "    }\n",
       "\n",
       "    .dataframe thead th {\n",
       "        text-align: right;\n",
       "    }\n",
       "</style>\n",
       "<table border=\"1\" class=\"dataframe\">\n",
       "  <thead>\n",
       "    <tr style=\"text-align: right;\">\n",
       "      <th></th>\n",
       "      <th>Unnamed: 0</th>\n",
       "      <th>date</th>\n",
       "      <th>user_id</th>\n",
       "      <th>hour</th>\n",
       "      <th>app_opened</th>\n",
       "      <th>price_seen</th>\n",
       "      <th>order_made</th>\n",
       "      <th>surge</th>\n",
       "      <th>ride_completed</th>\n",
       "      <th>user_cancelled</th>\n",
       "      <th>age</th>\n",
       "      <th>os</th>\n",
       "      <th>city_center_order</th>\n",
       "      <th>order_class</th>\n",
       "      <th>distance</th>\n",
       "      <th>rfm</th>\n",
       "    </tr>\n",
       "  </thead>\n",
       "  <tbody>\n",
       "    <tr>\n",
       "      <th>0</th>\n",
       "      <td>0</td>\n",
       "      <td>2020-05-21</td>\n",
       "      <td>867689</td>\n",
       "      <td>12</td>\n",
       "      <td>1</td>\n",
       "      <td>1</td>\n",
       "      <td>1</td>\n",
       "      <td>no surge</td>\n",
       "      <td>1</td>\n",
       "      <td>0</td>\n",
       "      <td>20</td>\n",
       "      <td>iOS</td>\n",
       "      <td>0</td>\n",
       "      <td>business</td>\n",
       "      <td>7.982135</td>\n",
       "      <td>low</td>\n",
       "    </tr>\n",
       "    <tr>\n",
       "      <th>1</th>\n",
       "      <td>1</td>\n",
       "      <td>2020-05-23</td>\n",
       "      <td>752172</td>\n",
       "      <td>5</td>\n",
       "      <td>1</td>\n",
       "      <td>1</td>\n",
       "      <td>1</td>\n",
       "      <td>no surge</td>\n",
       "      <td>1</td>\n",
       "      <td>0</td>\n",
       "      <td>37</td>\n",
       "      <td>Android</td>\n",
       "      <td>1</td>\n",
       "      <td>economy</td>\n",
       "      <td>2.908468</td>\n",
       "      <td>high</td>\n",
       "    </tr>\n",
       "    <tr>\n",
       "      <th>2</th>\n",
       "      <td>2</td>\n",
       "      <td>2020-05-20</td>\n",
       "      <td>486559</td>\n",
       "      <td>15</td>\n",
       "      <td>1</td>\n",
       "      <td>1</td>\n",
       "      <td>1</td>\n",
       "      <td>no surge</td>\n",
       "      <td>1</td>\n",
       "      <td>0</td>\n",
       "      <td>47</td>\n",
       "      <td>Android</td>\n",
       "      <td>0</td>\n",
       "      <td>comfort</td>\n",
       "      <td>7.224614</td>\n",
       "      <td>low</td>\n",
       "    </tr>\n",
       "    <tr>\n",
       "      <th>3</th>\n",
       "      <td>3</td>\n",
       "      <td>2020-05-19</td>\n",
       "      <td>304024</td>\n",
       "      <td>0</td>\n",
       "      <td>1</td>\n",
       "      <td>1</td>\n",
       "      <td>1</td>\n",
       "      <td>no surge</td>\n",
       "      <td>1</td>\n",
       "      <td>0</td>\n",
       "      <td>59</td>\n",
       "      <td>Android</td>\n",
       "      <td>1</td>\n",
       "      <td>economy</td>\n",
       "      <td>1.874349</td>\n",
       "      <td>low</td>\n",
       "    </tr>\n",
       "    <tr>\n",
       "      <th>4</th>\n",
       "      <td>4</td>\n",
       "      <td>2020-05-23</td>\n",
       "      <td>139420</td>\n",
       "      <td>0</td>\n",
       "      <td>1</td>\n",
       "      <td>1</td>\n",
       "      <td>1</td>\n",
       "      <td>no surge</td>\n",
       "      <td>1</td>\n",
       "      <td>0</td>\n",
       "      <td>19</td>\n",
       "      <td>Android</td>\n",
       "      <td>0</td>\n",
       "      <td>business</td>\n",
       "      <td>10.704778</td>\n",
       "      <td>medium</td>\n",
       "    </tr>\n",
       "  </tbody>\n",
       "</table>\n",
       "</div>"
      ],
      "text/plain": [
       "   Unnamed: 0        date  user_id  hour  app_opened  price_seen  order_made  \\\n",
       "0           0  2020-05-21   867689    12           1           1           1   \n",
       "1           1  2020-05-23   752172     5           1           1           1   \n",
       "2           2  2020-05-20   486559    15           1           1           1   \n",
       "3           3  2020-05-19   304024     0           1           1           1   \n",
       "4           4  2020-05-23   139420     0           1           1           1   \n",
       "\n",
       "      surge  ride_completed  user_cancelled  age       os  city_center_order  \\\n",
       "0  no surge               1               0   20      iOS                  0   \n",
       "1  no surge               1               0   37  Android                  1   \n",
       "2  no surge               1               0   47  Android                  0   \n",
       "3  no surge               1               0   59  Android                  1   \n",
       "4  no surge               1               0   19  Android                  0   \n",
       "\n",
       "  order_class   distance     rfm  \n",
       "0    business   7.982135     low  \n",
       "1     economy   2.908468    high  \n",
       "2     comfort   7.224614     low  \n",
       "3     economy   1.874349     low  \n",
       "4    business  10.704778  medium  "
      ]
     },
     "execution_count": 25,
     "metadata": {},
     "output_type": "execute_result"
    }
   ],
   "source": [
    "gett = pd.read_csv('Netology_A_B-testing_HW_1.csv')\n",
    "gett.head()"
   ]
  },
  {
   "cell_type": "markdown",
   "id": "bbe57696",
   "metadata": {},
   "source": [
    "### Возраст (age)"
   ]
  },
  {
   "cell_type": "code",
   "execution_count": 26,
   "id": "a07f020a",
   "metadata": {},
   "outputs": [
    {
     "data": {
      "text/plain": [
       "40.47176354679803"
      ]
     },
     "execution_count": 26,
     "metadata": {},
     "output_type": "execute_result"
    }
   ],
   "source": [
    "gett['age'].mean() # среднее"
   ]
  },
  {
   "cell_type": "code",
   "execution_count": 27,
   "id": "82c5684d",
   "metadata": {},
   "outputs": [
    {
     "data": {
      "text/plain": [
       "40.0"
      ]
     },
     "execution_count": 27,
     "metadata": {},
     "output_type": "execute_result"
    }
   ],
   "source": [
    "gett['age'].median() # медиана"
   ]
  },
  {
   "cell_type": "code",
   "execution_count": 28,
   "id": "c9f3417d",
   "metadata": {},
   "outputs": [
    {
     "data": {
      "text/plain": [
       "63.0"
      ]
     },
     "execution_count": 28,
     "metadata": {},
     "output_type": "execute_result"
    }
   ],
   "source": [
    "gett['age'].quantile(0.95) # 95 квантиль"
   ]
  },
  {
   "cell_type": "code",
   "execution_count": 41,
   "id": "c67d2f80",
   "metadata": {},
   "outputs": [
    {
     "data": {
      "text/plain": [
       "<AxesSubplot:ylabel='Frequency'>"
      ]
     },
     "execution_count": 41,
     "metadata": {},
     "output_type": "execute_result"
    },
    {
     "data": {
      "image/png": "[encoded data removed]",
      "text/plain": [
       "<Figure size 792x360 with 1 Axes>"
      ]
     },
     "metadata": {
      "needs_background": "light"
     },
     "output_type": "display_data"
    }
   ],
   "source": [
    "gett['age'].plot(kind='hist', alpha = 0.9, bins=25)"
   ]
  },
  {
   "cell_type": "code",
   "execution_count": 43,
   "id": "b3619285",
   "metadata": {},
   "outputs": [
    {
     "data": {
      "text/plain": [
       "<AxesSubplot:>"
      ]
     },
     "execution_count": 43,
     "metadata": {},
     "output_type": "execute_result"
    },
    {
     "data": {
      "image/png": "[encoded data removed]",
      "text/plain": [
       "<Figure size 792x360 with 1 Axes>"
      ]
     },
     "metadata": {
      "needs_background": "light"
     },
     "output_type": "display_data"
    }
   ],
   "source": [
    "gett['age'].plot(kind='box', grid=True)"
   ]
  },
  {
   "cell_type": "markdown",
   "id": "b7f49ad6",
   "metadata": {},
   "source": [
    "____________________________________________________________________________________"
   ]
  },
  {
   "cell_type": "markdown",
   "id": "620fb71d",
   "metadata": {},
   "source": [
    "### Путь (distance)"
   ]
  },
  {
   "cell_type": "code",
   "execution_count": 44,
   "id": "88eed156",
   "metadata": {},
   "outputs": [
    {
     "data": {
      "text/plain": [
       "5.371151996435672"
      ]
     },
     "execution_count": 44,
     "metadata": {},
     "output_type": "execute_result"
    }
   ],
   "source": [
    "gett['distance'].mean() # среднее"
   ]
  },
  {
   "cell_type": "code",
   "execution_count": 45,
   "id": "a364f08b",
   "metadata": {},
   "outputs": [
    {
     "data": {
      "text/plain": [
       "4.279564564612159"
      ]
     },
     "execution_count": 45,
     "metadata": {},
     "output_type": "execute_result"
    }
   ],
   "source": [
    "gett['distance'].median() # медиана"
   ]
  },
  {
   "cell_type": "code",
   "execution_count": 46,
   "id": "aeecd0f0",
   "metadata": {},
   "outputs": [
    {
     "data": {
      "text/plain": [
       "13.694289876456235"
      ]
     },
     "execution_count": 46,
     "metadata": {},
     "output_type": "execute_result"
    }
   ],
   "source": [
    "gett['distance'].quantile(0.95) # 95 квантиль"
   ]
  },
  {
   "cell_type": "code",
   "execution_count": 47,
   "id": "e07c9004",
   "metadata": {},
   "outputs": [
    {
     "data": {
      "text/plain": [
       "<AxesSubplot:ylabel='Frequency'>"
      ]
     },
     "execution_count": 47,
     "metadata": {},
     "output_type": "execute_result"
    },
    {
     "data": {
      "image/png": "[encoded data removed]",
      "text/plain": [
       "<Figure size 792x360 with 1 Axes>"
      ]
     },
     "metadata": {
      "needs_background": "light"
     },
     "output_type": "display_data"
    }
   ],
   "source": [
    "gett['distance'].plot(kind='hist', alpha = 0.9, bins=25)"
   ]
  },
  {
   "cell_type": "code",
   "execution_count": 48,
   "id": "038165da",
   "metadata": {},
   "outputs": [
    {
     "data": {
      "text/plain": [
       "<AxesSubplot:>"
      ]
     },
     "execution_count": 48,
     "metadata": {},
     "output_type": "execute_result"
    },
    {
     "data": {
      "image/png": "[encoded data removed]",
      "text/plain": [
       "<Figure size 792x360 with 1 Axes>"
      ]
     },
     "metadata": {
      "needs_background": "light"
     },
     "output_type": "display_data"
    }
   ],
   "source": [
    "gett['distance'].plot(kind='box', grid=True)"
   ]
  },
  {
   "cell_type": "markdown",
   "id": "161ff566",
   "metadata": {},
   "source": [
    "____________________________________________________________________________________"
   ]
  },
  {
   "cell_type": "markdown",
   "id": "73a6333a",
   "metadata": {},
   "source": [
    "### Час заказа (hour)"
   ]
  },
  {
   "cell_type": "code",
   "execution_count": 49,
   "id": "62ad3ffa",
   "metadata": {},
   "outputs": [
    {
     "data": {
      "text/plain": [
       "11.481428571428571"
      ]
     },
     "execution_count": 49,
     "metadata": {},
     "output_type": "execute_result"
    }
   ],
   "source": [
    "gett['hour'].mean() # среднее"
   ]
  },
  {
   "cell_type": "code",
   "execution_count": 50,
   "id": "5f9c9b84",
   "metadata": {},
   "outputs": [
    {
     "data": {
      "text/plain": [
       "11.0"
      ]
     },
     "execution_count": 50,
     "metadata": {},
     "output_type": "execute_result"
    }
   ],
   "source": [
    "gett['hour'].median() # медиана"
   ]
  },
  {
   "cell_type": "code",
   "execution_count": 51,
   "id": "fb24f9a8",
   "metadata": {},
   "outputs": [
    {
     "data": {
      "text/plain": [
       "22.0"
      ]
     },
     "execution_count": 51,
     "metadata": {},
     "output_type": "execute_result"
    }
   ],
   "source": [
    "gett['hour'].quantile(0.95) # 95 квантиль"
   ]
  },
  {
   "cell_type": "code",
   "execution_count": 54,
   "id": "035a470f",
   "metadata": {},
   "outputs": [
    {
     "data": {
      "text/plain": [
       "<AxesSubplot:ylabel='Frequency'>"
      ]
     },
     "execution_count": 54,
     "metadata": {},
     "output_type": "execute_result"
    },
    {
     "data": {
      "image/png": "[encoded data removed]",
      "text/plain": [
       "<Figure size 792x360 with 1 Axes>"
      ]
     },
     "metadata": {
      "needs_background": "light"
     },
     "output_type": "display_data"
    }
   ],
   "source": [
    "gett['hour'].plot(kind='hist', alpha = 0.9, bins=24)"
   ]
  },
  {
   "cell_type": "code",
   "execution_count": 53,
   "id": "8926112d",
   "metadata": {},
   "outputs": [
    {
     "data": {
      "text/plain": [
       "<AxesSubplot:>"
      ]
     },
     "execution_count": 53,
     "metadata": {},
     "output_type": "execute_result"
    },
    {
     "data": {
      "image/png": "[encoded data removed]",
      "text/plain": [
       "<Figure size 792x360 with 1 Axes>"
      ]
     },
     "metadata": {
      "needs_background": "light"
     },
     "output_type": "display_data"
    }
   ],
   "source": [
    "gett['hour'].plot(kind='box', grid=True)"
   ]
  },
  {
   "cell_type": "markdown",
   "id": "027e2b81",
   "metadata": {},
   "source": [
    "### Посмотрим на класс заказов:"
   ]
  },
  {
   "cell_type": "code",
   "execution_count": 73,
   "id": "565f6089",
   "metadata": {},
   "outputs": [
    {
     "data": {
      "text/plain": [
       "order_class\n",
       "business    12033\n",
       "comfort     42248\n",
       "economy     47219\n",
       "Name: order_class, dtype: int64"
      ]
     },
     "execution_count": 73,
     "metadata": {},
     "output_type": "execute_result"
    }
   ],
   "source": [
    "gett.groupby('order_class')['order_class'].count()"
   ]
  },
  {
   "cell_type": "code",
   "execution_count": 60,
   "id": "0c1f64b1",
   "metadata": {},
   "outputs": [
    {
     "data": {
      "text/plain": [
       "<AxesSubplot:>"
      ]
     },
     "execution_count": 60,
     "metadata": {},
     "output_type": "execute_result"
    },
    {
     "data": {
      "image/png": "[encoded data removed]",
      "text/plain": [
       "<Figure size 792x360 with 1 Axes>"
      ]
     },
     "metadata": {
      "needs_background": "light"
     },
     "output_type": "display_data"
    }
   ],
   "source": [
    "gett['order_class'].value_counts().plot(kind='bar')"
   ]
  }
 ],
 "metadata": {
  "kernelspec": {
   "display_name": "Python 3 (ipykernel)",
   "language": "python",
   "name": "python3"
  },
  "language_info": {
   "codemirror_mode": {
    "name": "ipython",
    "version": 3
   },
   "file_extension": ".py",
   "mimetype": "text/x-python",
   "name": "python",
   "nbconvert_exporter": "python",
   "pygments_lexer": "ipython3",
   "version": "3.9.7"
  }
 },
 "nbformat": 4,
 "nbformat_minor": 5
}
