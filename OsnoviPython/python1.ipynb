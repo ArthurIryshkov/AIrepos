{
 "cells": [
  {
   "cell_type": "markdown",
   "id": "cebc6204",
   "metadata": {},
   "source": [
    "Задание 1."
   ]
  },
  {
   "cell_type": "code",
   "execution_count": 1,
   "id": "0dc95a2c",
   "metadata": {},
   "outputs": [
    {
     "name": "stdout",
     "output_type": "stream",
     "text": [
      "Фраза 2 длиннее фразы 1\n"
     ]
    }
   ],
   "source": [
    "phrase_1 = '640Кб должно хватить для любых задач. Билл Гейтс (по легенде)'\n",
    "phrase_2 = 'Насколько проще было бы писать программы, если бы не заказчики'\n",
    "\n",
    "if len(phrase_1) > len(phrase_2):\n",
    "    print('Фраза 1 длиннее фразы 2')\n",
    "elif len(phrase_1) < len(phrase_2):\n",
    "    print('Фраза 2 длиннее фразы 1')\n",
    "else:\n",
    "    print('Фразы равной длины')"
   ]
  },
  {
   "cell_type": "markdown",
   "id": "67e1d733",
   "metadata": {},
   "source": [
    "Задание 2."
   ]
  },
  {
   "cell_type": "code",
   "execution_count": 2,
   "id": "144f837e",
   "metadata": {},
   "outputs": [
    {
     "name": "stdout",
     "output_type": "stream",
     "text": [
      "Обычный год\n"
     ]
    }
   ],
   "source": [
    "year = 2021\n",
    "\n",
    "if year % 4 == 0:\n",
    "    print('Високосный год')\n",
    "else:\n",
    "    print('Обычный год')"
   ]
  },
  {
   "cell_type": "markdown",
   "id": "0e1fbb07",
   "metadata": {},
   "source": [
    "Задание 3."
   ]
  },
  {
   "cell_type": "code",
   "execution_count": 3,
   "id": "bab69fa6",
   "metadata": {},
   "outputs": [
    {
     "name": "stdout",
     "output_type": "stream",
     "text": [
      "Введите день:1\n",
      "Введите месяц:2\n",
      "Ваш знак зодиака: Водолей\n"
     ]
    }
   ],
   "source": [
    "day = int(input('Введите день:'))\n",
    "month = int(input('Введите месяц:'))\n",
    "\n",
    "if 1 > day > 31 or 1 > month > 12:\n",
    "    print('Error date!')\n",
    "elif (day >= 21 and month == 3) or (month == 4 and day <= 19):\n",
    "    print('Ваш знак зодиака: Овен')\n",
    "elif (day >= 20 and month == 4) or (month == 5 and day <= 20):\n",
    "    print('Ваш знак зодиака: Телец')\n",
    "elif (day >= 21 and month == 5) or (month == 6 and day <= 21):\n",
    "    print('Ваш знак зодиака: Близнецы')\n",
    "elif (day >= 22 and month == 6) or (month == 7 and day <= 22):\n",
    "    print('Ваш знак зодиака: Рак')\n",
    "elif (day >= 23 and month == 7) or (month == 8 and day <= 22):\n",
    "    print('Ваш знак зодиака: Лев')\n",
    "elif (day >= 23 and month == 8) or (month == 9 and day <= 22):\n",
    "    print('Ваш знак зодиака: Дева')\n",
    "elif (day >= 23 and month == 9) or (month == 10 and day <= 23):\n",
    "    print('Ваш знак зодиака: Весы')\n",
    "elif (day >= 24 and month == 10) or (month == 11 and day <= 22):\n",
    "    print('Ваш знак зодиака: Скорпион')\n",
    "elif (day >= 23 and month == 11) or (month == 12 and day <= 21):\n",
    "    print('Ваш знак зодиака: Стрелец')\n",
    "elif (day >= 22 and month == 12) or (month == 1 and day <= 20):\n",
    "    print('Ваш знак зодиака: Козерог')\n",
    "elif (day >= 21 and month == 1) or (month == 2 and day <= 18):\n",
    "    print('Ваш знак зодиака: Водолей')\n",
    "elif (day >= 19 and month == 2) or (month == 3 and day <= 20):\n",
    "    print('Ваш знак зодиака: Рыбы')"
   ]
  },
  {
   "cell_type": "markdown",
   "id": "2b817464",
   "metadata": {},
   "source": [
    "Задание 4."
   ]
  },
  {
   "cell_type": "code",
   "execution_count": 4,
   "id": "e9c4cc0c",
   "metadata": {},
   "outputs": [
    {
     "name": "stdout",
     "output_type": "stream",
     "text": [
      "Упаковка для лыж\n"
     ]
    }
   ],
   "source": [
    "width = 1\n",
    "length = 1000\n",
    "height = 1\n",
    "\n",
    "if width < 15 and length < 15 and height < 15:\n",
    "    print('Коробка №1')\n",
    "elif (15 < width < 50) or (15 < length < 50) or (15 < height < 50):\n",
    "    print('Коробка №2')\n",
    "elif length > 200:\n",
    "    print('Упаковка для лыж')\n",
    "else:\n",
    "    print('Стандартная коробка №3')"
   ]
  },
  {
   "cell_type": "markdown",
   "id": "6d213229",
   "metadata": {},
   "source": [
    "Задание 5."
   ]
  },
  {
   "cell_type": "code",
   "execution_count": 5,
   "id": "88b59592",
   "metadata": {
    "scrolled": true
   },
   "outputs": [
    {
     "name": "stdout",
     "output_type": "stream",
     "text": [
      "Счастливый билет\n"
     ]
    }
   ],
   "source": [
    "number = 123321\n",
    "S = str(number)\n",
    "if int(S[0]) + int(S[1]) + int(S[2]) == int(S[3]) + int(S[4]) + int(S[5]):\n",
    "    print('Счастливый билет')\n",
    "else:\n",
    "    print('Несчастливый билет')"
   ]
  },
  {
   "cell_type": "markdown",
   "id": "f53633ef",
   "metadata": {},
   "source": [
    "Задание 6."
   ]
  },
  {
   "cell_type": "code",
   "execution_count": 7,
   "id": "0feacfa1",
   "metadata": {},
   "outputs": [
    {
     "name": "stdout",
     "output_type": "stream",
     "text": [
      "треугольник\n",
      "Введите длину стороны a:7\n",
      "Введите длину стороны b:7\n",
      "Введите длину стороны c:7\n",
      "Площадь треугольника:  21.21762239271875\n"
     ]
    }
   ],
   "source": [
    "fig = input()\n",
    "if fig == 'круг':\n",
    "    rad = int(input('Введите радиус:'))\n",
    "    S = 3.1416 * rad**2\n",
    "    print ('Площадь круга: ', S)\n",
    "elif fig == 'треугольник':\n",
    "    a = int(input('Введите длину стороны a:'))\n",
    "    b = int(input('Введите длину стороны b:'))\n",
    "    c = int(input('Введите длину стороны c:'))\n",
    "    p =(a + b + c) / 2\n",
    "    import math\n",
    "    S = math.sqrt(p * (p-a) * (p-b) * (p-c)) \n",
    "    print ('Площадь треугольника: ', S)\n",
    "elif fig == 'прямоугольник':\n",
    "    a = int(input('Введите длину стороны a:'))\n",
    "    b = int(input('Введите длину стороны b:'))\n",
    "    S = a * b\n",
    "    print('Площадь прямоугольника: ', S)\n",
    "else:\n",
    "    print('Неизвестная фигура')"
   ]
  }
 ],
 "metadata": {
  "kernelspec": {
   "display_name": "Python 3",
   "language": "python",
   "name": "python3"
  },
  "language_info": {
   "codemirror_mode": {
    "name": "ipython",
    "version": 3
   },
   "file_extension": ".py",
   "mimetype": "text/x-python",
   "name": "python",
   "nbconvert_exporter": "python",
   "pygments_lexer": "ipython3",
   "version": "3.8.8"
  }
 },
 "nbformat": 4,
 "nbformat_minor": 5
}
