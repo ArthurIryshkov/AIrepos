{
 "cells": [
  {
   "cell_type": "code",
   "execution_count": 23,
   "id": "626bf4ce",
   "metadata": {},
   "outputs": [],
   "source": [
    "import pandas as pd"
   ]
  },
  {
   "cell_type": "code",
   "execution_count": 43,
   "id": "a967fa54",
   "metadata": {},
   "outputs": [],
   "source": [
    "d0 = {'Сессия каждые N дней': [1, 3]}\n",
    "d1 = {'Количество уровней в сессию': [3, 6]}\n",
    "d2 = {'Показы рекламы принудительной каждые N уровней': [4, 8]}\n",
    "d3 = {'Просмотр рекламы за ежедневную награду каждую N игровую сессию': [1, 3]}\n",
    "d4 = {'Просмотр рекламы для возрождения и др. за сессию': [1, 3, 5]}\n",
    "d5 = {'Покупка бустеров каждую N сессию': [3, 6]}\n",
    "d6 = {'Покупка декоративных элементов каждую N сессию': [5, 10]}"
   ]
  },
  {
   "cell_type": "code",
   "execution_count": 44,
   "id": "7019e66a",
   "metadata": {},
   "outputs": [],
   "source": [
    "df0 = pd.DataFrame(d0)\n",
    "df1 = pd.DataFrame(d1)\n",
    "df2 = pd.DataFrame(d2)\n",
    "df3 = pd.DataFrame(d3)\n",
    "df4 = pd.DataFrame(d4)\n",
    "df5 = pd.DataFrame(d5)\n",
    "df6 = pd.DataFrame(d6)"
   ]
  },
  {
   "cell_type": "code",
   "execution_count": 45,
   "id": "29238999",
   "metadata": {},
   "outputs": [],
   "source": [
    "df0['key'] = 1\n",
    "df1['key'] = 1\n",
    "df2['key'] = 1\n",
    "df3['key'] = 1\n",
    "df4['key'] = 1\n",
    "df5['key'] = 1\n",
    "df6['key'] = 1"
   ]
  },
  {
   "cell_type": "code",
   "execution_count": 49,
   "id": "84d15aff",
   "metadata": {},
   "outputs": [],
   "source": [
    "res = df0.merge(df1,on='key').merge(df2,on='key').merge(df3,on='key').merge(df4,on='key').merge(df5,on='key').merge(df6,on='key')"
   ]
  },
  {
   "cell_type": "code",
   "execution_count": 53,
   "id": "4ebcae66",
   "metadata": {},
   "outputs": [],
   "source": [
    "pd.set_option('display.max_rows', None)"
   ]
  },
  {
   "cell_type": "code",
   "execution_count": 58,
   "id": "46d110c5",
   "metadata": {},
   "outputs": [],
   "source": [
    "res = res.drop('key', axis=1)"
   ]
  },
  {
   "cell_type": "code",
   "execution_count": 60,
   "id": "edcd5c34",
   "metadata": {},
   "outputs": [],
   "source": [
    "res['values'] = [735665,458901,412567,412567,1665826,1151765,1550494,1065972,3398246,2440884,3183598,2281017,735665,318126,496132,279664,1315995,891479,1220773,820592,2746882,1955920,2569471,1823909,635030,383675,578748,341559,1478665,1012532,1374095,934720,3049863,2181441,2855113,2036469,464136,255668,417508,220668,1161465,776428,1075116,712107,2458959,1741690,2298055,1621996,968774,632853,893467,576695,2099911,1474618,1959624,1370281,4205074,3042329,3944524,2848009,740259,462333,677998,415806,1674375,1158124,1558552,1071966,3414153,2452733,3198597,2292186,735665,458901,673665,412567,1665826,1151765,1550494,1065972,3398246,2440884,3183598,2281017,547456,318126,496132,279664,1315995,891479,1220773,820592,2746882,1955920,2569471,1823909,131281,4749,116993,-6096,293178,127141,274376,112966,506889,287729,482016,269079,86426,-29327,73368,-39263,234193,82642,217046,69688,428902,229224,406255,212216,112449,-9547,98679,-20010,268400,108459,250294,94798,474113,263152,450177,245193,69216,-42425,56628,-52015,211596,65568,195080,53079,399058,206809,377260,190426,181535,42831,165856,30959,359393,176991,338720,161438,594569,353401,567181,332898,132327,5542,118009,-5324,294554,128178,275713,113974,508710,289093,483785,270406,131281,4749,116993,-6096,293178,127141,274376,112966,506889,287729,482016,269079,86426,-29327,73368,-39263,234193,82642,217046,69688,428902,229224,406255,212216]"
   ]
  },
  {
   "cell_type": "code",
   "execution_count": 74,
   "id": "891b72e9",
   "metadata": {
    "scrolled": true
   },
   "outputs": [
    {
     "data": {
      "text/html": [
       "<div>\n",
       "<style scoped>\n",
       "    .dataframe tbody tr th:only-of-type {\n",
       "        vertical-align: middle;\n",
       "    }\n",
       "\n",
       "    .dataframe tbody tr th {\n",
       "        vertical-align: top;\n",
       "    }\n",
       "\n",
       "    .dataframe thead th {\n",
       "        text-align: right;\n",
       "    }\n",
       "</style>\n",
       "<table border=\"1\" class=\"dataframe\">\n",
       "  <thead>\n",
       "    <tr style=\"text-align: right;\">\n",
       "      <th></th>\n",
       "      <th>Сессия каждые N дней</th>\n",
       "      <th>Количество уровней в сессию</th>\n",
       "      <th>Показы рекламы принудительной каждые N уровней</th>\n",
       "      <th>Просмотр рекламы за ежедневную награду каждую N игровую сессию</th>\n",
       "      <th>Просмотр рекламы для возрождения и др. за сессию</th>\n",
       "      <th>Покупка бустеров каждую N сессию</th>\n",
       "      <th>Покупка декоративных элементов каждую N сессию</th>\n",
       "      <th>values</th>\n",
       "    </tr>\n",
       "  </thead>\n",
       "  <tbody>\n",
       "    <tr>\n",
       "      <th>135</th>\n",
       "      <td>3</td>\n",
       "      <td>3</td>\n",
       "      <td>8</td>\n",
       "      <td>3</td>\n",
       "      <td>1</td>\n",
       "      <td>6</td>\n",
       "      <td>10</td>\n",
       "      <td>-52015</td>\n",
       "    </tr>\n",
       "    <tr>\n",
       "      <th>133</th>\n",
       "      <td>3</td>\n",
       "      <td>3</td>\n",
       "      <td>8</td>\n",
       "      <td>3</td>\n",
       "      <td>1</td>\n",
       "      <td>3</td>\n",
       "      <td>10</td>\n",
       "      <td>-42425</td>\n",
       "    </tr>\n",
       "    <tr>\n",
       "      <th>183</th>\n",
       "      <td>3</td>\n",
       "      <td>6</td>\n",
       "      <td>8</td>\n",
       "      <td>3</td>\n",
       "      <td>1</td>\n",
       "      <td>6</td>\n",
       "      <td>10</td>\n",
       "      <td>-39263</td>\n",
       "    </tr>\n",
       "  </tbody>\n",
       "</table>\n",
       "</div>"
      ],
      "text/plain": [
       "     Сессия каждые N дней  Количество уровней в сессию  \\\n",
       "135                     3                            3   \n",
       "133                     3                            3   \n",
       "183                     3                            6   \n",
       "\n",
       "     Показы рекламы принудительной каждые N уровней  \\\n",
       "135                                               8   \n",
       "133                                               8   \n",
       "183                                               8   \n",
       "\n",
       "     Просмотр рекламы за ежедневную награду каждую N игровую сессию  \\\n",
       "135                                                               3   \n",
       "133                                                               3   \n",
       "183                                                               3   \n",
       "\n",
       "     Просмотр рекламы для возрождения и др. за сессию  \\\n",
       "135                                                 1   \n",
       "133                                                 1   \n",
       "183                                                 1   \n",
       "\n",
       "     Покупка бустеров каждую N сессию  \\\n",
       "135                                 6   \n",
       "133                                 3   \n",
       "183                                 6   \n",
       "\n",
       "     Покупка декоративных элементов каждую N сессию  values  \n",
       "135                                              10  -52015  \n",
       "133                                              10  -42425  \n",
       "183                                              10  -39263  "
      ]
     },
     "execution_count": 74,
     "metadata": {},
     "output_type": "execute_result"
    }
   ],
   "source": [
    "res.sort_values('values',ascending=True).head(3)"
   ]
  },
  {
   "cell_type": "code",
   "execution_count": 75,
   "id": "310bb927",
   "metadata": {},
   "outputs": [
    {
     "data": {
      "text/html": [
       "<div>\n",
       "<style scoped>\n",
       "    .dataframe tbody tr th:only-of-type {\n",
       "        vertical-align: middle;\n",
       "    }\n",
       "\n",
       "    .dataframe tbody tr th {\n",
       "        vertical-align: top;\n",
       "    }\n",
       "\n",
       "    .dataframe thead th {\n",
       "        text-align: right;\n",
       "    }\n",
       "</style>\n",
       "<table border=\"1\" class=\"dataframe\">\n",
       "  <thead>\n",
       "    <tr style=\"text-align: right;\">\n",
       "      <th></th>\n",
       "      <th>Сессия каждые N дней</th>\n",
       "      <th>Количество уровней в сессию</th>\n",
       "      <th>Показы рекламы принудительной каждые N уровней</th>\n",
       "      <th>Просмотр рекламы за ежедневную награду каждую N игровую сессию</th>\n",
       "      <th>Просмотр рекламы для возрождения и др. за сессию</th>\n",
       "      <th>Покупка бустеров каждую N сессию</th>\n",
       "      <th>Покупка декоративных элементов каждую N сессию</th>\n",
       "      <th>values</th>\n",
       "    </tr>\n",
       "  </thead>\n",
       "  <tbody>\n",
       "    <tr>\n",
       "      <th>56</th>\n",
       "      <td>1</td>\n",
       "      <td>6</td>\n",
       "      <td>4</td>\n",
       "      <td>1</td>\n",
       "      <td>5</td>\n",
       "      <td>3</td>\n",
       "      <td>5</td>\n",
       "      <td>4205074</td>\n",
       "    </tr>\n",
       "    <tr>\n",
       "      <th>58</th>\n",
       "      <td>1</td>\n",
       "      <td>6</td>\n",
       "      <td>4</td>\n",
       "      <td>1</td>\n",
       "      <td>5</td>\n",
       "      <td>6</td>\n",
       "      <td>5</td>\n",
       "      <td>3944524</td>\n",
       "    </tr>\n",
       "    <tr>\n",
       "      <th>68</th>\n",
       "      <td>1</td>\n",
       "      <td>6</td>\n",
       "      <td>4</td>\n",
       "      <td>3</td>\n",
       "      <td>5</td>\n",
       "      <td>3</td>\n",
       "      <td>5</td>\n",
       "      <td>3414153</td>\n",
       "    </tr>\n",
       "  </tbody>\n",
       "</table>\n",
       "</div>"
      ],
      "text/plain": [
       "    Сессия каждые N дней  Количество уровней в сессию  \\\n",
       "56                     1                            6   \n",
       "58                     1                            6   \n",
       "68                     1                            6   \n",
       "\n",
       "    Показы рекламы принудительной каждые N уровней  \\\n",
       "56                                               4   \n",
       "58                                               4   \n",
       "68                                               4   \n",
       "\n",
       "    Просмотр рекламы за ежедневную награду каждую N игровую сессию  \\\n",
       "56                                                               1   \n",
       "58                                                               1   \n",
       "68                                                               3   \n",
       "\n",
       "    Просмотр рекламы для возрождения и др. за сессию  \\\n",
       "56                                                 5   \n",
       "58                                                 5   \n",
       "68                                                 5   \n",
       "\n",
       "    Покупка бустеров каждую N сессию  \\\n",
       "56                                 3   \n",
       "58                                 6   \n",
       "68                                 3   \n",
       "\n",
       "    Покупка декоративных элементов каждую N сессию   values  \n",
       "56                                               5  4205074  \n",
       "58                                               5  3944524  \n",
       "68                                               5  3414153  "
      ]
     },
     "execution_count": 75,
     "metadata": {},
     "output_type": "execute_result"
    }
   ],
   "source": [
    "res.sort_values('values',ascending=False).head(3)"
   ]
  },
  {
   "cell_type": "code",
   "execution_count": 76,
   "id": "0c430001",
   "metadata": {},
   "outputs": [
    {
     "name": "stdout",
     "output_type": "stream",
     "text": [
      "Requirement already satisfied: xgboost in c:\\users\\iryshkov\\anaconda3\\lib\\site-packages (1.6.1)\n",
      "Requirement already satisfied: numpy in c:\\users\\iryshkov\\anaconda3\\lib\\site-packages (from xgboost) (1.21.5)\n",
      "Requirement already satisfied: scipy in c:\\users\\iryshkov\\anaconda3\\lib\\site-packages (from xgboost) (1.7.3)\n",
      "Note: you may need to restart the kernel to use updated packages.\n"
     ]
    }
   ],
   "source": [
    "pip install xgboost"
   ]
  },
  {
   "cell_type": "code",
   "execution_count": 78,
   "id": "6c9a0ebc",
   "metadata": {},
   "outputs": [],
   "source": [
    "res.to_excel('unit.xlsx')"
   ]
  },
  {
   "cell_type": "code",
   "execution_count": null,
   "id": "3abe5c61",
   "metadata": {},
   "outputs": [],
   "source": []
  }
 ],
 "metadata": {
  "kernelspec": {
   "display_name": "Python 3 (ipykernel)",
   "language": "python",
   "name": "python3"
  },
  "language_info": {
   "codemirror_mode": {
    "name": "ipython",
    "version": 3
   },
   "file_extension": ".py",
   "mimetype": "text/x-python",
   "name": "python",
   "nbconvert_exporter": "python",
   "pygments_lexer": "ipython3",
   "version": "3.9.12"
  }
 },
 "nbformat": 4,
 "nbformat_minor": 5
}
