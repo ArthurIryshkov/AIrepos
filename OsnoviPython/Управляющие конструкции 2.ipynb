{
 "cells": [
  {
   "cell_type": "markdown",
   "id": "25900660",
   "metadata": {},
   "source": [
    "- Задание 1."
   ]
  },
  {
   "cell_type": "code",
   "execution_count": 1,
   "id": "0fedadcb",
   "metadata": {},
   "outputs": [
    {
     "name": "stdout",
     "output_type": "stream",
     "text": [
      "{98, 35, 15, 213, 54, 119}\n"
     ]
    }
   ],
   "source": [
    "ids = {'user1': [213, 213, 213, 15, 213], \n",
    "       'user2': [54, 54, 119, 119, 119], \n",
    "       'user3': [213, 98, 98, 35]}\n",
    "geo = []\n",
    "for value in ids.values():\n",
    "    geo.append(value)\n",
    "all_geo = []\n",
    "for i in range(len(geo)):\n",
    "    all_geo += geo[i]\n",
    "print(set(all_geo))\n"
   ]
  },
  {
   "cell_type": "markdown",
   "id": "7aae98ef",
   "metadata": {},
   "source": [
    "- Задание 2."
   ]
  },
  {
   "cell_type": "code",
   "execution_count": 3,
   "id": "4cf33c5f",
   "metadata": {},
   "outputs": [
    {
     "name": "stdout",
     "output_type": "stream",
     "text": [
      "Поисковых запросов, содержащих 2 слов(а): 42.86%\n",
      "Поисковых запросов, содержащих 3 слов(а): 57.14%\n"
     ]
    }
   ],
   "source": [
    "queries = [\n",
    "    'смотреть сериалы онлайн',\n",
    "    'новости спорта',\n",
    "    'афиша кино',\n",
    "    'курс доллара',\n",
    "    'сериалы этим летом',\n",
    "    'курс по питону',\n",
    "    'сериалы про спорт',\n",
    "]\n",
    "word_num = []\n",
    "for i in range(len(queries)):\n",
    "    count = len(queries[i].split(' '))\n",
    "    word_num.append(count)\n",
    "for i in set(word_num):\n",
    "    times = word_num.count(i) \n",
    "    freq = word_num.count(i) / len(queries)\n",
    "    print('Поисковых запросов, содержащих', i,'слов(а): {:.2%}'.format(freq))"
   ]
  },
  {
   "cell_type": "markdown",
   "id": "8a864107",
   "metadata": {},
   "source": [
    "- Задание 3."
   ]
  },
  {
   "cell_type": "code",
   "execution_count": 18,
   "id": "cae36e8f",
   "metadata": {},
   "outputs": [
    {
     "name": "stdout",
     "output_type": "stream",
     "text": [
      "vk {'revenue': 103, 'cost': 98, 'ROI': 5.1}\n",
      "yandex {'revenue': 179, 'cost': 153, 'ROI': 16.99}\n",
      "facebook {'revenue': 103, 'cost': 110, 'ROI': -6.36}\n",
      "adwords {'revenue': 35, 'cost': 34, 'ROI': 2.94}\n",
      "twitter {'revenue': 11, 'cost': 24, 'ROI': -54.17}\n"
     ]
    }
   ],
   "source": [
    "results = {\n",
    "    'vk': {'revenue': 103, 'cost': 98},\n",
    "    'yandex': {'revenue': 179, 'cost': 153},\n",
    "    'facebook': {'revenue': 103, 'cost': 110},\n",
    "    'adwords': {'revenue': 35, 'cost': 34},\n",
    "    'twitter': {'revenue': 11, 'cost': 24},\n",
    "}\n",
    "\n",
    "roi = []\n",
    "for site, value in results.items():\n",
    "    x = round((value['revenue']/value['cost'] - 1) * 100, 2)\n",
    "    roi.append(x)\n",
    "j = 0 \n",
    "for site, info in results.items():\n",
    "    info['ROI'] = roi[j]\n",
    "    j += 1\n",
    "    print (site, info)\n",
    "    \n",
    "#или \n",
    "#print(results)?\n",
    "\n",
    "\n"
   ]
  },
  {
   "cell_type": "markdown",
   "id": "1d13890f",
   "metadata": {},
   "source": [
    "- Задание 4."
   ]
  },
  {
   "cell_type": "code",
   "execution_count": 2,
   "id": "f61dd423",
   "metadata": {},
   "outputs": [
    {
     "name": "stdout",
     "output_type": "stream",
     "text": [
      "Максимальный объем продаж на рекламном канале: facebook, vk\n"
     ]
    }
   ],
   "source": [
    "stats = {\n",
    "    'facebook': 200, \n",
    "    'yandex': 115,\n",
    "    'vk': 200, \n",
    "    'google': 99, \n",
    "    'email': 42, \n",
    "    'ok': 98}\n",
    "\n",
    "max_val = max(stats.values())\n",
    "max_dict = {k: v for k, v in stats.items() if v == max_val}\n",
    "print('Максимальный объем продаж на рекламном канале:',', '.join(list(max_dict.keys())))"
   ]
  },
  {
   "cell_type": "code",
   "execution_count": null,
   "id": "ceeedac3",
   "metadata": {},
   "outputs": [],
   "source": []
  }
 ],
 "metadata": {
  "kernelspec": {
   "display_name": "Python 3",
   "language": "python",
   "name": "python3"
  },
  "language_info": {
   "codemirror_mode": {
    "name": "ipython",
    "version": 3
   },
   "file_extension": ".py",
   "mimetype": "text/x-python",
   "name": "python",
   "nbconvert_exporter": "python",
   "pygments_lexer": "ipython3",
   "version": "3.8.8"
  }
 },
 "nbformat": 4,
 "nbformat_minor": 5
}
